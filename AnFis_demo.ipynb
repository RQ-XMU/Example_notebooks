{
 "cells": [
  {
   "cell_type": "markdown",
   "metadata": {},
   "source": [
    "An example of using ANFIS technology"
   ]
  },
  {
   "cell_type": "markdown",
   "metadata": {},
   "source": [
    "## Membership function"
   ]
  },
  {
   "cell_type": "code",
   "execution_count": 2,
   "metadata": {},
   "outputs": [],
   "source": [
    "# -*- coding: utf-8 -*-\n",
    "\"\"\"\n",
    "Created on Mon Mar 31 15:41:58 2014\n",
    "\n",
    "@author: tim.meggs\n",
    "\"\"\"\n",
    "\n",
    "from skfuzzy import gaussmf, gbellmf, sigmf\n",
    "\n",
    "class MemFuncs:\n",
    "    \"\"\"Common base class for all employees\"\"\"\n",
    "    \n",
    "    funcDict = {'gaussmf': gaussmf, 'gbellmf': gbellmf, 'sigmf': sigmf}\n",
    "\n",
    "    def __init__(self, MFList):\n",
    "        self.MFList = MFList\n",
    "\n",
    "    def evaluateMF(self, rowInput):\n",
    "        if len(rowInput) != len(self.MFList):\n",
    "            print(\"Number of variables does not match number of rule sets\")\n",
    "            \n",
    "        return [\n",
    "            [\n",
    "                self.funcDict[\n",
    "                    self.MFList[i][k][0]\n",
    "                ](rowInput[i],**self.MFList[i][k][1]) \n",
    "                for k in range(len(self.MFList[i]))\n",
    "            ] \n",
    "            for i in range(len(rowInput))\n",
    "        ]"
   ]
  },
  {
   "cell_type": "markdown",
   "metadata": {},
   "source": [
    "## Membership function derivative\n",
    "### Gaussian fuzzy membership function\n",
    "#### Definition\n",
    "$$\n",
    "\\mu_{\\mu, \\sigma}(x)=\\exp \\left(-\\frac{(x-\\mu)^2}{2\\sigma^2}\\right)\n",
    "$$\n",
    "#### Derivatives\n",
    "$$\n",
    "\\frac{\\partial \\mu_{\\mu, \\sigma}(x)}{\\partial x} = \\mu_{\\mu, \\sigma}(x)\\cdot\\frac{\\mu-x}{\\sigma^2}\\\\\n",
    "\\frac{\\partial \\mu_{\\mu, \\sigma}(x)}{\\partial \\mu} = \\mu_{\\mu, \\sigma}(x)\\cdot\\frac{\\mu-x}{\\sigma^2}\\\\\n",
    "\\frac{\\partial \\mu_{\\mu, \\sigma}(x)}{\\partial \\sigma} = \\mu_{\\mu, \\sigma}(x)\\frac{(x-\\mu)^2}{\\sigma^3}\n",
    "$$\n",
    "#### Graph"
   ]
  },
  {
   "cell_type": "code",
   "execution_count": 9,
   "metadata": {},
   "outputs": [
    {
     "data": {
      "image/png": "[encoded data removed]",
      "text/plain": [
       "<matplotlib.figure.Figure at 0x7eff9f068f60>"
      ]
     },
     "metadata": {},
     "output_type": "display_data"
    }
   ],
   "source": [
    "import numpy as np\n",
    "import matplotlib.pyplot as plt\n",
    "%matplotlib inline\n",
    "\n",
    "x = np.array(range(-500,500))/100\n",
    "mean = -0.5\n",
    "sigma = 2\n",
    "\n",
    "y = np.exp(-((x - mean)**2.) / (2 * sigma**2.))\n",
    "\n",
    "plt.plot(x,y,'b')\n",
    "plt.grid(True)"
   ]
  },
  {
   "cell_type": "markdown",
   "metadata": {},
   "source": [
    "### Generalized Bell membership function \n",
    "#### Definition\n",
    "$$\n",
    "\\displaystyle \\mu_{a,b,c}(x) = \\frac{1}{1+\\left|\\frac{x-c}{a}\\right|^{2b}}\n",
    "$$\n",
    "#### Derivatives\n",
    "$$\n",
    "\\frac{\\partial \\mu_{a,b,c}(x)}{\\partial x} = -\\frac{1}{\\mu_{a,b,c}^2(x)}\\left|\\frac{x-c}{a}\\right|^{2b-2}\\frac{2b(c-x)}{a^2}\\\\\n",
    "\\frac{\\partial \\mu_{a,b,c}(x)}{\\partial c} = -\\frac{1}{\\mu_{a,b,c}^2(x)}\\left|\\frac{x-c}{a}\\right|^{2b-2}\\frac{2b(c-x)}{a^2}\\\\\n",
    "\\frac{\\partial \\mu_{a,b,c}(x)}{\\partial a} = -\\frac{1}{\\mu_{a,b,c}^2(x)}\\left|\\frac{x-c}{a}\\right|^{2b}\\frac{2b}{a}\\\\\n",
    "\\frac{\\partial \\mu_{a,b,c}(x)}{\\partial b} = -\\frac{1}{\\mu_{a,b,c}^2(x)}\\left|\\frac{x-c}{a}\\right|^{2b}\\cdot 2\\ln\\left|\\frac{x-c}{a}\\right|\n",
    "$$\n",
    "#### Graph"
   ]
  },
  {
   "cell_type": "code",
   "execution_count": 15,
   "metadata": {},
   "outputs": [
    {
     "data": {
      "image/png": "[encoded data removed]",
      "text/plain": [
       "<matplotlib.figure.Figure at 0x7eff9e6a3710>"
      ]
     },
     "metadata": {},
     "output_type": "display_data"
    }
   ],
   "source": [
    "a = 0.5\n",
    "b = 1\n",
    "c = 2\n",
    "y_2 = 1. / (1. + np.abs((x - c) / a) ** (2 * b))\n",
    "plt.plot(x,y_2,'g')\n",
    "plt.grid(True)"
   ]
  },
  {
   "cell_type": "markdown",
   "metadata": {},
   "source": [
    "### Generalized Bell membership function \n",
    "#### Definition\n",
    "\n",
    "$$\n",
    "\\mu_{b,c}(x) = \\frac{1}{1+e^{-c(x-b)}}\n",
    "$$\n",
    "#### Derivatives\n",
    "$$\n",
    "\\frac{\\partial \\mu_{b,c}(x)}{\\partial x} = \\frac{c\\cdot e^{-c(x-b)}}{\\mu^2_{b,c}(x)}\\\\\n",
    "\\frac{\\partial \\mu_{b,c}(x)}{\\partial b} = \\frac{-c \\cdot e^{-c(x-b)}}{\\mu^2_{b,c}(x)}\\\\\n",
    "\\frac{\\partial \\mu_{b,c}(x)}{\\partial c} = \\frac{(x-b)\\cdot e^{-c(x-b)}}{\\mu^2_{b,c}(x)}\n",
    "$$\n",
    "#### Graph"
   ]
  },
  {
   "cell_type": "code",
   "execution_count": 18,
   "metadata": {},
   "outputs": [
    {
     "data": {
      "image/png": "[encoded data removed]",
      "text/plain": [
       "<matplotlib.figure.Figure at 0x7eff9e468b70>"
      ]
     },
     "metadata": {},
     "output_type": "display_data"
    }
   ],
   "source": [
    "b = 0\n",
    "c = 2\n",
    "y_3 = 1. / (1. + np.exp(- c * (x - b)))\n",
    "plt.plot(x,y_3,'m')\n",
    "plt.grid(True)"
   ]
  },
  {
   "cell_type": "code",
   "execution_count": 19,
   "metadata": {},
   "outputs": [],
   "source": [
    "import numpy as np\n",
    "\n",
    "\n",
    "def partial_dMF(x, mf_definition, partial_parameter):\n",
    "    \"\"\"Calculates the partial derivative of a membership function at a point x.\n",
    "    Parameters\n",
    "    ------\n",
    "    Returns\n",
    "    ------\n",
    "    \"\"\"\n",
    "    mf_name = mf_definition[0]\n",
    "\n",
    "    if mf_name == 'gaussmf':\n",
    "\n",
    "        sigma = mf_definition[1]['sigma']\n",
    "        mean = mf_definition[1]['mean']\n",
    "\n",
    "        if partial_parameter == 'sigma':\n",
    "            result = (2./sigma**3) * np.exp(-(((x-mean)**2)/(sigma)**2))*(x-mean)**2\n",
    "        elif partial_parameter == 'mean':\n",
    "            result = (2./sigma**2) * np.exp(-(((x-mean)**2)/(sigma)**2))*(x-mean)\n",
    "\n",
    "    elif mf_name == 'gbellmf':\n",
    "\n",
    "        a = mf_definition[1]['a']\n",
    "        b = mf_definition[1]['b']\n",
    "        c = mf_definition[1]['c']\n",
    "\n",
    "        if partial_parameter == 'a':\n",
    "            result = (2. * b * np.power((c-x),2) * np.power(np.absolute((c-x)/a), ((2 * b) - 2))) / \\\n",
    "                (np.power(a, 3) * np.power((np.power(np.absolute((c-x)/a),(2*b)) + 1), 2))\n",
    "        elif partial_parameter == 'b':\n",
    "            result = -1 * (2 * np.power(np.absolute((c-x)/a), (2 * b)) * np.log(np.absolute((c-x)/a))) / \\\n",
    "                (np.power((np.power(np.absolute((c-x)/a), (2 * b)) + 1), 2))\n",
    "        elif partial_parameter == 'c':\n",
    "            result = (2. * b * (c-x) * np.power(np.absolute((c-x)/a), ((2 * b) - 2))) / \\\n",
    "                (np.power(a, 2) * np.power((np.power(np.absolute((c-x)/a),(2*b)) + 1), 2))\n",
    "\n",
    "    elif mf_name == 'sigmf':\n",
    "\n",
    "        b = mf_definition[1]['b']\n",
    "        c = mf_definition[1]['c']\n",
    "\n",
    "        if partial_parameter == 'b':\n",
    "            result = -c * np.exp(c * (b - x)) / \\\n",
    "                np.power(np.exp(c * (b - x))+1, 2)\n",
    "        elif partial_parameter == 'c':\n",
    "            result = ((x - b) * np.exp(c * (b - x))) / \\\n",
    "                np.power(np.exp(c*(b-x)) + 1, 2)\n",
    "\n",
    "\n",
    "    return result"
   ]
  },
  {
   "cell_type": "code",
   "execution_count": null,
   "metadata": {},
   "outputs": [],
   "source": []
  }
 ],
 "metadata": {
  "kernelspec": {
   "display_name": "Python 3",
   "language": "python",
   "name": "python3"
  },
  "language_info": {
   "codemirror_mode": {
    "name": "ipython",
    "version": 3
   },
   "file_extension": ".py",
   "mimetype": "text/x-python",
   "name": "python",
   "nbconvert_exporter": "python",
   "pygments_lexer": "ipython3",
   "version": "3.6.4"
  }
 },
 "nbformat": 4,
 "nbformat_minor": 2
}
