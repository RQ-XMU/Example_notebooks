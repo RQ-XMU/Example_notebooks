{
 "cells": [
  {
   "cell_type": "markdown",
   "metadata": {},
   "source": [
    "# Implementing LSTM Neural Network from Scratch\n",
    "Dataset = Us Baby's First Names<br>\n",
    "Link = https://www.kaggle.com/chr7stos/us-names-babies-and-presindent-names/data"
   ]
  },
  {
   "cell_type": "markdown",
   "metadata": {},
   "source": [
    "## Import Required Libraries"
   ]
  },
  {
   "cell_type": "code",
   "execution_count": 1,
   "metadata": {},
   "outputs": [],
   "source": [
    "import numpy as np  # for math\n",
    "import pandas as pd  # for data manipulation\n",
    "import matplotlib.pyplot as plt  # for visulization\n",
    "%matplotlib inline"
   ]
  },
  {
   "cell_type": "markdown",
   "metadata": {},
   "source": [
    "## Load the data"
   ]
  },
  {
   "cell_type": "code",
   "execution_count": 2,
   "metadata": {},
   "outputs": [],
   "source": [
    "# full data\n",
    "data = pd.read_csv(\"NationalNames.csv\")"
   ]
  },
  {
   "cell_type": "code",
   "execution_count": 3,
   "metadata": {},
   "outputs": [
    {
     "name": "stdout",
     "output_type": "stream",
     "text": [
      "<class 'pandas.core.frame.DataFrame'>\n",
      "RangeIndex: 1825433 entries, 0 to 1825432\n",
      "Data columns (total 5 columns):\n",
      "Id        int64\n",
      "Name      object\n",
      "Year      int64\n",
      "Gender    object\n",
      "Count     int64\n",
      "dtypes: int64(3), object(2)\n",
      "memory usage: 69.6+ MB\n"
     ]
    }
   ],
   "source": [
    "data.info()"
   ]
  },
  {
   "cell_type": "code",
   "execution_count": 4,
   "metadata": {},
   "outputs": [
    {
     "data": {
      "text/html": [
       "<div>\n",
       "<style scoped>\n",
       "    .dataframe tbody tr th:only-of-type {\n",
       "        vertical-align: middle;\n",
       "    }\n",
       "\n",
       "    .dataframe tbody tr th {\n",
       "        vertical-align: top;\n",
       "    }\n",
       "\n",
       "    .dataframe thead th {\n",
       "        text-align: right;\n",
       "    }\n",
       "</style>\n",
       "<table border=\"1\" class=\"dataframe\">\n",
       "  <thead>\n",
       "    <tr style=\"text-align: right;\">\n",
       "      <th></th>\n",
       "      <th>Id</th>\n",
       "      <th>Name</th>\n",
       "      <th>Year</th>\n",
       "      <th>Gender</th>\n",
       "      <th>Count</th>\n",
       "    </tr>\n",
       "  </thead>\n",
       "  <tbody>\n",
       "    <tr>\n",
       "      <th>0</th>\n",
       "      <td>1</td>\n",
       "      <td>Mary</td>\n",
       "      <td>1880</td>\n",
       "      <td>F</td>\n",
       "      <td>7065</td>\n",
       "    </tr>\n",
       "    <tr>\n",
       "      <th>1</th>\n",
       "      <td>2</td>\n",
       "      <td>Anna</td>\n",
       "      <td>1880</td>\n",
       "      <td>F</td>\n",
       "      <td>2604</td>\n",
       "    </tr>\n",
       "    <tr>\n",
       "      <th>2</th>\n",
       "      <td>3</td>\n",
       "      <td>Emma</td>\n",
       "      <td>1880</td>\n",
       "      <td>F</td>\n",
       "      <td>2003</td>\n",
       "    </tr>\n",
       "    <tr>\n",
       "      <th>3</th>\n",
       "      <td>4</td>\n",
       "      <td>Elizabeth</td>\n",
       "      <td>1880</td>\n",
       "      <td>F</td>\n",
       "      <td>1939</td>\n",
       "    </tr>\n",
       "    <tr>\n",
       "      <th>4</th>\n",
       "      <td>5</td>\n",
       "      <td>Minnie</td>\n",
       "      <td>1880</td>\n",
       "      <td>F</td>\n",
       "      <td>1746</td>\n",
       "    </tr>\n",
       "  </tbody>\n",
       "</table>\n",
       "</div>"
      ],
      "text/plain": [
       "   Id       Name  Year Gender  Count\n",
       "0   1       Mary  1880      F   7065\n",
       "1   2       Anna  1880      F   2604\n",
       "2   3       Emma  1880      F   2003\n",
       "3   4  Elizabeth  1880      F   1939\n",
       "4   5     Minnie  1880      F   1746"
      ]
     },
     "execution_count": 4,
     "metadata": {},
     "output_type": "execute_result"
    }
   ],
   "source": [
    "data.head()"
   ]
  },
  {
   "cell_type": "code",
   "execution_count": 5,
   "metadata": {},
   "outputs": [],
   "source": [
    "# get first 10000 names and convert to lower case\n",
    "data = np.array(data.Name.apply(lambda x: x.lower()))[0:10000].reshape(-1,1)"
   ]
  },
  {
   "cell_type": "code",
   "execution_count": 6,
   "metadata": {},
   "outputs": [
    {
     "name": "stdout",
     "output_type": "stream",
     "text": [
      "Data Shape = (10000, 1)\n",
      "------------------------------\n",
      "Lets see some names : \n",
      "[['anna']\n",
      " ['emma']\n",
      " ['elizabeth']\n",
      " ['minnie']\n",
      " ['margaret']\n",
      " ['ida']\n",
      " ['alice']\n",
      " ['bertha']\n",
      " ['sarah']]\n"
     ]
    }
   ],
   "source": [
    "print(\"Data Shape = {}\".format(data.shape))\n",
    "print('-'*30)\n",
    "print(\"Lets see some names : \")\n",
    "print(data[1:10])"
   ]
  },
  {
   "cell_type": "markdown",
   "metadata": {},
   "source": [
    "## Transform the names to equal length by adding -- > ('.') dots"
   ]
  },
  {
   "cell_type": "code",
   "execution_count": 7,
   "metadata": {},
   "outputs": [],
   "source": [
    "max_len = np.apply_along_axis(lambda x: len(x[0]), -1, data).max()\n",
    "transform_data = np.apply_along_axis(lambda x: x[0] + '.'*(max_len-len(x[0])), -1, data).reshape(-1,1)"
   ]
  },
  {
   "cell_type": "code",
   "execution_count": 8,
   "metadata": {},
   "outputs": [
    {
     "name": "stdout",
     "output_type": "stream",
     "text": [
      "Transformed Data\n",
      "[['anna........']\n",
      " ['emma........']\n",
      " ['elizabeth...']\n",
      " ['minnie......']\n",
      " ['margaret....']\n",
      " ['ida.........']\n",
      " ['alice.......']\n",
      " ['bertha......']\n",
      " ['sarah.......']]\n"
     ]
    }
   ],
   "source": [
    "print(\"Transformed Data\")\n",
    "print(transform_data[1:10])"
   ]
  },
  {
   "cell_type": "markdown",
   "metadata": {},
   "source": [
    "## Lets Make Vocabulary"
   ]
  },
  {
   "cell_type": "code",
   "execution_count": 11,
   "metadata": {},
   "outputs": [
    {
     "name": "stdout",
     "output_type": "stream",
     "text": [
      "Vocab size = 27\n",
      "Vocab      = ['.', 'a', 'b', 'c', 'd', 'e', 'f', 'g', 'h', 'i', 'j', 'k', 'l', 'm', 'n', 'o', 'p', 'q', 'r', 's', 't', 'u', 'v', 'w', 'x', 'y', 'z']\n"
     ]
    }
   ],
   "source": [
    "vocab = []\n",
    "for name in transform_data[:,0]:\n",
    "    vocab.extend(list(name))\n",
    "vocab = sorted(list(set(vocab)))\n",
    "\n",
    "print(\"Vocab size = {}\".format(len(vocab)))\n",
    "print(\"Vocab      = {}\".format(vocab))"
   ]
  },
  {
   "cell_type": "markdown",
   "metadata": {},
   "source": [
    "## Map characters to ids and ids to characters"
   ]
  },
  {
   "cell_type": "code",
   "execution_count": 12,
   "metadata": {},
   "outputs": [
    {
     "name": "stdout",
     "output_type": "stream",
     "text": [
      "{'.': 0, 'a': 1, 'b': 2, 'c': 3, 'd': 4, 'e': 5, 'f': 6, 'g': 7, 'h': 8, 'i': 9, 'j': 10, 'k': 11, 'l': 12, 'm': 13, 'n': 14, 'o': 15, 'p': 16, 'q': 17, 'r': 18, 's': 19, 't': 20, 'u': 21, 'v': 22, 'w': 23, 'x': 24, 'y': 25, 'z': 26}\n",
      "{0: '.', 1: 'a', 2: 'b', 3: 'c', 4: 'd', 5: 'e', 6: 'f', 7: 'g', 8: 'h', 9: 'i', 10: 'j', 11: 'k', 12: 'l', 13: 'm', 14: 'n', 15: 'o', 16: 'p', 17: 'q', 18: 'r', 19: 's', 20: 't', 21: 'u', 22: 'v', 23: 'w', 24: 'x', 25: 'y', 26: 'z'}\n"
     ]
    }
   ],
   "source": [
    "#map char to id and id to chars\n",
    "char_id = dict()\n",
    "id_char = dict()\n",
    "\n",
    "for i,char in enumerate(vocab):\n",
    "    char_id[char] = i\n",
    "    id_char[i] = char\n",
    "\n",
    "print(char_id)\n",
    "print(id_char)"
   ]
  },
  {
   "cell_type": "markdown",
   "metadata": {},
   "source": [
    "## Make the Train dataset\n",
    "\n",
    "Example<br>\n",
    "**Names:** - $[[\\text{'mary.'}],[\\text{'anna.'}]]$ <br>\n",
    "**Character encoding:** <br>\n",
    "\n",
    "| Character | Index | One-hot encoding |\n",
    "|-----------|:-----:|------------------|\n",
    "|    'm'    |   3   |   [0,0,0,1,0,0]  |\n",
    "|    'a'    |   2   |   [0,0,1,0,0,0]  |\n",
    "|    'r'    |   1   |   [0,1,0,0,0,0]  |\n",
    "|    'y'    |   4   |   [0,0,0,0,1,0]  |\n",
    "|    'n'    |   5   |   [0,0,0,0,0,1]  |\n",
    "|    '.'    |   0   |   [1,0,0,0,0,0]  |\n",
    "\n",
    "['mary.'] = [[0,0,0,1,0,0], [0,0,1,0,0,0], [0,1,0,0,0,0], [0,0,0,0,1,0], [1,0,0,0,0,0]] <br>\n",
    "['anna.'] = [[0,0,1,0,0,0], [0,0,0,0,0,1], [0,0,0,0,0,1], [0,0,1,0,0,0], [1,0,0,0,0,0]] <br>\n",
    "\n",
    "We have total 27 characters, so each character will be encode as a 27-D vector, with one element is 1 as char_id, otherwise is 0 <br>\n",
    "'.' = [1,0,0,0,0,0,0,0,0,0,0,0,0,0,0,0,0,0,0,0,0,0,0,0,0,0,0] <br>\n",
    "\n",
    "batch_dataset<br> = [['m', 'a'], ['a', 'n'], ['r', 'n'], ['y', 'a'], ['.', '.']]<br>\n",
    "= [<br>\n",
    "[[0,0,0,1,0,0], [0,0,1,0,0,0]],<br>\n",
    "[[0,0,1,0,0,0], [0,0,0,0,0,1]],<br>\n",
    "[[0,1,0,0,0,0], [0,0,0,0,0,1]],<br>\n",
    "[[0,0,0,0,1,0], [0,0,1,0,0,0]],<br>\n",
    "[[1,0,0,0,0,0], [1,0,0,0,0,0]],<br>\n",
    "]\n",
    "\n",
    "We have a batch of 2 names, each have 5 characters, each character is encoded to a 6-D one-hot vector <br>\n",
    "Shape = (1, 5, 2, 6)<br>\n",
    "\n",
    "In data set we have 10000 name, 12 characters of each, each character is a 27-D, <br> if batch size = 20 then data train will have shape (500, 12, 20, 27)"
   ]
  },
  {
   "cell_type": "code",
   "execution_count": 28,
   "metadata": {},
   "outputs": [],
   "source": [
    "# list of batches of size = 20\n",
    "train_dataset = []\n",
    "\n",
    "batch_size = 20\n",
    "\n",
    "#split the trasnform data into batches of 20\n",
    "for i in range(len(transform_data)-batch_size+1):\n",
    "#     print(i)\n",
    "    start = i*batch_size\n",
    "    end = start+batch_size\n",
    "    \n",
    "    #batch data\n",
    "    batch_data = transform_data[start:end]\n",
    "    \n",
    "    if(len(batch_data)!=batch_size):\n",
    "        break\n",
    "        \n",
    "    #convert each char of each name of batch data into one hot encoding\n",
    "    char_list = []\n",
    "    for k in range(len(batch_data[0][0])):\n",
    "        batch_dataset = np.zeros([batch_size,len(vocab)])\n",
    "        for j in range(batch_size):\n",
    "            name = batch_data[j][0]\n",
    "            char_index = char_id[name[k]]\n",
    "            batch_dataset[j,char_index] = 1.0\n",
    "     \n",
    "        #store the ith char's one hot representation of each name in batch_data\n",
    "        char_list.append(batch_dataset)\n",
    "    \n",
    "    #store each char's of every name in batch dataset into train_dataset\n",
    "    train_dataset.append(char_list)"
   ]
  },
  {
   "cell_type": "code",
   "execution_count": 55,
   "metadata": {},
   "outputs": [],
   "source": [
    "batch_size = 20\n",
    "\n",
    "batch_numbers = len(transform_data)//batch_size\n",
    "if batch_size * batch_numbers < len(transform_data):\n",
    "    batch_numbers +=1\n",
    "    \n",
    "max_name_len = max_len\n",
    "one_hot_dimenssion = len(vocab)\n",
    "train_data = np.zeros((batch_numbers, max_name_len, batch_size, one_hot_dimenssion))\n",
    "\n",
    "for batch_id in range(batch_numbers):\n",
    "    start_batch_id = batch_id * batch_size\n",
    "    end_batch_id = start_batch_id + batch_size\n",
    "    \n",
    "    batch_train = transform_data[start_batch_id: end_batch_id]\n",
    "    \n",
    "    for name_id in range(batch_size):\n",
    "        name = batch_train[name_id][0]\n",
    "        \n",
    "        for char_idd in range(max_name_len):\n",
    "            char = list(name)[char_idd]\n",
    "            \n",
    "            first = batch_id\n",
    "            second = char_idd\n",
    "            third = name_id\n",
    "            fourth = char_id[char]\n",
    "            \n",
    "            train_data[first, second, third, fourth] = 1\n",
    "            "
   ]
  },
  {
   "cell_type": "code",
   "execution_count": 66,
   "metadata": {},
   "outputs": [
    {
     "data": {
      "text/plain": [
       "True"
      ]
     },
     "execution_count": 66,
     "metadata": {},
     "output_type": "execute_result"
    }
   ],
   "source": [
    "(train_dataset == train_data).min()"
   ]
  },
  {
   "cell_type": "code",
   "execution_count": null,
   "metadata": {},
   "outputs": [],
   "source": []
  }
 ],
 "metadata": {
  "kernelspec": {
   "display_name": "Python 3",
   "language": "python",
   "name": "python3"
  },
  "language_info": {
   "codemirror_mode": {
    "name": "ipython",
    "version": 3
   },
   "file_extension": ".py",
   "mimetype": "text/x-python",
   "name": "python",
   "nbconvert_exporter": "python",
   "pygments_lexer": "ipython3",
   "version": "3.6.6"
  }
 },
 "nbformat": 4,
 "nbformat_minor": 2
}
