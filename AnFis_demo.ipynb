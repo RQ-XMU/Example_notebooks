{
 "cells": [
  {
   "cell_type": "markdown",
   "metadata": {},
   "source": [
    "An example of using ANFIS technology\n",
    "![](https://i.imgur.com/WFxiIXI.png)"
   ]
  },
  {
   "cell_type": "code",
   "execution_count": 1,
   "metadata": {},
   "outputs": [],
   "source": [
    "import numpy as np\n",
    "import matplotlib.pyplot as plt\n",
    "%matplotlib inline\n",
    "import itertools\n",
    "import copy\n",
    "from sklearn.metrics import mean_absolute_error"
   ]
  },
  {
   "cell_type": "markdown",
   "metadata": {},
   "source": [
    "## Membership functions Definition\n",
    "### Gaussian fuzzy membership function\n",
    "$$\n",
    "\\mu_{\\mu, \\sigma}(x)=\\exp \\left(-\\frac{(x-\\mu)^2}{2\\sigma^2}\\right)\n",
    "$$\n",
    "#### Derivatives\n",
    "$$\n",
    "\\frac{\\partial \\mu_{\\mu, \\sigma}(x)}{\\partial x} = \\mu_{\\mu, \\sigma}(x)\\cdot\\frac{\\mu-x}{\\sigma^2}\\\\\n",
    "\\frac{\\partial \\mu_{\\mu, \\sigma}(x)}{\\partial \\mu} = \\mu_{\\mu, \\sigma}(x)\\cdot\\frac{x-\\mu}{\\sigma^2}\\\\\n",
    "\\frac{\\partial \\mu_{\\mu, \\sigma}(x)}{\\partial \\sigma} = \\mu_{\\mu, \\sigma}(x)\\frac{(x-\\mu)^2}{\\sigma^3}\n",
    "$$"
   ]
  },
  {
   "cell_type": "markdown",
   "metadata": {},
   "source": [
    "### Generalized Bell membership function \n",
    "$$\n",
    "\\displaystyle \\mu_{a,b,c}(x) = \\frac{1}{1+\\left|\\frac{x-c}{a}\\right|^{2b}}\n",
    "$$\n",
    "#### Derivatives\n",
    "$$\n",
    "\\frac{\\partial \\mu_{a,b,c}(x)}{\\partial x} = -\\frac{1}{\\mu_{a,b,c}^2(x)}\\left|\\frac{x-c}{a}\\right|^{2b-2}\\frac{2b(c-x)}{a^2}\\\\\n",
    "\\frac{\\partial \\mu_{a,b,c}(x)}{\\partial c} = -\\frac{1}{\\mu_{a,b,c}^2(x)}\\left|\\frac{x-c}{a}\\right|^{2b-2}\\frac{2b(c-x)}{a^2}\\\\\n",
    "\\frac{\\partial \\mu_{a,b,c}(x)}{\\partial a} = -\\frac{1}{\\mu_{a,b,c}^2(x)}\\left|\\frac{x-c}{a}\\right|^{2b}\\frac{2b}{a}\\\\\n",
    "\\frac{\\partial \\mu_{a,b,c}(x)}{\\partial b} = -\\frac{1}{\\mu_{a,b,c}^2(x)}\\left|\\frac{x-c}{a}\\right|^{2b}\\cdot 2\\ln\\left|\\frac{x-c}{a}\\right|\n",
    "$$"
   ]
  },
  {
   "cell_type": "markdown",
   "metadata": {},
   "source": [
    "### Generalized sigmoid membership function \n",
    "$$\n",
    "\\mu_{b,c}(x) = \\frac{1}{1+e^{-c(x-b)}}\n",
    "$$\n",
    "#### Derivatives\n",
    "$$\n",
    "\\frac{\\partial \\mu_{b,c}(x)}{\\partial x} = \\frac{c\\cdot e^{-c(x-b)}}{\\mu^2_{b,c}(x)}\\\\\n",
    "\\frac{\\partial \\mu_{b,c}(x)}{\\partial b} = \\frac{-c \\cdot e^{-c(x-b)}}{\\mu^2_{b,c}(x)}\\\\\n",
    "\\frac{\\partial \\mu_{b,c}(x)}{\\partial c} = \\frac{(x-b)\\cdot e^{-c(x-b)}}{\\mu^2_{b,c}(x)}\n",
    "$$"
   ]
  },
  {
   "cell_type": "markdown",
   "metadata": {},
   "source": [
    "## Membership functions Implement"
   ]
  },
  {
   "cell_type": "code",
   "execution_count": 2,
   "metadata": {},
   "outputs": [],
   "source": [
    "def gaussmf(x, mean, sigma):\n",
    "    \"\"\"\n",
    "    Gaussian fuzzy membership function.\n",
    "\n",
    "    Parameters\n",
    "    ----------\n",
    "    x : 1d array or iterable\n",
    "        Independent variable.\n",
    "    mean : float\n",
    "        Gaussian parameter for center (mean) value.\n",
    "    sigma : float\n",
    "        Gaussian parameter for standard deviation.\n",
    "\n",
    "    Returns\n",
    "    -------\n",
    "    y : 1d array\n",
    "        Gaussian membership function for x.\n",
    "    \"\"\"\n",
    "    return np.exp(-((x - mean)**2.) / (2 * sigma**2.))"
   ]
  },
  {
   "cell_type": "code",
   "execution_count": 3,
   "metadata": {},
   "outputs": [],
   "source": [
    "def gbellmf(x, a, b, c):\n",
    "    \"\"\"\n",
    "    Generalized Bell function fuzzy membership generator.\n",
    "\n",
    "    Parameters\n",
    "    ----------\n",
    "    x : 1d array\n",
    "        Independent variable.\n",
    "    a : float\n",
    "        Bell function parameter controlling width. See Note for definition.\n",
    "    b : float\n",
    "        Bell function parameter controlling slope. See Note for definition.\n",
    "    c : float\n",
    "        Bell function parameter defining the center. See Note for definition.\n",
    "\n",
    "    Returns\n",
    "    -------\n",
    "    y : 1d array\n",
    "        Generalized Bell fuzzy membership function.\n",
    "\n",
    "    Notes\n",
    "    -----\n",
    "    Definition of Generalized Bell function is:\n",
    "\n",
    "        y(x) = 1 / (1 + abs([x - c] / a) ** [2 * b])\n",
    "    \"\"\"\n",
    "    return 1. / (1. + np.abs((x - c) / a) ** (2 * b))"
   ]
  },
  {
   "cell_type": "code",
   "execution_count": 4,
   "metadata": {},
   "outputs": [],
   "source": [
    "def sigmf(x, b, c):\n",
    "    \"\"\"\n",
    "    The basic sigmoid membership function generator.\n",
    "\n",
    "    Parameters\n",
    "    ----------\n",
    "    x : 1d array\n",
    "        Data vector for independent variable.\n",
    "    b : float\n",
    "        Offset or bias.  This is the center value of the sigmoid, where it\n",
    "        equals 1/2.\n",
    "    c : float\n",
    "        Controls 'width' of the sigmoidal region about `b` (magnitude); also\n",
    "        which side of the function is open (sign). A positive value of `a`\n",
    "        means the left side approaches 0.0 while the right side approaches 1.;\n",
    "        a negative value of `c` means the opposite.\n",
    "\n",
    "    Returns\n",
    "    -------\n",
    "    y : 1d array\n",
    "        Generated sigmoid values, defined as y = 1 / (1. + exp[- c * (x - b)])\n",
    "\n",
    "    Notes\n",
    "    -----\n",
    "    These are the same values, provided separately and in the opposite order\n",
    "    compared to the publicly available MathWorks' Fuzzy Logic Toolbox\n",
    "    documentation. Pay close attention to above docstring!\n",
    "    \"\"\"\n",
    "    return 1. / (1. + np.exp(- c * (x - b)))"
   ]
  },
  {
   "cell_type": "markdown",
   "metadata": {},
   "source": [
    "#### Graph"
   ]
  },
  {
   "cell_type": "code",
   "execution_count": 5,
   "metadata": {},
   "outputs": [
    {
     "data": {
      "text/plain": [
       "<matplotlib.legend.Legend at 0x7f219622e630>"
      ]
     },
     "execution_count": 5,
     "metadata": {},
     "output_type": "execute_result"
    },
    {
     "data": {
      "image/png": "[encoded data removed]",
      "text/plain": [
       "<matplotlib.figure.Figure at 0x7f219e75bb70>"
      ]
     },
     "metadata": {},
     "output_type": "display_data"
    }
   ],
   "source": [
    "x = np.array(range(-500, 501))/100\n",
    "gau = gaussmf(x=x, mean=-0.5, sigma=1)\n",
    "bell = gbellmf(x=x, a=1, b=2, c=1)\n",
    "sig = sigmf(x=x, b=2, c=3)\n",
    "\n",
    "plt.plot(x, gau, 'r', label='Gaussian')\n",
    "plt.plot(x, bell, 'g', label='Bell')\n",
    "plt.plot(x, sig, 'b', label='Sigmoid')\n",
    "plt.grid(True)\n",
    "plt.legend()"
   ]
  },
  {
   "cell_type": "markdown",
   "metadata": {},
   "source": [
    "## Membership function class"
   ]
  },
  {
   "cell_type": "code",
   "execution_count": 6,
   "metadata": {},
   "outputs": [],
   "source": [
    "# -*- coding: utf-8 -*-\n",
    "\"\"\"\n",
    "Created on Mon Mar 31 15:41:58 2014\n",
    "\n",
    "@author: tim.meggs\n",
    "\"\"\"\n",
    "\n",
    "# from skfuzzy import gaussmf, gbellmf, sigmf\n",
    "\n",
    "class MemFuncs:\n",
    "    \"\"\"Common base class for all employees\"\"\"\n",
    "    \n",
    "    funcDict = {'gaussmf': gaussmf, 'gbellmf': gbellmf, 'sigmf': sigmf}\n",
    "\n",
    "    def __init__(self, MFList):\n",
    "        self.MFList = MFList\n",
    "\n",
    "    def evaluateMF(self, rowInput):\n",
    "        if len(rowInput) != len(self.MFList):\n",
    "            print(\"Number of variables does not match number of rule sets\")\n",
    "            \n",
    "        return np.array([\n",
    "            [\n",
    "                self.funcDict[\n",
    "                    self.MFList[i][k][0]\n",
    "                ](rowInput[i],**self.MFList[i][k][1]) \n",
    "                for k in range(len(self.MFList[i]))\n",
    "            ] \n",
    "            for i in range(len(rowInput))\n",
    "        ])"
   ]
  },
  {
   "cell_type": "code",
   "execution_count": 7,
   "metadata": {},
   "outputs": [
    {
     "data": {
      "text/plain": [
       "array([[[1.35335283e-01, 1.11089965e-02, 3.35462628e-04, 3.72665317e-06],\n",
       "        [3.24652467e-01, 1.35335283e-01, 4.39369336e-02, 1.11089965e-02],\n",
       "        [8.35270211e-01, 7.82704538e-01, 7.26149037e-01, 6.66976811e-01],\n",
       "        [4.37564738e-01, 3.60447789e-01, 2.90923807e-01, 2.30066299e-01]],\n",
       "\n",
       "       [[6.06530660e-01, 3.24652467e-01, 1.35335283e-01, 4.39369336e-02],\n",
       "        [9.45959469e-01, 8.00737403e-01, 6.06530660e-01, 4.11112291e-01],\n",
       "        [8.82496903e-01, 8.35270211e-01, 7.82704538e-01, 7.26149037e-01],\n",
       "        [2.61214099e-02, 1.49207861e-02, 8.18870101e-03, 4.31784001e-03]]])"
      ]
     },
     "execution_count": 7,
     "metadata": {},
     "output_type": "execute_result"
    }
   ],
   "source": [
    "# evaluateMF test\n",
    "# Membership funciton for 2-D variable\n",
    "\n",
    "MFList = [\n",
    "    [\n",
    "        ['gaussmf', {'mean':0.,'sigma':1.}],\n",
    "        ['gaussmf', {'mean':-1.,'sigma':2.}],\n",
    "        ['gaussmf', {'mean':-4.,'sigma':10.}],\n",
    "        ['gaussmf', {'mean':-7.,'sigma':7.}]\n",
    "    ],\n",
    "    [\n",
    "        ['gaussmf', {'mean':1.,'sigma':2.}],\n",
    "        ['gaussmf', {'mean':2.,'sigma':3.}],\n",
    "        ['gaussmf', {'mean':-2.,'sigma':10.}],\n",
    "        ['gaussmf', {'mean':-10.5,'sigma':5.}]\n",
    "    ]\n",
    "]\n",
    "\n",
    "mfca = MemFuncs(MFList)\n",
    "var_test = np.array([[2, 3, 4, 5],\n",
    "                     [3, 4, 5, 6]])\n",
    "\n",
    "mfca.evaluateMF(var_test)"
   ]
  },
  {
   "cell_type": "markdown",
   "metadata": {},
   "source": [
    "## Membership function derivatives"
   ]
  },
  {
   "cell_type": "code",
   "execution_count": 8,
   "metadata": {},
   "outputs": [],
   "source": [
    "def dgaussmfMean(x, mean, sigma):\n",
    "    \"\"\"\n",
    "    Derivative gaussian membership function by mean\n",
    "    np.exp(-((x - mean)**2.) / (2 * sigma**2.))\n",
    "    \"\"\"\n",
    "    return (1./sigma**2) *(x-mean) * gaussmf(x, mean, sigma)\n",
    " \n",
    "\n",
    "def dgaussmfSigma(x, mean, sigma):\n",
    "    \"\"\"\n",
    "    Derivative gaussian membership function by sigma\n",
    "    \"\"\"\n",
    "    return (1./sigma**3) * (x-mean)**2 * gaussmf(x, mean, sigma)\n",
    "\n",
    "\n",
    "def dgbellmfA(x, a, b, c):\n",
    "    \"\"\"\n",
    "    Derivative bell membership function by a\n",
    "    \"\"\"\n",
    "    return gbellmf(x,a,b,c)*(1-gbellmf(x,a,b,c))*2.*b/a\n",
    "\n",
    "\n",
    "def dgbellmfB(x, a, b, c):\n",
    "    \"\"\"\n",
    "    Derivative bell membership function by b\n",
    "    \"\"\"\n",
    "    return -2*gbellmf(x, a, b, c)*(1-gbellmf(x, a, b, c))*np.log(np.abs((x-c)/a)) \n",
    "                \n",
    "\n",
    "def dgbellmfC(x, a, b, c):\n",
    "    \"\"\"\n",
    "    Derivative bell membership function by c\n",
    "    \"\"\"\n",
    "    return -2.*b/(c-x) * gbellmf(x, a, b, c)*(1-gbellmf(x, a, b, c))\n",
    "\n",
    "\n",
    "def dsigmfB(x, b, c):\n",
    "    \"\"\"\n",
    "    Derivative sigmoid membership function by b\n",
    "    1. / (1. + np.exp(- c * (x - b)))\n",
    "    \n",
    "    \"\"\"\n",
    "    return -c * (1-sigmf(x, b, c)) * sigmf(x, b, c)\n",
    "    \n",
    "    \n",
    "def dsigmfC(x, b, c):\n",
    "    \"\"\"\n",
    "    Derivative sigmoid membership function by c\n",
    "    \"\"\"\n",
    "    return (x - b) * (1-sigmf(x, b, c)) * sigmf(x, b, c)"
   ]
  },
  {
   "cell_type": "code",
   "execution_count": 9,
   "metadata": {},
   "outputs": [],
   "source": [
    "def partial_dMF(x, mf_definition, partial_parameter):\n",
    "    \"\"\"\n",
    "    Calculates the partial derivative of a membership function at a point x.\n",
    "    This is for back-propagation over parameter\n",
    "    Parameters\n",
    "    x: input variable\n",
    "    mf_definition: membership funtion definition, e.g.: ['gaussmf', {'mean':0.,'sigma':1.}]\n",
    "    partial_parameter: parameter to gte derivative\n",
    "    ------\n",
    "    Returns\n",
    "    derivative of membership function by parameter\n",
    "    ------\n",
    "    \"\"\"\n",
    "    result = 0\n",
    "    # get function name\n",
    "    mf_name = mf_definition[0]\n",
    "    \n",
    "\n",
    "    if mf_name == 'gaussmf':\n",
    "        # get parameters\n",
    "        sigma = mf_definition[1]['sigma']\n",
    "        mean = mf_definition[1]['mean']\n",
    "        # calculate derivatives\n",
    "        if partial_parameter == 'sigma':   # dMf/dSigma\n",
    "            result = dgaussmfSigma(x, mean, sigma)\n",
    "        elif partial_parameter == 'mean':  # dMf/dMean\n",
    "            result = dgaussmfMean(x, mean, sigma)\n",
    "\n",
    "    elif mf_name == 'gbellmf':\n",
    "        # get parameters\n",
    "        a = mf_definition[1]['a']\n",
    "        b = mf_definition[1]['b']\n",
    "        c = mf_definition[1]['c']\n",
    "        # calculate derivatives\n",
    "        if partial_parameter == 'a':    # dMf/da\n",
    "            result = dgbellmfA(x, a, b, c)\n",
    "        elif partial_parameter == 'b':  # dMf/db\n",
    "            result = dgbellmfB(x, a, b, c)\n",
    "        elif partial_parameter == 'c':  # dMf/dc \n",
    "            result = dgbellmfC(x, a, b, c)\n",
    "\n",
    "    elif mf_name == 'sigmf':\n",
    "        # get parameters\n",
    "        b = mf_definition[1]['b']\n",
    "        c = mf_definition[1]['c']\n",
    "        # calculate derivatives\n",
    "        if partial_parameter == 'b':    # dMf/db\n",
    "            result = dsigmfB(x, b, c)\n",
    "        elif partial_parameter == 'c':  # dMf/dc\n",
    "            result = dsigmfC(x, b, c)\n",
    "\n",
    "    return result"
   ]
  },
  {
   "cell_type": "markdown",
   "metadata": {},
   "source": [
    "### Test derivatives\n",
    "#### Gausian"
   ]
  },
  {
   "cell_type": "code",
   "execution_count": 10,
   "metadata": {},
   "outputs": [
    {
     "name": "stdout",
     "output_type": "stream",
     "text": [
      "Mean's difference: -2.022388480016346e-07\n",
      "Sigma's difference: 3.608129017229622e-07\n"
     ]
    }
   ],
   "source": [
    "funDict = {'gaussmf': gaussmf, 'gbellmf': gbellmf, 'sigmf': sigmf}\n",
    "mfdef = ['gaussmf', {'mean':0.,'sigma':1.}]\n",
    "xtest = 0.5\n",
    "eps = 0.001\n",
    "ets_der = (funDict[mfdef[0]](xtest, mfdef[1]['mean']+eps, mfdef[1]['sigma'])\\\n",
    "           -funDict[mfdef[0]](xtest, mfdef[1]['mean']-eps, mfdef[1]['sigma']))/(2*eps)\n",
    "ets_cal = partial_dMF(xtest, mfdef, 'mean')\n",
    "\n",
    "print(\"Mean's difference:\", ets_der - ets_cal)\n",
    "\n",
    "ets_der = (funDict[mfdef[0]](xtest, mfdef[1]['mean'], mfdef[1]['sigma']+eps)\\\n",
    "           -funDict[mfdef[0]](xtest, mfdef[1]['mean'], mfdef[1]['sigma']-eps))/(2*eps)\n",
    "ets_cal = partial_dMF(xtest, mfdef, 'sigma')\n",
    "print(\"Sigma's difference:\", ets_der - ets_cal)"
   ]
  },
  {
   "cell_type": "markdown",
   "metadata": {},
   "source": [
    "#### Bell function"
   ]
  },
  {
   "cell_type": "code",
   "execution_count": 11,
   "metadata": {},
   "outputs": [
    {
     "name": "stdout",
     "output_type": "stream",
     "text": [
      "a's difference: 2.0002207765656976e-06\n",
      "b's difference: -7.050712671347048e-07\n",
      "c's difference: 7.5819991969539036e-06\n"
     ]
    }
   ],
   "source": [
    "mfdef = ['gbellmf', {'a': -1.5,'b': 2, 'c': -2.}]\n",
    "xtest = 0.5\n",
    "eps = 0.01\n",
    "\n",
    "ets_der = (funDict[mfdef[0]](xtest, mfdef[1]['a']+eps, mfdef[1]['b'], mfdef[1]['c']) - \\\n",
    "          funDict[mfdef[0]](xtest, mfdef[1]['a']-eps, mfdef[1]['b'], mfdef[1]['c']))\\\n",
    "          /(2*eps)\n",
    "ets_cal = partial_dMF(xtest, mfdef, 'a')\n",
    "\n",
    "print(\"a's difference:\", ets_der - ets_cal)\n",
    "\n",
    "ets_der = (funDict[mfdef[0]](xtest, mfdef[1]['a'], mfdef[1]['b']+eps, mfdef[1]['c']) - \\\n",
    "          funDict[mfdef[0]](xtest, mfdef[1]['a'], mfdef[1]['b']-eps, mfdef[1]['c']))\\\n",
    "          /(2*eps)\n",
    "ets_cal = partial_dMF(xtest, mfdef, 'b')\n",
    "\n",
    "print(\"b's difference:\", ets_der - ets_cal)\n",
    "\n",
    "ets_der = (funDict[mfdef[0]](xtest, mfdef[1]['a'], mfdef[1]['b'], mfdef[1]['c']+eps) - \\\n",
    "          funDict[mfdef[0]](xtest, mfdef[1]['a'], mfdef[1]['b'], mfdef[1]['c']-eps))\\\n",
    "          /(2*eps)\n",
    "ets_cal = partial_dMF(xtest, mfdef, 'c')\n",
    "\n",
    "print(\"c's difference:\", ets_der - ets_cal)"
   ]
  },
  {
   "cell_type": "markdown",
   "metadata": {},
   "source": [
    "#### Sigmoid function"
   ]
  },
  {
   "cell_type": "code",
   "execution_count": 12,
   "metadata": {},
   "outputs": [
    {
     "name": "stdout",
     "output_type": "stream",
     "text": [
      "b's difference: 8.084596164747992e-08\n",
      "c's difference: 6.467923002739795e-10\n"
     ]
    }
   ],
   "source": [
    "mfdef = ['sigmf', {'b': 1, 'c': 2.}]\n",
    "xtest = 0.6\n",
    "eps = 0.001\n",
    "\n",
    "ets_der = (funDict[mfdef[0]](xtest, mfdef[1]['b']+eps, mfdef[1]['c']) - \\\n",
    "          funDict[mfdef[0]](xtest, mfdef[1]['b']-eps, mfdef[1]['c']))\\\n",
    "          /(2*eps)\n",
    "ets_cal = partial_dMF(xtest, mfdef, 'b')\n",
    "\n",
    "print(\"b's difference:\", ets_der - ets_cal)\n",
    "\n",
    "ets_der = (funDict[mfdef[0]](xtest, mfdef[1]['b'], mfdef[1]['c']+eps) - \\\n",
    "          funDict[mfdef[0]](xtest, mfdef[1]['b'], mfdef[1]['c']-eps))\\\n",
    "          /(2*eps)\n",
    "ets_cal = partial_dMF(xtest, mfdef, 'c')\n",
    "\n",
    "print(\"c's difference:\", ets_der - ets_cal)"
   ]
  },
  {
   "cell_type": "markdown",
   "metadata": {},
   "source": [
    "## ANFIS class implement"
   ]
  },
  {
   "cell_type": "code",
   "execution_count": 13,
   "metadata": {},
   "outputs": [],
   "source": [
    "def LSE(A, B, initialGamma = 1000.):\n",
    "    \"\"\"\n",
    "    Use least squared estimation to find LSE(A,B) that\n",
    "    A.dot(LSE(A, B)) ~ B\n",
    "    \"\"\"\n",
    "    \n",
    "    coeffMat = np.array(A)\n",
    "    rhsMat = np.array(B)\n",
    "\n",
    "    S = np.eye(coeffMat.shape[1])*initialGamma\n",
    "    x = np.zeros((coeffMat.shape[1], 1))\n",
    "    \n",
    "    for i in range(coeffMat.shape[0]):\n",
    "        a = np.matrix(coeffMat[i])\n",
    "        b = np.matrix(rhsMat[i])\n",
    "        S = S - S.dot(a.T).dot(a).dot(S)/(1+a.dot(S).dot(a.T))\n",
    "        x = x + S.dot(a.T).dot(b-a.dot(x))\n",
    "    return x"
   ]
  },
  {
   "cell_type": "code",
   "execution_count": 59,
   "metadata": {},
   "outputs": [],
   "source": [
    "# -*- coding: utf-8 -*-\n",
    "\"\"\"\n",
    "Created on Thu Apr 03 07:30:34 2014\n",
    "@author: tim.meggs\n",
    "\"\"\"\n",
    "\n",
    "class ANFIS:\n",
    "    \"\"\"Class to implement an Adaptive Network Fuzzy Inference System: ANFIS\"\n",
    "\n",
    "    Attributes:\n",
    "        X - input\n",
    "        Y - output\n",
    "        XLen - input len\n",
    "        memClass - membership function object\n",
    "        memFuncs - membership function list\n",
    "        memFuncsByVariable - membership function by variable\n",
    "        \n",
    "        rules - fuzzy rules\n",
    "            if x1 gets value from [x11, x12]\n",
    "               x2 gets value from [x21, x22]\n",
    "            then rule 'x1 = x11 & x2 = x21' equivalent (0,0) and so on.  \n",
    "               \n",
    "        consequents - layerFour.dot(consequents) = layerFive\n",
    "        errors - sum square(real values - predicted values)\n",
    "        memFuncsHomo - true if there's the same number of membership functions \n",
    "        for all variables\n",
    "            example\n",
    "                if memFuncs = [[['gaussmf',...],['gaussmf', ...]],\n",
    "                               [['gaussmf', ...],['gaussmf', ...]]]\n",
    "                then memFuncsHomo = True (2 membership functions for each)\n",
    "        trainingType - 'Not trained yet'/'trainHybridJangOffLine'\n",
    "    \"\"\"\n",
    "\n",
    "    def __init__(self, X, Y, memFunction):\n",
    "        \"\"\"\n",
    "        Initialise ANFIS instance from\n",
    "        - input X = [[val1, val2, ...], [...]]\n",
    "        - output Y [...]\n",
    "        - membership function object memFunction [see: class MemFuncs]\n",
    "        X.shape[0] - number of training sample\n",
    "        X.shape[1] - number of inputs in fuzzy neural net\n",
    "        \"\"\"\n",
    "        self.X = np.array(copy.copy(X))\n",
    "        self.Y = np.array(copy.copy(Y))\n",
    "        self.XLen = len(self.X)\n",
    "        \n",
    "        self.memClass = copy.deepcopy(memFunction)\n",
    "        self.memFuncs = self.memClass.MFList\n",
    "        \n",
    "        # indexing membership function \n",
    "        self.memFuncsByVariable = [\n",
    "            [x for x in range(len(self.memFuncs[z]))]\n",
    "            for z in range(len(self.memFuncs))\n",
    "        ]\n",
    "        \n",
    "        # list of possible rules = \n",
    "        # number of membership fuctions for 1st variable *\n",
    "        # number of membership fuctions for 2nd variable ...\n",
    "        self.rules = np.array(list(itertools.product(*self.memFuncsByVariable)))\n",
    "        \n",
    "        self.consequents = \\\n",
    "        np.zeros(self.Y.ndim * len(self.rules) * (self.X.shape[1] + 1))\n",
    "        self.errors = np.empty(0)\n",
    "        \n",
    "        self.memFuncsHomo = all(\n",
    "            len(i)==len(self.memFuncsByVariable[0]) \n",
    "            for i in self.memFuncsByVariable\n",
    "        )\n",
    "        \n",
    "        self.trainingType = 'Not trained yet'\n",
    "\n",
    "    def trainHybridJangOffLine(self, epochs=5, tolerance=1e-5, initialGamma=1000, k=0.01):\n",
    "        \"\"\"\n",
    "        Training fuzzy neural network (update parameters of membership functions)\n",
    "        epochs: number of epochs\n",
    "        tolerance: tolerance to stop updating parameters \n",
    "        initialGamma: used to find LSE(A, B)\n",
    "        k: learning rate\n",
    "        Return predicted values\n",
    "        \"\"\"\n",
    "\n",
    "        self.trainingType = 'trainHybridJangOffLine'\n",
    "        convergence = False\n",
    "        epoch = 1\n",
    "\n",
    "        while (epoch < epochs) and (convergence is not True):\n",
    "\n",
    "            #layer four: forward pass\n",
    "            [layerFour, wSum, w] = self.forwardHalfPass(self.X)\n",
    "\n",
    "            #layer five: least squares estimate\n",
    "            layerFive = np.array(LSE(layerFour,self.Y,initialGamma))\n",
    "            self.consequents = layerFive\n",
    "            \n",
    "            # layer five, final forward pass\n",
    "            layerFive = layerFour.dot(layerFive)\n",
    "\n",
    "            # error - RMSE\n",
    "            error = np.sum((self.Y-layerFive.T)**2)/self.Y.shape[0]\n",
    "            error = np.sqrt(error)\n",
    "            print('current error: ', error)\n",
    "            # MAE\n",
    "            # average_error = np.average(np.absolute(self.Y-layerFive.T))\n",
    "            self.errors = np.append(self.errors,error)\n",
    "\n",
    "            if len(self.errors) != 0:\n",
    "                if self.errors[len(self.errors)-1] < tolerance:\n",
    "                    convergence = True\n",
    "\n",
    "            # back propagation\n",
    "            if convergence is not True:\n",
    "                cols = range(self.X.shape[1])\n",
    "                dE_dAlpha = list(self.backprop(colX, cols, wSum, w, layerFive) \n",
    "                                 for colX in range(self.X.shape[1]))\n",
    "\n",
    "\n",
    "            if len(self.errors) >= 4:\n",
    "                if (self.errors[-4] > self.errors[-3] > \\\n",
    "                    self.errors[-2] > self.errors[-1]):\n",
    "                    k = k * 1.1\n",
    "\n",
    "            if len(self.errors) >= 5:\n",
    "                if (self.errors[-1] < self.errors[-2]) \\\n",
    "                   and (self.errors[-3] < self.errors[-2]) \\\n",
    "                   and (self.errors[-3] < self.errors[-4]) \\\n",
    "                   and (self.errors[-5] > self.errors[-4]):\n",
    "                    k = k * 0.9\n",
    "\n",
    "            # handling of variables with a different number of MFs\n",
    "            t = []\n",
    "            for x in range(len(dE_dAlpha)):\n",
    "                for y in range(len(dE_dAlpha[x])):\n",
    "                    for z in range(len(dE_dAlpha[x][y])):\n",
    "                        t.append(dE_dAlpha[x][y][z])\n",
    "\n",
    "            eta = k / np.abs(np.sum(t))  # learning rate\n",
    "\n",
    "            if(np.isinf(eta)):\n",
    "                eta = k\n",
    "\n",
    "            ## handling of variables with a different number of MFs\n",
    "            dAlpha = copy.deepcopy(dE_dAlpha)\n",
    "            if not(self.memFuncsHomo):\n",
    "                for x in range(len(dE_dAlpha)):\n",
    "                    for y in range(len(dE_dAlpha[x])):\n",
    "                        for z in range(len(dE_dAlpha[x][y])):\n",
    "                            dAlpha[x][y][z] = -eta * dE_dAlpha[x][y][z]\n",
    "            else:\n",
    "                dAlpha = -eta * np.array(dE_dAlpha)\n",
    "\n",
    "            # update parameters\n",
    "            for varsWithMemFuncs in range(len(self.memFuncs)):\n",
    "                for MFs in range(len(self.memFuncsByVariable[varsWithMemFuncs])):\n",
    "                    paramList = sorted(self.memFuncs[varsWithMemFuncs][MFs][1])\n",
    "                    for param in range(len(paramList)):\n",
    "                        self.memFuncs[varsWithMemFuncs][MFs][1][paramList[param]] \\\n",
    "                        = self.memFuncs[varsWithMemFuncs][MFs][1][paramList[param]] \\\n",
    "                        + dAlpha[varsWithMemFuncs][MFs][param]\n",
    "            epoch = epoch + 1\n",
    "\n",
    "\n",
    "        self.fittedValues = self.predict(self.X)\n",
    "        self.residuals = self.Y - self.fittedValues[:,0]\n",
    "\n",
    "        return self.fittedValues\n",
    "\n",
    "    def plotErrors(self):\n",
    "        \"\"\"\n",
    "        Show training error vs epoch number\n",
    "        \"\"\"\n",
    "        if self.trainingType == 'Not trained yet':\n",
    "            print(self.trainingType)\n",
    "        else:\n",
    "            plt.plot(range(len(self.errors)),self.errors,'ro', label='errors')\n",
    "            plt.ylabel('error')\n",
    "            plt.xlabel('epoch')\n",
    "            plt.show()\n",
    "\n",
    "    def plotMF(self, x, inputVar):\n",
    "        \"\"\"\n",
    "        Plot graph of membership function\n",
    "        x: 1-D array\n",
    "        inputVar: index of variable, of which we take membership functions\n",
    "        \"\"\"\n",
    "        for mf in range(len(self.memFuncs[inputVar])):\n",
    "            if self.memFuncs[inputVar][mf][0] == 'gaussmf':\n",
    "                y = gaussmf(x,**self.memClass.MFList[inputVar][mf][1])\n",
    "            elif self.memFuncs[inputVar][mf][0] == 'gbellmf':\n",
    "                y = gbellmf(x,**self.memClass.MFList[inputVar][mf][1])\n",
    "            elif self.memFuncs[inputVar][mf][0] == 'sigmf':\n",
    "                y = sigmf(x,**self.memClass.MFList[inputVar][mf][1])\n",
    "            plt.plot(x,y,'r')\n",
    "\n",
    "        plt.show()\n",
    "\n",
    "    def plotResults(self):\n",
    "        \"\"\"\n",
    "        Plot predicted values vs true values\n",
    "        only for 1-D true values\n",
    "        \"\"\"\n",
    "        if self.trainingType == 'Not trained yet':\n",
    "            print(self.trainingType)\n",
    "        else:\n",
    "            plt.plot(range(len(self.fittedValues)),\n",
    "                     self.fittedValues,'r', \n",
    "                     label='trained')\n",
    "            plt.plot(range(len(self.Y)),self.Y,'b', label='original')\n",
    "            plt.legend(loc='upper left')\n",
    "            plt.show()\n",
    "            \n",
    "            \n",
    "    def forwardHalfPass(self, Xs):\n",
    "        \"\"\"\n",
    "        Fuzzy neural network forward propagation from Xs (half pass)\n",
    "        return layerFour (not the last layer),\n",
    "               w and wSum: weight and sum weight for each example\n",
    "               these are for backprop\n",
    "        \"\"\"\n",
    "        layerFour = np.empty(0,)\n",
    "        wSum = []\n",
    "\n",
    "        for pattern in range(Xs.shape[0]):\n",
    "            # layer one\n",
    "            layerOne = self.memClass.evaluateMF(Xs[pattern,:])\n",
    "\n",
    "            # layer two\n",
    "            miAlloc = [\n",
    "                [\n",
    "                    layerOne[x][self.rules[row][x]]\n",
    "                    for x in range(len(self.rules[0]))\n",
    "                ] \n",
    "                for row in range(len(self.rules))\n",
    "            ]  # values of membership functions\n",
    "            layerTwo = np.array([np.product(x) \n",
    "                                 for x in miAlloc]).T\n",
    "            if pattern == 0:  # in case ONE input\n",
    "                w = layerTwo\n",
    "            else:\n",
    "                w = np.vstack((w,layerTwo))\n",
    "\n",
    "            # layer three\n",
    "            wSum.append(np.sum(layerTwo))\n",
    "            layerThree = layerTwo/wSum[pattern]\n",
    "            \n",
    "            if pattern == 0:\n",
    "                wNormalized = layerTwo/wSum[pattern]\n",
    "            else:\n",
    "                wNormalized = np.vstack((wNormalized,layerTwo/wSum[pattern]))\n",
    "\n",
    "            # prep for layer four (bit of a hack)\n",
    "            # add 1-column (bias) then append to layerFour\n",
    "            rowHolder = np.concatenate([x*np.append(Xs[pattern,:],1) \n",
    "                                        for x in layerThree])\n",
    "            layerFour = np.append(layerFour,rowHolder)\n",
    "\n",
    "        # layer four\n",
    "        layerFour = np.array(np.array_split(layerFour,pattern + 1))\n",
    "\n",
    "        return layerFour, wSum, w.T\n",
    "\n",
    "    def backprop(self, columnX, columns, theWSum, theW, theLayerFive):\n",
    "        \n",
    "        \"\"\"\n",
    "        back propagation for fuzzy neural network\n",
    "        columnX: column in input matrix self.X\n",
    "        columns: list of column indices of self.X\n",
    "        theWSum: sum of weights in forward half pass\n",
    "        theW: weights in forward half pass\n",
    "        theLayerFive: predicted value by FANN\n",
    "        \n",
    "        Return steps to update parameters in membership function list\n",
    "        \"\"\"\n",
    "\n",
    "        paramGrp = [0]* len(self.memFuncs[columnX])\n",
    "        for MF in range(len(self.memFuncs[columnX])):   \n",
    "            # for each membership function of columnX-th variable\n",
    "            \n",
    "            # get number of parameters\n",
    "            parameters = np.empty(len(self.memFuncs[columnX][MF][1]))\n",
    "            timesThru = 0\n",
    "            \n",
    "            for alpha in sorted(self.memFuncs[columnX][MF][1].keys()):\n",
    "                # for each parameter of membership function\n",
    "                \n",
    "                bucket3 = np.empty(len(self.X))\n",
    "                for rowX in range(len(self.X)):\n",
    "                    # for each sample\n",
    "                    \n",
    "                    # get value of variable (x)\n",
    "                    varToTest = self.X[rowX,columnX]   # x\n",
    "                    tmpRow = np.empty(len(self.memFuncs))\n",
    "                    tmpRow.fill(varToTest)\n",
    "\n",
    "                    bucket2 = np.empty(self.Y.ndim)\n",
    "                    for colY in range(self.Y.ndim):\n",
    "\n",
    "                        rulesWithAlpha = np.array(\n",
    "                            np.where(self.rules[:,columnX]==MF)\n",
    "                        )[0]\n",
    "                        adjCols = np.delete(columns,columnX)\n",
    "\n",
    "                        # get derivative of selected parameter alpha\n",
    "                        senSit = partial_dMF(\n",
    "                            x=self.X[rowX,columnX],\n",
    "                            mf_definition=self.memFuncs[columnX][MF],\n",
    "                            partial_parameter=alpha\n",
    "                        )\n",
    "                        \n",
    "                        # produces d_ruleOutput/d_parameterWithinMF\n",
    "                        dW_dAplha = senSit * \\\n",
    "                        np.array(\n",
    "                            [np.prod(\n",
    "                              [self.memClass.evaluateMF(tmpRow)[c][self.rules[r][c]]\n",
    "                              for c in adjCols]\n",
    "                            ) \n",
    "                            for r in rulesWithAlpha]\n",
    "                        )\n",
    "\n",
    "                        bucket1 = np.empty(self.rules.shape[0])\n",
    "                        for consequent in range(self.rules.shape[0]):\n",
    "                            # for each rule\n",
    "                            fConsequent = np.append(self.X[rowX,:],1.)\\\n",
    "                                            .dot(\n",
    "                                self.consequents[\n",
    "                                    ((self.X.shape[1] + 1) * consequent):\n",
    "                                    ((self.X.shape[1] + 1) * (consequent + 1)),\n",
    "                                    colY]\n",
    "                            )\n",
    "                            \n",
    "                            acum = 0\n",
    "                            if consequent in rulesWithAlpha:\n",
    "                                acum = dW_dAplha[np.where(rulesWithAlpha==consequent)] \\\n",
    "                                * theWSum[rowX]\n",
    "\n",
    "                            acum = acum - theW[consequent,rowX] * np.sum(dW_dAplha)\n",
    "                            acum = acum / theWSum[rowX]**2\n",
    "                            bucket1[consequent] = fConsequent * acum\n",
    "\n",
    "                        sum1 = np.sum(bucket1)\n",
    "\n",
    "                        if self.Y.ndim == 1:\n",
    "                            bucket2[colY] = \\\n",
    "                            sum1 * (self.Y[rowX]-theLayerFive[rowX,colY])*(2)\n",
    "                        else:\n",
    "                            bucket2[colY] = \\\n",
    "                            sum1 * (self.Y[rowX,colY]-theLayerFive[rowX,colY])*(2)\n",
    "\n",
    "                    sum2 = np.sum(bucket2)\n",
    "                    bucket3[rowX] = sum2\n",
    "\n",
    "                sum3 = np.sum(bucket3)\n",
    "                parameters[timesThru] = sum3\n",
    "                timesThru = timesThru + 1\n",
    "\n",
    "            paramGrp[MF] = parameters\n",
    "\n",
    "        return paramGrp\n",
    "\n",
    "\n",
    "    def predict(self, varsToTest):\n",
    "        \"\"\"\n",
    "        Calculate predicted value for varsToTest\n",
    "        The number of columns in varsToTest must equal len(self.MFList)\n",
    "        \"\"\"\n",
    "        [layerFour, wSum, w] = self.forwardHalfPass(varsToTest)\n",
    "\n",
    "        #layer five\n",
    "        layerFive = layerFour.dot(self.consequents)\n",
    "\n",
    "        return layerFive"
   ]
  },
  {
   "cell_type": "code",
   "execution_count": 19,
   "metadata": {
    "scrolled": true
   },
   "outputs": [],
   "source": [
    "# import membership\n",
    "# import anfis\n",
    "# import membership #import membershipfunction, mfDerivs\n",
    "import numpy\n",
    "\n",
    "\n",
    "ts = numpy.loadtxt(\"/home/hung/githubtest/anfis/anfistest/trainingSet.txt\", usecols=[1,2,3])#numpy.loadtxt('c:\\\\Python_fiddling\\\\myProject\\\\MF\\\\trainingSet.txt',usecols=[1,2,3])\n",
    "X = ts[:,0:2]\n",
    "Y = ts[:,2]\n",
    "\n",
    "mf = \\\n",
    "[\n",
    "    [\n",
    "        ['gaussmf', {'mean':0.,'sigma':1.}],\n",
    "        ['gaussmf', {'mean':-1.,'sigma':2.}],\n",
    "        ['gaussmf', {'mean':-4.,'sigma':10.}],\n",
    "        ['gaussmf', {'mean':-7.,'sigma':7.}]\n",
    "    ],\n",
    "    [\n",
    "        ['gaussmf', {'mean':1.,'sigma':2.}],\n",
    "        ['gaussmf', {'mean':2.,'sigma':3.}],\n",
    "        ['gaussmf', {'mean':-2.,'sigma':10.}],\n",
    "        ['gaussmf', {'mean':-10.5,'sigma':5.}]\n",
    "    ]\n",
    "]"
   ]
  },
  {
   "cell_type": "code",
   "execution_count": 62,
   "metadata": {},
   "outputs": [
    {
     "data": {
      "text/plain": [
       "[[['gaussmf', {'mean': -0.10179690334209203, 'sigma': 0.6370345095656053}],\n",
       "  ['gaussmf', {'mean': -1.0472297259913361, 'sigma': 1.846603513128207}],\n",
       "  ['gaussmf', {'mean': -3.9852445493597966, 'sigma': 10.001479045808813}],\n",
       "  ['gaussmf', {'mean': -6.96113242566216, 'sigma': 7.028769581842266}]],\n",
       " [['gaussmf', {'mean': 0.7736264529141742, 'sigma': 1.5759783885974663}],\n",
       "  ['gaussmf', {'mean': 2.100670857091692, 'sigma': 2.9795613727157058}],\n",
       "  ['gaussmf', {'mean': -2.0031881019227047, 'sigma': 9.998073551486968}],\n",
       "  ['gaussmf', {'mean': -10.48959491439451, 'sigma': 5.023300484638299}]]]"
      ]
     },
     "execution_count": 62,
     "metadata": {},
     "output_type": "execute_result"
    }
   ],
   "source": [
    "anf.memFuncs"
   ]
  },
  {
   "cell_type": "code",
   "execution_count": 53,
   "metadata": {},
   "outputs": [
    {
     "data": {
      "image/png": "[encoded data removed]",
      "text/plain": [
       "<matplotlib.figure.Figure at 0x7f217e45dbe0>"
      ]
     },
     "metadata": {},
     "output_type": "display_data"
    },
    {
     "data": {
      "image/png": "[encoded data removed]",
      "text/plain": [
       "<matplotlib.figure.Figure at 0x7f217e4356d8>"
      ]
     },
     "metadata": {},
     "output_type": "display_data"
    }
   ],
   "source": [
    "# initial mf plot\n",
    "xx = np.array(range(-5000, 5001))/100\n",
    "yy = np.zeros((2,4,xx.shape[0]))\n",
    "color = ['c', 'm', 'y', 'k']\n",
    "for i in range(2):\n",
    "    plt.figure()\n",
    "    for j in range(4):\n",
    "        mean = mf[i][j][1]['mean']\n",
    "        sigma = mf[i][j][1]['sigma']\n",
    "        yy[i,j,:] = gaussmf(xx, mean, sigma)\n",
    "        plt.plot(xx, yy[i][j], color[j])\n",
    "    plt.grid(True)"
   ]
  },
  {
   "cell_type": "code",
   "execution_count": null,
   "metadata": {},
   "outputs": [],
   "source": []
  },
  {
   "cell_type": "code",
   "execution_count": 60,
   "metadata": {
    "scrolled": true
   },
   "outputs": [
    {
     "name": "stdout",
     "output_type": "stream",
     "text": [
      "current error:  0.05158410698469028\n",
      "current error:  0.05140008371242771\n",
      "current error:  0.051246087727819224\n",
      "current error:  0.05111703732917551\n",
      "current error:  0.05099852697554464\n",
      "current error:  0.05089188817402644\n",
      "current error:  0.05079832338658199\n",
      "current error:  0.05071886934843473\n",
      "current error:  0.0506543566913703\n",
      "current error:  0.050605365202283405\n",
      "current error:  0.05057217457844877\n",
      "current error:  0.05055471142247352\n",
      "current error:  0.050552494307185426\n",
      "current error:  0.050564579544157384\n",
      "current error:  0.05058669904903323\n",
      "current error:  0.05061483067816691\n",
      "current error:  0.05064602431161662\n",
      "current error:  0.05067808861399679\n",
      "current error:  0.050709374231052\n",
      "current error:  0.050738621994466125\n",
      "current error:  0.05076485740798626\n",
      "current error:  0.05078731898235633\n",
      "current error:  0.05080541106528149\n",
      "current error:  0.05081867354187358\n",
      "current error:  0.050826762157001576\n",
      "current error:  0.050829434612328715\n",
      "current error:  0.05082653903859128\n",
      "current error:  0.05081800282240466\n",
      "current error:  0.050803820967051855\n",
      "current error:  0.050782072325572726\n",
      "current error:  0.05075081095608588\n",
      "current error:  0.05070775379930654\n",
      "current error:  0.05065026128012348\n",
      "current error:  0.050575353832530506\n",
      "current error:  0.05047983514676171\n",
      "current error:  0.050360670152807416\n",
      "current error:  0.050215864120236674\n",
      "current error:  0.0500461829091641\n",
      "current error:  0.049858156798046754\n"
     ]
    },
    {
     "data": {
      "image/png": "[encoded data removed]",
      "text/plain": [
       "<matplotlib.figure.Figure at 0x7f21840530b8>"
      ]
     },
     "metadata": {},
     "output_type": "display_data"
    },
    {
     "data": {
      "image/png": "[encoded data removed]",
      "text/plain": [
       "<matplotlib.figure.Figure at 0x7f2184053470>"
      ]
     },
     "metadata": {},
     "output_type": "display_data"
    }
   ],
   "source": [
    "mfc = MemFuncs(mf)\n",
    "anf = ANFIS(X, Y, mfc)\n",
    "anf.trainHybridJangOffLine(epochs=40, k=0.01)\n",
    "# print(round(anf.consequents[-1][0],6))\n",
    "# print(round(anf.consequents[-2][0],6))\n",
    "# print(round(anf.fittedValues[9][0],6))\n",
    "if round(anf.consequents[-1][0],6) == -5.275538 and round(anf.consequents[-2][0],6) == -1.990703 and round(anf.fittedValues[9][0],6) == 0.002249:\n",
    "    print('test is good')\n",
    "anf.plotErrors()\n",
    "anf.plotResults()"
   ]
  },
  {
   "cell_type": "code",
   "execution_count": 23,
   "metadata": {},
   "outputs": [
    {
     "data": {
      "text/plain": [
       "array([[[0.60653066],\n",
       "        [0.60653066],\n",
       "        [0.8824969 ],\n",
       "        [0.52045012]],\n",
       "\n",
       "       [[0.8824969 ],\n",
       "        [1.        ],\n",
       "        [0.92311635],\n",
       "        [0.04393693]]])"
      ]
     },
     "execution_count": 23,
     "metadata": {},
     "output_type": "execute_result"
    }
   ],
   "source": [
    "mfc.evaluateMF(np.array([[1],[2]]))"
   ]
  },
  {
   "cell_type": "code",
   "execution_count": 61,
   "metadata": {},
   "outputs": [
    {
     "data": {
      "text/plain": [
       "[<matplotlib.lines.Line2D at 0x7f217e43bb00>]"
      ]
     },
     "execution_count": 61,
     "metadata": {},
     "output_type": "execute_result"
    },
    {
     "data": {
      "image/png": "[encoded data removed]",
      "text/plain": [
       "<matplotlib.figure.Figure at 0x7f217e5555c0>"
      ]
     },
     "metadata": {},
     "output_type": "display_data"
    }
   ],
   "source": [
    "plt.plot((Y-np.squeeze(anf.predict(X))))"
   ]
  },
  {
   "cell_type": "code",
   "execution_count": 66,
   "metadata": {},
   "outputs": [
    {
     "data": {
      "text/plain": [
       "0.049640393094560045"
      ]
     },
     "execution_count": 66,
     "metadata": {},
     "output_type": "execute_result"
    }
   ],
   "source": [
    "from sklearn.metrics import mean_squared_error\n",
    "np.sqrt(mean_squared_error(np.matrix(Y).transpose(), anf.predict(X)))"
   ]
  },
  {
   "cell_type": "code",
   "execution_count": 26,
   "metadata": {},
   "outputs": [
    {
     "data": {
      "text/plain": [
       "Text(0.5,0,'Z-axis')"
      ]
     },
     "execution_count": 26,
     "metadata": {},
     "output_type": "execute_result"
    },
    {
     "data": {
      "image/png": "[encoded data removed]",
      "text/plain": [
       "<matplotlib.figure.Figure at 0x7f2184b93dd8>"
      ]
     },
     "metadata": {},
     "output_type": "display_data"
    }
   ],
   "source": [
    "from mpl_toolkits.mplot3d import Axes3D\n",
    "fig = plt.figure()\n",
    "ax = Axes3D(fig)\n",
    "\n",
    "ax.scatter(ts[:, 0], ts[:, 1], ts[:, 2], )\n",
    "ax.set_xlabel('X-axis')\n",
    "ax.set_ylabel('Y-axis')\n",
    "ax.set_zlabel('Z-axis')"
   ]
  },
  {
   "cell_type": "code",
   "execution_count": 69,
   "metadata": {},
   "outputs": [
    {
     "data": {
      "text/plain": [
       "0.13718523974144253"
      ]
     },
     "execution_count": 69,
     "metadata": {},
     "output_type": "execute_result"
    }
   ],
   "source": [
    "from sklearn.linear_model import LinearRegression\n",
    "model = LinearRegression()\n",
    "model.fit(X=X, y=Y)\n",
    "np.sqrt(mean_squared_error(Y, model.predict(X)))"
   ]
  }
 ],
 "metadata": {
  "kernelspec": {
   "display_name": "Python 3",
   "language": "python",
   "name": "python3"
  },
  "language_info": {
   "codemirror_mode": {
    "name": "ipython",
    "version": 3
   },
   "file_extension": ".py",
   "mimetype": "text/x-python",
   "name": "python",
   "nbconvert_exporter": "python",
   "pygments_lexer": "ipython3",
   "version": "3.6.4"
  }
 },
 "nbformat": 4,
 "nbformat_minor": 2
}
