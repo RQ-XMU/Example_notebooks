{
 "cells": [
  {
   "cell_type": "markdown",
   "metadata": {},
   "source": [
    "# Cartpole Game\n",
    "![](https://keon.io/images/deep-q-learning/animation.gif)\n",
    "\n",
    "CartPole is one of the simplest environments in **OpenAI gym** ( a game simulator). The goal of CartPole is to balance a pole connected with one joint on top of a moving cart. Instead of pixel information, there are 4 kinds of information given by the state, such as angle of the pole and position of the cart. An agent can move the cart by performing a series of actions of 0 or 1 to the cart, pushinh it left or right.\n",
    "\n",
    "The **goal** is to keep the pole stay as long as possible. So agent will learn to take maximum reward at each step, avoid letting pole fall down.\n",
    "\n",
    "##  Import libraries"
   ]
  },
  {
   "cell_type": "code",
   "execution_count": 1,
   "metadata": {},
   "outputs": [
    {
     "name": "stderr",
     "output_type": "stream",
     "text": [
      "/home/hung/anaconda3/lib/python3.6/site-packages/h5py/__init__.py:36: FutureWarning: Conversion of the second argument of issubdtype from `float` to `np.floating` is deprecated. In future, it will be treated as `np.float64 == np.dtype(float).type`.\n",
      "  from ._conv import register_converters as _register_converters\n",
      "Using TensorFlow backend.\n"
     ]
    }
   ],
   "source": [
    "import random\n",
    "import gym\n",
    "import numpy as np\n",
    "from collections import deque\n",
    "from keras.models import Sequential\n",
    "from keras.layers import Dense\n",
    "from keras.optimizers import Adam"
   ]
  },
  {
   "cell_type": "markdown",
   "metadata": {},
   "source": [
    "## Initialize environment"
   ]
  },
  {
   "cell_type": "code",
   "execution_count": 18,
   "metadata": {},
   "outputs": [
    {
     "name": "stdout",
     "output_type": "stream",
     "text": [
      "State size: 4 , Action sizea: 2\n"
     ]
    }
   ],
   "source": [
    "env = gym.make('CartPole-v1')\n",
    "state_size = env.observation_space.shape[0]\n",
    "action_size = env.action_space.n\n",
    "print(\"State size:\", state_size, \", Action sizea:\", action_size)"
   ]
  },
  {
   "cell_type": "markdown",
   "metadata": {},
   "source": [
    "There are 4 states () and 2 actions (move left, right)"
   ]
  },
  {
   "cell_type": "markdown",
   "metadata": {},
   "source": [
    "## Set up our hyperparameters"
   ]
  },
  {
   "cell_type": "code",
   "execution_count": 28,
   "metadata": {},
   "outputs": [],
   "source": [
    "EPISODES = 1000 # a number of games we want the agent to play.\n",
    "GAMMA =  0.95   # aka decay or discount rate, to calculate the \n",
    "                # future discounted reward.\n",
    "EPSILON_DECAY = 0.995 # Decay rate for epsilon, we do less \n",
    "                      # exploration over time\n",
    "\n",
    "EPSILON_MIN = 0.01 # we want the agent to explore \n",
    "                   # at least this amount.\n",
    "LEARNING_RATE = 0.001 # Determines how much neural net \n",
    "                      # learns in each iteration."
   ]
  },
  {
   "cell_type": "markdown",
   "metadata": {},
   "source": [
    "## Create our Deep Q-learning Neural Network model\n",
    "\n",
    "**Multi-layer perceptron**:\n",
    "- Input: 4 units (space size)\n",
    "- Dense 1: 24 units, ReLU activation\n",
    "- Dense 2: 24 units, ReLU activation\n",
    "- Dense 3: 2 units (action size), Linear activation"
   ]
  },
  {
   "cell_type": "code",
   "execution_count": 20,
   "metadata": {},
   "outputs": [
    {
     "name": "stdout",
     "output_type": "stream",
     "text": [
      "_________________________________________________________________\n",
      "Layer (type)                 Output Shape              Param #   \n",
      "=================================================================\n",
      "dense_1 (Dense)              (None, 24)                120       \n",
      "_________________________________________________________________\n",
      "dense_2 (Dense)              (None, 24)                600       \n",
      "_________________________________________________________________\n",
      "dense_3 (Dense)              (None, 2)                 50        \n",
      "=================================================================\n",
      "Total params: 770\n",
      "Trainable params: 770\n",
      "Non-trainable params: 0\n",
      "_________________________________________________________________\n"
     ]
    }
   ],
   "source": [
    "# Neural Net for Deep Q Learning\n",
    "# Sequential() creates the foundation of the layers.\n",
    "model = Sequential()\n",
    "\n",
    "# 'Dense' is the basic form of a neural network layer\n",
    "# Input Layer of state size(4) and Hidden Layer with 24 nodes\n",
    "model.add(Dense(24, input_dim=state_size, activation='relu'))\n",
    "\n",
    "# Hidden layer with 24 nodes\n",
    "model.add(Dense(24, activation='relu'))\n",
    "\n",
    "# Output Layer with # of actions: 2 nodes (left, right)\n",
    "model.add(Dense(action_size, activation='linear'))\n",
    "\n",
    "# Create the model based on the information above\n",
    "model.compile(\n",
    "    loss='mse',\n",
    "    optimizer=Adam(lr=LEARNING_RATE)\n",
    ")\n",
    "\n",
    "model.summary()"
   ]
  },
  {
   "cell_type": "markdown",
   "metadata": {},
   "source": [
    "## Replay & Act"
   ]
  },
  {
   "cell_type": "code",
   "execution_count": 54,
   "metadata": {},
   "outputs": [],
   "source": [
    "def act(state, epsilon):\n",
    "    \"\"\"\n",
    "    return action from state\n",
    "    :param state: array shape (4,)\n",
    "    \"\"\"\n",
    "    # get a random number\n",
    "    # if the number no larger than EPSILON\n",
    "    # take exploration\n",
    "    if np.random.rand() <= epsilon:\n",
    "        return random.randrange(action_size)\n",
    "    \n",
    "    # else take exploitation\n",
    "    # Keras model predicts with data size (bath_size, ...)\n",
    "    # then we have to reshape state, get from environment\n",
    "    act_values = model.predict(\n",
    "        np.reshape(state, [1, state_size])\n",
    "    )\n",
    "    # Take action with max Q-value\n",
    "    return np.argmax(act_values[0])  "
   ]
  },
  {
   "cell_type": "markdown",
   "metadata": {},
   "source": [
    "**Remember that**:\n",
    "$$\n",
    "loss = \\left[\\underbrace{r\\quad+\\quad\\gamma\\max_{a'}\\hat{\\mathcal{Q}}(s,a')}_{\\text{Target}} \\quad-\\quad \\underbrace{\\mathcal{Q}(s,a)}_{\\text{Prediction}}\\right]^2\n",
    "$$"
   ]
  },
  {
   "cell_type": "code",
   "execution_count": 60,
   "metadata": {},
   "outputs": [],
   "source": [
    "def replay(memory, batch_size, model, epsilon):\n",
    "    \"\"\"\n",
    "    replay when number of steps in memory exeeds batch_size\n",
    "    replay => retrain model\n",
    "    \n",
    "    \"\"\"\n",
    "    # get batch_size past actions including\n",
    "    # state -> action -> reward -> next_state -> done if pole falls down\n",
    "    minibatch = random.sample(memory, batch_size)\n",
    "    \n",
    "    for state, action, reward, next_state, done in minibatch:\n",
    "        target = reward\n",
    "        if not done:\n",
    "            # update reward follow the above formula\n",
    "            target = (reward + GAMMA * np.amax(model.predict(next_state)[0]))\n",
    "            \n",
    "        target_f = model.predict(state)\n",
    "        target_f[0][action] = target\n",
    "        # retrian model\n",
    "        model.fit(state, target_f, epochs=1, verbose=0)\n",
    "    \n",
    "    # reset epsilon \n",
    "    epsilon1 = epsilon    \n",
    "    if epsilon > EPSILON_MIN:\n",
    "        epsilon1 = epsilon*EPSILON_DECAY\n",
    "\n",
    "    return model, epsilon1"
   ]
  },
  {
   "cell_type": "markdown",
   "metadata": {},
   "source": [
    "## Train our Agent"
   ]
  },
  {
   "cell_type": "code",
   "execution_count": 61,
   "metadata": {
    "scrolled": true
   },
   "outputs": [
    {
     "name": "stdout",
     "output_type": "stream",
     "text": [
      "episode: 0/1000, total steps: 28, score: 17.000000, e: 1.000000\n",
      "episode: 10/1000, total steps: 249, score: 238.000000, e: 0.023065\n",
      "episode: 20/1000, total steps: 186, score: 175.000000, e: 0.009986\n",
      "episode: 30/1000, total steps: 10, score: -1.000000, e: 0.009986\n",
      "episode: 40/1000, total steps: 10, score: -1.000000, e: 0.009986\n",
      "episode: 50/1000, total steps: 211, score: 200.000000, e: 0.009986\n",
      "episode: 60/1000, total steps: 202, score: 191.000000, e: 0.009986\n",
      "episode: 70/1000, total steps: 14, score: 3.000000, e: 0.009986\n",
      "episode: 80/1000, total steps: 234, score: 223.000000, e: 0.009986\n",
      "episode: 90/1000, total steps: 28, score: 17.000000, e: 0.009986\n",
      "episode: 100/1000, total steps: 151, score: 140.000000, e: 0.009986\n",
      "episode: 110/1000, total steps: 22, score: 11.000000, e: 0.009986\n",
      "episode: 120/1000, total steps: 247, score: 236.000000, e: 0.009986\n",
      "episode: 130/1000, total steps: 142, score: 131.000000, e: 0.009986\n",
      "episode: 140/1000, total steps: 195, score: 184.000000, e: 0.009986\n",
      "episode: 150/1000, total steps: 146, score: 135.000000, e: 0.009986\n",
      "episode: 160/1000, total steps: 395, score: 384.000000, e: 0.009986\n",
      "episode: 170/1000, total steps: 123, score: 112.000000, e: 0.009986\n",
      "episode: 180/1000, total steps: 10, score: -1.000000, e: 0.009986\n",
      "episode: 190/1000, total steps: 438, score: 427.000000, e: 0.009986\n",
      "episode: 200/1000, total steps: 321, score: 310.000000, e: 0.009986\n",
      "episode: 210/1000, total steps: 50, score: 39.000000, e: 0.009986\n",
      "episode: 220/1000, total steps: 294, score: 283.000000, e: 0.009986\n",
      "episode: 230/1000, total steps: 10, score: -1.000000, e: 0.009986\n",
      "episode: 240/1000, total steps: 9, score: -2.000000, e: 0.009986\n",
      "episode: 250/1000, total steps: 9, score: -2.000000, e: 0.009986\n",
      "episode: 260/1000, total steps: 10, score: -1.000000, e: 0.009986\n",
      "episode: 270/1000, total steps: 32, score: 21.000000, e: 0.009986\n",
      "episode: 280/1000, total steps: 426, score: 415.000000, e: 0.009986\n",
      "episode: 290/1000, total steps: 9, score: -2.000000, e: 0.009986\n",
      "episode: 300/1000, total steps: 9, score: -2.000000, e: 0.009986\n",
      "episode: 310/1000, total steps: 80, score: 69.000000, e: 0.009986\n",
      "episode: 320/1000, total steps: 112, score: 101.000000, e: 0.009986\n",
      "episode: 330/1000, total steps: 500, score: 489.000000, e: 0.009986\n",
      "episode: 340/1000, total steps: 337, score: 326.000000, e: 0.009986\n",
      "episode: 350/1000, total steps: 479, score: 468.000000, e: 0.009986\n",
      "episode: 360/1000, total steps: 126, score: 115.000000, e: 0.009986\n",
      "episode: 370/1000, total steps: 159, score: 148.000000, e: 0.009986\n",
      "episode: 380/1000, total steps: 38, score: 27.000000, e: 0.009986\n",
      "episode: 390/1000, total steps: 190, score: 179.000000, e: 0.009986\n",
      "episode: 400/1000, total steps: 125, score: 114.000000, e: 0.009986\n",
      "episode: 410/1000, total steps: 162, score: 151.000000, e: 0.009986\n",
      "episode: 420/1000, total steps: 174, score: 163.000000, e: 0.009986\n",
      "episode: 430/1000, total steps: 153, score: 142.000000, e: 0.009986\n",
      "episode: 440/1000, total steps: 167, score: 156.000000, e: 0.009986\n",
      "episode: 450/1000, total steps: 119, score: 108.000000, e: 0.009986\n",
      "episode: 460/1000, total steps: 500, score: 489.000000, e: 0.009986\n"
     ]
    },
    {
     "ename": "KeyboardInterrupt",
     "evalue": "",
     "output_type": "error",
     "traceback": [
      "\u001b[0;31m---------------------------------------------------------------------------\u001b[0m",
      "\u001b[0;31mKeyboardInterrupt\u001b[0m                         Traceback (most recent call last)",
      "\u001b[0;32m<ipython-input-61-0399eed29bbb>\u001b[0m in \u001b[0;36m<module>\u001b[0;34m()\u001b[0m\n\u001b[1;32m     35\u001b[0m \u001b[0;34m\u001b[0m\u001b[0m\n\u001b[1;32m     36\u001b[0m         \u001b[0;32mif\u001b[0m \u001b[0mlen\u001b[0m\u001b[0;34m(\u001b[0m\u001b[0mmemory\u001b[0m\u001b[0;34m)\u001b[0m \u001b[0;34m>\u001b[0m \u001b[0mbatch_size\u001b[0m\u001b[0;34m:\u001b[0m\u001b[0;34m\u001b[0m\u001b[0m\n\u001b[0;32m---> 37\u001b[0;31m             \u001b[0mmodel\u001b[0m\u001b[0;34m,\u001b[0m \u001b[0mepsilon\u001b[0m \u001b[0;34m=\u001b[0m \u001b[0mreplay\u001b[0m\u001b[0;34m(\u001b[0m\u001b[0mmemory\u001b[0m\u001b[0;34m,\u001b[0m \u001b[0mbatch_size\u001b[0m\u001b[0;34m,\u001b[0m \u001b[0mmodel\u001b[0m\u001b[0;34m,\u001b[0m \u001b[0mepsilon\u001b[0m\u001b[0;34m)\u001b[0m\u001b[0;34m\u001b[0m\u001b[0m\n\u001b[0m",
      "\u001b[0;32m<ipython-input-60-0362f606a1b2>\u001b[0m in \u001b[0;36mreplay\u001b[0;34m(memory, batch_size, model, epsilon)\u001b[0m\n\u001b[1;32m     14\u001b[0m                      )\n\u001b[1;32m     15\u001b[0m \u001b[0;34m\u001b[0m\u001b[0m\n\u001b[0;32m---> 16\u001b[0;31m         \u001b[0mtarget_f\u001b[0m \u001b[0;34m=\u001b[0m \u001b[0mmodel\u001b[0m\u001b[0;34m.\u001b[0m\u001b[0mpredict\u001b[0m\u001b[0;34m(\u001b[0m\u001b[0mstate\u001b[0m\u001b[0;34m)\u001b[0m\u001b[0;34m\u001b[0m\u001b[0m\n\u001b[0m\u001b[1;32m     17\u001b[0m         \u001b[0mtarget_f\u001b[0m\u001b[0;34m[\u001b[0m\u001b[0;36m0\u001b[0m\u001b[0;34m]\u001b[0m\u001b[0;34m[\u001b[0m\u001b[0maction\u001b[0m\u001b[0;34m]\u001b[0m \u001b[0;34m=\u001b[0m \u001b[0mtarget\u001b[0m\u001b[0;34m\u001b[0m\u001b[0m\n\u001b[1;32m     18\u001b[0m \u001b[0;34m\u001b[0m\u001b[0m\n",
      "\u001b[0;32m~/anaconda3/lib/python3.6/site-packages/keras/engine/training.py\u001b[0m in \u001b[0;36mpredict\u001b[0;34m(self, x, batch_size, verbose, steps)\u001b[0m\n\u001b[1;32m   1170\u001b[0m                                             \u001b[0mbatch_size\u001b[0m\u001b[0;34m=\u001b[0m\u001b[0mbatch_size\u001b[0m\u001b[0;34m,\u001b[0m\u001b[0;34m\u001b[0m\u001b[0m\n\u001b[1;32m   1171\u001b[0m                                             \u001b[0mverbose\u001b[0m\u001b[0;34m=\u001b[0m\u001b[0mverbose\u001b[0m\u001b[0;34m,\u001b[0m\u001b[0;34m\u001b[0m\u001b[0m\n\u001b[0;32m-> 1172\u001b[0;31m                                             steps=steps)\n\u001b[0m\u001b[1;32m   1173\u001b[0m \u001b[0;34m\u001b[0m\u001b[0m\n\u001b[1;32m   1174\u001b[0m     def train_on_batch(self, x, y,\n",
      "\u001b[0;32m~/anaconda3/lib/python3.6/site-packages/keras/engine/training_arrays.py\u001b[0m in \u001b[0;36mpredict_loop\u001b[0;34m(model, f, ins, batch_size, verbose, steps)\u001b[0m\n\u001b[1;32m    283\u001b[0m         \u001b[0;31m# Sample-based predictions.\u001b[0m\u001b[0;34m\u001b[0m\u001b[0;34m\u001b[0m\u001b[0m\n\u001b[1;32m    284\u001b[0m         \u001b[0mouts\u001b[0m \u001b[0;34m=\u001b[0m \u001b[0;34m[\u001b[0m\u001b[0;34m]\u001b[0m\u001b[0;34m\u001b[0m\u001b[0m\n\u001b[0;32m--> 285\u001b[0;31m         \u001b[0mbatches\u001b[0m \u001b[0;34m=\u001b[0m \u001b[0mmake_batches\u001b[0m\u001b[0;34m(\u001b[0m\u001b[0mnum_samples\u001b[0m\u001b[0;34m,\u001b[0m \u001b[0mbatch_size\u001b[0m\u001b[0;34m)\u001b[0m\u001b[0;34m\u001b[0m\u001b[0m\n\u001b[0m\u001b[1;32m    286\u001b[0m         \u001b[0mindex_array\u001b[0m \u001b[0;34m=\u001b[0m \u001b[0mnp\u001b[0m\u001b[0;34m.\u001b[0m\u001b[0marange\u001b[0m\u001b[0;34m(\u001b[0m\u001b[0mnum_samples\u001b[0m\u001b[0;34m)\u001b[0m\u001b[0;34m\u001b[0m\u001b[0m\n\u001b[1;32m    287\u001b[0m         \u001b[0;32mfor\u001b[0m \u001b[0mbatch_index\u001b[0m\u001b[0;34m,\u001b[0m \u001b[0;34m(\u001b[0m\u001b[0mbatch_start\u001b[0m\u001b[0;34m,\u001b[0m \u001b[0mbatch_end\u001b[0m\u001b[0;34m)\u001b[0m \u001b[0;32min\u001b[0m \u001b[0menumerate\u001b[0m\u001b[0;34m(\u001b[0m\u001b[0mbatches\u001b[0m\u001b[0;34m)\u001b[0m\u001b[0;34m:\u001b[0m\u001b[0;34m\u001b[0m\u001b[0m\n",
      "\u001b[0;32m~/anaconda3/lib/python3.6/site-packages/keras/engine/training_utils.py\u001b[0m in \u001b[0;36mmake_batches\u001b[0;34m(size, batch_size)\u001b[0m\n\u001b[1;32m    368\u001b[0m     \u001b[0mnum_batches\u001b[0m \u001b[0;34m=\u001b[0m \u001b[0;34m(\u001b[0m\u001b[0msize\u001b[0m \u001b[0;34m+\u001b[0m \u001b[0mbatch_size\u001b[0m \u001b[0;34m-\u001b[0m \u001b[0;36m1\u001b[0m\u001b[0;34m)\u001b[0m \u001b[0;34m//\u001b[0m \u001b[0mbatch_size\u001b[0m  \u001b[0;31m# round up\u001b[0m\u001b[0;34m\u001b[0m\u001b[0m\n\u001b[1;32m    369\u001b[0m     return [(i * batch_size, min(size, (i + 1) * batch_size))\n\u001b[0;32m--> 370\u001b[0;31m             for i in range(num_batches)]\n\u001b[0m\u001b[1;32m    371\u001b[0m \u001b[0;34m\u001b[0m\u001b[0m\n\u001b[1;32m    372\u001b[0m \u001b[0;34m\u001b[0m\u001b[0m\n",
      "\u001b[0;32m~/anaconda3/lib/python3.6/site-packages/keras/engine/training_utils.py\u001b[0m in \u001b[0;36m<listcomp>\u001b[0;34m(.0)\u001b[0m\n\u001b[1;32m    368\u001b[0m     \u001b[0mnum_batches\u001b[0m \u001b[0;34m=\u001b[0m \u001b[0;34m(\u001b[0m\u001b[0msize\u001b[0m \u001b[0;34m+\u001b[0m \u001b[0mbatch_size\u001b[0m \u001b[0;34m-\u001b[0m \u001b[0;36m1\u001b[0m\u001b[0;34m)\u001b[0m \u001b[0;34m//\u001b[0m \u001b[0mbatch_size\u001b[0m  \u001b[0;31m# round up\u001b[0m\u001b[0;34m\u001b[0m\u001b[0m\n\u001b[1;32m    369\u001b[0m     return [(i * batch_size, min(size, (i + 1) * batch_size))\n\u001b[0;32m--> 370\u001b[0;31m             for i in range(num_batches)]\n\u001b[0m\u001b[1;32m    371\u001b[0m \u001b[0;34m\u001b[0m\u001b[0m\n\u001b[1;32m    372\u001b[0m \u001b[0;34m\u001b[0m\u001b[0m\n",
      "\u001b[0;31mKeyboardInterrupt\u001b[0m: "
     ]
    }
   ],
   "source": [
    "done = False\n",
    "batch_size = 32\n",
    "epsilon = 1\n",
    "\n",
    "# save maximally only 2000 actions\n",
    "memory = deque(maxlen=2000)\n",
    "\n",
    "# In each episode\n",
    "for e in range(EPISODES):\n",
    "    # Reset state to initial\n",
    "    state = env.reset()\n",
    "    state = np.reshape(state, [1, state_size])\n",
    "    \n",
    "    # reward will be cummulate in episode\n",
    "    total_reward = 0\n",
    "    \n",
    "    # In each time\n",
    "    for time in range(500):\n",
    "        \n",
    "        # render is error in Jupyter\n",
    "        # env.render()\n",
    "        \n",
    "        # take action\n",
    "        action = act(state, epsilon)\n",
    "        \n",
    "        # do the action, change to next sate, get reward and check if fail (state = done)\n",
    "        next_state, reward, done, _ = env.step(action)\n",
    "        \n",
    "        reward = reward if not done else -10\n",
    "        # Cumulate reward\n",
    "        total_reward += reward\n",
    "        \n",
    "        # reshape and add next state to memory\n",
    "        next_state = np.reshape(next_state, [1, state_size])\n",
    "        memory.append((state, action, reward, next_state, done))\n",
    "        \n",
    "        # reset surrent state\n",
    "        state = next_state\n",
    "        \n",
    "        if done: # the Pole falls down\n",
    "            if e % 10 == 0:\n",
    "                print(\"episode: %d/%d, total steps: %d, score: %.6f, e: %.6f\" \n",
    "                   %(e, EPISODES, time+1, total_reward, epsilon))\n",
    "            break\n",
    "            \n",
    "        # retrain model & reset epsilon when there's more than batch_size steps\n",
    "        if len(memory) > batch_size:\n",
    "            model, epsilon = replay(memory, batch_size, model, epsilon)"
   ]
  },
  {
   "cell_type": "markdown",
   "metadata": {},
   "source": [
    "## NOTE:\n",
    "\n",
    "Over time the total steps and score increase, that mean agent is improved after each episode."
   ]
  },
  {
   "cell_type": "markdown",
   "metadata": {},
   "source": [
    "## Put everything together"
   ]
  },
  {
   "cell_type": "code",
   "execution_count": null,
   "metadata": {},
   "outputs": [],
   "source": [
    "# -*- coding: utf-8 -*-\n",
    "import random\n",
    "import gym\n",
    "import numpy as np\n",
    "from collections import deque\n",
    "from keras.models import Sequential\n",
    "from keras.layers import Dense\n",
    "from keras.optimizers import Adam\n",
    "\n",
    "EPISODES = 1000\n",
    "\n",
    "class DQNAgent:\n",
    "    def __init__(self, state_size, action_size):\n",
    "        self.state_size = state_size\n",
    "        self.action_size = action_size\n",
    "        self.memory = deque(maxlen=2000)\n",
    "        self.gamma = 0.95    # discount rate\n",
    "        self.epsilon = 1.0  # exploration rate\n",
    "        self.epsilon_min = 0.01\n",
    "        self.epsilon_decay = 0.995\n",
    "        self.learning_rate = 0.001\n",
    "        self.model = self._build_model()\n",
    "\n",
    "    def _build_model(self):\n",
    "        # Neural Net for Deep-Q learning Model\n",
    "        model = Sequential()\n",
    "        model.add(Dense(24, input_dim=self.state_size, activation='relu'))\n",
    "        model.add(Dense(24, activation='relu'))\n",
    "        model.add(Dense(self.action_size, activation='linear'))\n",
    "        model.compile(loss='mse',\n",
    "                      optimizer=Adam(lr=self.learning_rate))\n",
    "        return model\n",
    "\n",
    "    def remember(self, state, action, reward, next_state, done):\n",
    "        self.memory.append((state, action, reward, next_state, done))\n",
    "\n",
    "    def act(self, state):\n",
    "        if np.random.rand() <= self.epsilon:\n",
    "            return random.randrange(self.action_size)\n",
    "        act_values = self.model.predict(state)\n",
    "        return np.argmax(act_values[0])  # returns action\n",
    "\n",
    "    def replay(self, batch_size):\n",
    "        minibatch = random.sample(self.memory, batch_size)\n",
    "        for state, action, reward, next_state, done in minibatch:\n",
    "            target = reward\n",
    "            if not done:\n",
    "                target = (reward + self.gamma *\n",
    "                          np.amax(self.model.predict(next_state)[0]))\n",
    "            target_f = self.model.predict(state)\n",
    "            target_f[0][action] = target\n",
    "            self.model.fit(state, target_f, epochs=1, verbose=0)\n",
    "        if self.epsilon > self.epsilon_min:\n",
    "            self.epsilon *= self.epsilon_decay\n",
    "\n",
    "    def load(self, name):\n",
    "        self.model.load_weights(name)\n",
    "\n",
    "    def save(self, name):\n",
    "        self.model.save_weights(name)\n",
    "\n",
    "\n",
    "if __name__ == \"__main__\":\n",
    "    env = gym.make('CartPole-v1')\n",
    "    state_size = env.observation_space.shape[0]\n",
    "    action_size = env.action_space.n\n",
    "    agent = DQNAgent(state_size, action_size)\n",
    "    # agent.load(\"./save/cartpole-dqn.h5\")\n",
    "    done = False\n",
    "    batch_size = 32\n",
    "\n",
    "    for e in range(EPISODES):\n",
    "        state = env.reset()\n",
    "        state = np.reshape(state, [1, state_size])\n",
    "        for time in range(500):\n",
    "            # env.render()\n",
    "            action = agent.act(state)\n",
    "            next_state, reward, done, _ = env.step(action)\n",
    "            reward = reward if not done else -10\n",
    "            next_state = np.reshape(next_state, [1, state_size])\n",
    "            agent.remember(state, action, reward, next_state, done)\n",
    "            state = next_state\n",
    "            if done:\n",
    "                print(\"episode: {}/{}, score: {}, e: {:.2}\"\n",
    "                      .format(e, EPISODES, time, agent.epsilon))\n",
    "                break\n",
    "            if len(agent.memory) > batch_size:\n",
    "                agent.replay(batch_size)\n",
    "        # if e % 10 == 0:\n",
    "#     agent.save(\"./save/cartpole-dqn.h5\")"
   ]
  }
 ],
 "metadata": {
  "kernelspec": {
   "display_name": "Python 3",
   "language": "python",
   "name": "python3"
  },
  "language_info": {
   "codemirror_mode": {
    "name": "ipython",
    "version": 3
   },
   "file_extension": ".py",
   "mimetype": "text/x-python",
   "name": "python",
   "nbconvert_exporter": "python",
   "pygments_lexer": "ipython3",
   "version": "3.6.4"
  }
 },
 "nbformat": 4,
 "nbformat_minor": 2
}
