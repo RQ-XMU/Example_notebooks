{
 "cells": [
  {
   "cell_type": "markdown",
   "metadata": {},
   "source": [
    "Training LeNet-5 with MNIST dataset"
   ]
  },
  {
   "cell_type": "markdown",
   "metadata": {},
   "source": [
    "## Data preparation "
   ]
  },
  {
   "cell_type": "code",
   "execution_count": 1,
   "metadata": {},
   "outputs": [],
   "source": [
    "from __future__ import print_function\n",
    "import keras\n",
    "from keras.datasets import mnist\n",
    "from keras import backend as K"
   ]
  },
  {
   "cell_type": "code",
   "execution_count": 3,
   "metadata": {},
   "outputs": [],
   "source": [
    "from matplotlib import pyplot as plt\n",
    "%matplotlib inline"
   ]
  },
  {
   "cell_type": "code",
   "execution_count": 43,
   "metadata": {},
   "outputs": [],
   "source": [
    "# input image dimensions\n",
    "img_rows, img_cols = 28, 28\n",
    "num_classes = 10"
   ]
  },
  {
   "cell_type": "code",
   "execution_count": 42,
   "metadata": {},
   "outputs": [],
   "source": [
    "# the data, split between train and test sets\n",
    "(x_train, y_train), (x_test, y_test) = mnist.load_data()"
   ]
  },
  {
   "cell_type": "code",
   "execution_count": 44,
   "metadata": {},
   "outputs": [],
   "source": [
    "# normalize data\n",
    "if K.image_data_format() == 'channels_first':\n",
    "    x_train = x_train.reshape(x_train.shape[0], 1, img_rows, img_cols)\n",
    "    x_test = x_test.reshape(x_test.shape[0], 1, img_rows, img_cols)\n",
    "    input_shape = (1, img_rows, img_cols)\n",
    "else:\n",
    "    x_train = x_train.reshape(x_train.shape[0], img_rows, img_cols, 1)\n",
    "    x_test = x_test.reshape(x_test.shape[0], img_rows, img_cols, 1)\n",
    "    input_shape = (img_rows, img_cols, 1)\n",
    "\n",
    "x_train = x_train.astype('float32')\n",
    "x_test = x_test.astype('float32')\n",
    "x_train /= 255\n",
    "x_test /= 255\n",
    "\n",
    "# convert class vectors to binary class matrices\n",
    "y_train = keras.utils.to_categorical(y_train, num_classes)\n",
    "y_test = keras.utils.to_categorical(y_test, num_classes)"
   ]
  },
  {
   "cell_type": "code",
   "execution_count": 45,
   "metadata": {},
   "outputs": [
    {
     "name": "stdout",
     "output_type": "stream",
     "text": [
      "(60000, 28, 28, 1)\n",
      "(10000, 28, 28, 1)\n",
      "(60000, 28, 28, 1)\n",
      "(10000, 28, 28, 1)\n",
      "(60000, 10)\n",
      "(10000, 10)\n"
     ]
    }
   ],
   "source": [
    "print(x_train.shape)\n",
    "print(x_test.shape)\n",
    "print(x_train.shape)\n",
    "print(x_test.shape)\n",
    "print(y_train.shape)\n",
    "print(y_test.shape)"
   ]
  },
  {
   "cell_type": "code",
   "execution_count": 23,
   "metadata": {},
   "outputs": [
    {
     "data": {
      "image/png": "[encoded data removed]",
      "text/plain": [
       "<Figure size 720x144 with 4 Axes>"
      ]
     },
     "metadata": {
      "needs_background": "light"
     },
     "output_type": "display_data"
    }
   ],
   "source": [
    "# sample view\n",
    "index = [0, 10000, 30000, 50000]\n",
    "plt.figure(figsize=(10,2))\n",
    "for i in range(1,5):\n",
    "    plt.subplot(1,4,i)\n",
    "    plt.imshow(x_train[index[i-1]].reshape((28,28)), cmap='gray')\n",
    "plt.show()"
   ]
  },
  {
   "cell_type": "markdown",
   "metadata": {},
   "source": [
    "## Model definition\n",
    "![](https://www.researchgate.net/publication/328747541/figure/fig1/AS:689664499392513@1541440238195/The-network-structure-of-LeNet5-25.png)\n",
    "**LeNet-5 layers**:\n",
    "1. Convolution #1. Input = 32x32x1. Output = 28x28x6 conv2d\n",
    "2.    SubSampling #1. Input = 28x28x6. Output = 14x14x6. SubSampling is simply Average Pooling so we use avg_pool\n",
    "3.    Convolution #2. Input = 14x14x6. Output = 10x10x16 conv2d\n",
    "4.    SubSampling #2. Input = 10x10x16. Output = 5x5x16 avg_pool\n",
    "5.    Fully Connected #1. Input = 5x5x16. Output = 120\n",
    "6.    Fully Connected #2. Input = 120. Output = 84\n",
    "7.    Output 10"
   ]
  },
  {
   "cell_type": "code",
   "execution_count": 25,
   "metadata": {},
   "outputs": [],
   "source": [
    "from keras.models import Sequential\n",
    "from keras.layers import Dense, Dropout, Flatten\n",
    "from keras.layers import Conv2D, AveragePooling2D"
   ]
  },
  {
   "cell_type": "code",
   "execution_count": 50,
   "metadata": {},
   "outputs": [],
   "source": [
    "lenet = Sequential()\n",
    "\n",
    "lenet.add(\n",
    "    Conv2D(\n",
    "        filters=6, \n",
    "        kernel_size=(3,3), \n",
    "        activation='sigmoid', \n",
    "        input_shape=(28,28,1),\n",
    "        name='CONV1'\n",
    "    )\n",
    ")\n",
    "\n",
    "lenet.add(AveragePooling2D(name='POOL1'))\n",
    "\n",
    "lenet.add(\n",
    "    Conv2D(\n",
    "        filters=16,\n",
    "        kernel_size=(3,3),\n",
    "        activation='sigmoid',\n",
    "        name='CONV2'\n",
    "    )\n",
    ")\n",
    "\n",
    "lenet.add(AveragePooling2D(name='POOL2'))\n",
    "\n",
    "lenet.add(Flatten(name='FLATTEN1'))\n",
    "lenet.add(Dense(units=120, activation='sigmoid', name='FC1'))\n",
    "lenet.add(Dense(units=84, activation='sigmoid', name='FC2'))\n",
    "lenet.add(Dense(units=10, activation='softmax', name='OUTPUT'))"
   ]
  },
  {
   "cell_type": "code",
   "execution_count": 51,
   "metadata": {},
   "outputs": [
    {
     "name": "stdout",
     "output_type": "stream",
     "text": [
      "_________________________________________________________________\n",
      "Layer (type)                 Output Shape              Param #   \n",
      "=================================================================\n",
      "CONV1 (Conv2D)               (None, 26, 26, 6)         60        \n",
      "_________________________________________________________________\n",
      "POOL1 (AveragePooling2D)     (None, 13, 13, 6)         0         \n",
      "_________________________________________________________________\n",
      "CONV2 (Conv2D)               (None, 11, 11, 16)        880       \n",
      "_________________________________________________________________\n",
      "POOL2 (AveragePooling2D)     (None, 5, 5, 16)          0         \n",
      "_________________________________________________________________\n",
      "FLATTEN1 (Flatten)           (None, 400)               0         \n",
      "_________________________________________________________________\n",
      "FC1 (Dense)                  (None, 120)               48120     \n",
      "_________________________________________________________________\n",
      "FC2 (Dense)                  (None, 84)                10164     \n",
      "_________________________________________________________________\n",
      "OUTPUT (Dense)               (None, 10)                850       \n",
      "=================================================================\n",
      "Total params: 60,074\n",
      "Trainable params: 60,074\n",
      "Non-trainable params: 0\n",
      "_________________________________________________________________\n"
     ]
    }
   ],
   "source": [
    "lenet.summary()"
   ]
  },
  {
   "cell_type": "code",
   "execution_count": 52,
   "metadata": {},
   "outputs": [],
   "source": [
    "lenet.compile(\n",
    "    optimizer='adam',\n",
    "    loss='categorical_crossentropy',  \n",
    "    metrics=['accuracy']\n",
    ")"
   ]
  },
  {
   "cell_type": "code",
   "execution_count": 53,
   "metadata": {
    "scrolled": true
   },
   "outputs": [
    {
     "name": "stdout",
     "output_type": "stream",
     "text": [
      "Train on 60000 samples, validate on 10000 samples\n",
      "Epoch 1/50\n",
      "60000/60000 [==============================] - 2s 39us/step - loss: 1.5578 - acc: 0.4824 - val_loss: 0.5457 - val_acc: 0.8492\n",
      "Epoch 2/50\n",
      "60000/60000 [==============================] - 2s 32us/step - loss: 0.4155 - acc: 0.8806 - val_loss: 0.3314 - val_acc: 0.9007\n",
      "Epoch 3/50\n",
      "60000/60000 [==============================] - 2s 32us/step - loss: 0.3011 - acc: 0.9094 - val_loss: 0.2605 - val_acc: 0.9229\n",
      "Epoch 4/50\n",
      "60000/60000 [==============================] - 2s 32us/step - loss: 0.2458 - acc: 0.9249 - val_loss: 0.2173 - val_acc: 0.9339\n",
      "Epoch 5/50\n",
      "60000/60000 [==============================] - 2s 33us/step - loss: 0.2069 - acc: 0.9362 - val_loss: 0.1852 - val_acc: 0.9436\n",
      "Epoch 6/50\n",
      "60000/60000 [==============================] - 2s 34us/step - loss: 0.1803 - acc: 0.9451 - val_loss: 0.1629 - val_acc: 0.9503\n",
      "Epoch 7/50\n",
      "60000/60000 [==============================] - 2s 33us/step - loss: 0.1583 - acc: 0.9513 - val_loss: 0.1434 - val_acc: 0.9554\n",
      "Epoch 8/50\n",
      "60000/60000 [==============================] - 2s 33us/step - loss: 0.1413 - acc: 0.9566 - val_loss: 0.1324 - val_acc: 0.9592\n",
      "Epoch 9/50\n",
      "60000/60000 [==============================] - 2s 33us/step - loss: 0.1271 - acc: 0.9608 - val_loss: 0.1231 - val_acc: 0.9624\n",
      "Epoch 10/50\n",
      "60000/60000 [==============================] - 2s 32us/step - loss: 0.1168 - acc: 0.9640 - val_loss: 0.1137 - val_acc: 0.9655\n",
      "Epoch 11/50\n",
      "60000/60000 [==============================] - 2s 32us/step - loss: 0.1067 - acc: 0.9673 - val_loss: 0.1123 - val_acc: 0.9665\n",
      "Epoch 12/50\n",
      "60000/60000 [==============================] - 2s 32us/step - loss: 0.0988 - acc: 0.9695 - val_loss: 0.1041 - val_acc: 0.9674\n",
      "Epoch 13/50\n",
      "60000/60000 [==============================] - 2s 32us/step - loss: 0.0915 - acc: 0.9715 - val_loss: 0.0864 - val_acc: 0.9723\n",
      "Epoch 14/50\n",
      "60000/60000 [==============================] - 2s 32us/step - loss: 0.0848 - acc: 0.9737 - val_loss: 0.0833 - val_acc: 0.9734\n",
      "Epoch 15/50\n",
      "60000/60000 [==============================] - 2s 32us/step - loss: 0.0805 - acc: 0.9750 - val_loss: 0.0849 - val_acc: 0.9728\n",
      "Epoch 16/50\n",
      "60000/60000 [==============================] - 2s 32us/step - loss: 0.0771 - acc: 0.9758 - val_loss: 0.0916 - val_acc: 0.9714\n",
      "Epoch 17/50\n",
      "60000/60000 [==============================] - 2s 32us/step - loss: 0.0713 - acc: 0.9785 - val_loss: 0.0802 - val_acc: 0.9742\n",
      "Epoch 18/50\n",
      "60000/60000 [==============================] - 2s 34us/step - loss: 0.0686 - acc: 0.9787 - val_loss: 0.0678 - val_acc: 0.9791\n",
      "Epoch 19/50\n",
      "60000/60000 [==============================] - 2s 34us/step - loss: 0.0650 - acc: 0.9798 - val_loss: 0.0705 - val_acc: 0.9772\n",
      "Epoch 20/50\n",
      "60000/60000 [==============================] - 2s 34us/step - loss: 0.0624 - acc: 0.9808 - val_loss: 0.0664 - val_acc: 0.9791\n",
      "Epoch 21/50\n",
      "60000/60000 [==============================] - 2s 33us/step - loss: 0.0591 - acc: 0.9814 - val_loss: 0.0682 - val_acc: 0.9773\n",
      "Epoch 22/50\n",
      "60000/60000 [==============================] - 2s 33us/step - loss: 0.0568 - acc: 0.9819 - val_loss: 0.0633 - val_acc: 0.9794\n",
      "Epoch 23/50\n",
      "60000/60000 [==============================] - 2s 34us/step - loss: 0.0533 - acc: 0.9836 - val_loss: 0.0658 - val_acc: 0.9783\n",
      "Epoch 24/50\n",
      "60000/60000 [==============================] - 2s 33us/step - loss: 0.0521 - acc: 0.9840 - val_loss: 0.0651 - val_acc: 0.9789\n",
      "Epoch 25/50\n",
      "60000/60000 [==============================] - 2s 33us/step - loss: 0.0487 - acc: 0.9849 - val_loss: 0.0624 - val_acc: 0.9798\n",
      "Epoch 26/50\n",
      "60000/60000 [==============================] - 2s 33us/step - loss: 0.0482 - acc: 0.9847 - val_loss: 0.0619 - val_acc: 0.9810\n",
      "Epoch 27/50\n",
      "60000/60000 [==============================] - 2s 33us/step - loss: 0.0474 - acc: 0.9851 - val_loss: 0.0611 - val_acc: 0.9795\n",
      "Epoch 28/50\n",
      "60000/60000 [==============================] - 2s 33us/step - loss: 0.0452 - acc: 0.9856 - val_loss: 0.0598 - val_acc: 0.9809\n",
      "Epoch 29/50\n",
      "60000/60000 [==============================] - 2s 32us/step - loss: 0.0428 - acc: 0.9868 - val_loss: 0.0576 - val_acc: 0.9818\n",
      "Epoch 30/50\n",
      "60000/60000 [==============================] - 2s 33us/step - loss: 0.0413 - acc: 0.9871 - val_loss: 0.0575 - val_acc: 0.9814\n",
      "Epoch 31/50\n",
      "60000/60000 [==============================] - 2s 33us/step - loss: 0.0392 - acc: 0.9877 - val_loss: 0.0621 - val_acc: 0.9789\n",
      "Epoch 32/50\n",
      "60000/60000 [==============================] - 2s 33us/step - loss: 0.0388 - acc: 0.9873 - val_loss: 0.0598 - val_acc: 0.9796\n",
      "Epoch 33/50\n",
      "60000/60000 [==============================] - 2s 33us/step - loss: 0.0374 - acc: 0.9879 - val_loss: 0.0531 - val_acc: 0.9831\n",
      "Epoch 34/50\n",
      "60000/60000 [==============================] - 2s 34us/step - loss: 0.0355 - acc: 0.9890 - val_loss: 0.0555 - val_acc: 0.9830\n",
      "Epoch 35/50\n",
      "60000/60000 [==============================] - 2s 34us/step - loss: 0.0335 - acc: 0.9893 - val_loss: 0.0547 - val_acc: 0.9825\n",
      "Epoch 36/50\n",
      "60000/60000 [==============================] - 2s 33us/step - loss: 0.0345 - acc: 0.9888 - val_loss: 0.0565 - val_acc: 0.9826\n",
      "Epoch 37/50\n",
      "60000/60000 [==============================] - 2s 33us/step - loss: 0.0327 - acc: 0.9894 - val_loss: 0.0522 - val_acc: 0.9837\n",
      "Epoch 38/50\n",
      "60000/60000 [==============================] - 2s 33us/step - loss: 0.0313 - acc: 0.9894 - val_loss: 0.0640 - val_acc: 0.9795\n",
      "Epoch 39/50\n",
      "60000/60000 [==============================] - 2s 33us/step - loss: 0.0301 - acc: 0.9904 - val_loss: 0.0521 - val_acc: 0.9836\n",
      "Epoch 40/50\n",
      "60000/60000 [==============================] - 2s 33us/step - loss: 0.0287 - acc: 0.9909 - val_loss: 0.0488 - val_acc: 0.9836\n",
      "Epoch 41/50\n",
      "60000/60000 [==============================] - 2s 33us/step - loss: 0.0278 - acc: 0.9911 - val_loss: 0.0580 - val_acc: 0.9825\n",
      "Epoch 42/50\n",
      "60000/60000 [==============================] - 2s 33us/step - loss: 0.0274 - acc: 0.9913 - val_loss: 0.0502 - val_acc: 0.9845\n",
      "Epoch 43/50\n",
      "60000/60000 [==============================] - 2s 33us/step - loss: 0.0255 - acc: 0.9919 - val_loss: 0.0623 - val_acc: 0.9799\n",
      "Epoch 44/50\n",
      "60000/60000 [==============================] - 2s 33us/step - loss: 0.0265 - acc: 0.9915 - val_loss: 0.0602 - val_acc: 0.9812\n",
      "Epoch 45/50\n",
      "60000/60000 [==============================] - 2s 33us/step - loss: 0.0242 - acc: 0.9923 - val_loss: 0.0515 - val_acc: 0.9838\n",
      "Epoch 46/50\n",
      "60000/60000 [==============================] - 2s 34us/step - loss: 0.0228 - acc: 0.9926 - val_loss: 0.0512 - val_acc: 0.9846\n",
      "Epoch 47/50\n",
      "60000/60000 [==============================] - 2s 33us/step - loss: 0.0223 - acc: 0.9929 - val_loss: 0.0571 - val_acc: 0.9828\n",
      "Epoch 48/50\n",
      "60000/60000 [==============================] - 2s 33us/step - loss: 0.0220 - acc: 0.9932 - val_loss: 0.0553 - val_acc: 0.9839\n",
      "Epoch 49/50\n",
      "60000/60000 [==============================] - 2s 33us/step - loss: 0.0201 - acc: 0.9937 - val_loss: 0.0553 - val_acc: 0.9842\n",
      "Epoch 50/50\n",
      "60000/60000 [==============================] - 2s 33us/step - loss: 0.0197 - acc: 0.9937 - val_loss: 0.0538 - val_acc: 0.9843\n"
     ]
    }
   ],
   "source": [
    "EPOCHS = 50\n",
    "BATCH_SIZE = 128\n",
    "his = lenet.fit(x_train, y_train,\n",
    "                batch_size=BATCH_SIZE,\n",
    "                epochs=EPOCHS,\n",
    "                verbose=1,\n",
    "                validation_data=(x_test, y_test)\n",
    "               )"
   ]
  },
  {
   "cell_type": "code",
   "execution_count": 56,
   "metadata": {},
   "outputs": [
    {
     "data": {
      "text/plain": [
       "dict_keys(['val_loss', 'val_acc', 'loss', 'acc'])"
      ]
     },
     "execution_count": 56,
     "metadata": {},
     "output_type": "execute_result"
    }
   ],
   "source": [
    "his.history.keys()"
   ]
  },
  {
   "cell_type": "code",
   "execution_count": 62,
   "metadata": {},
   "outputs": [
    {
     "data": {
      "image/png": "[encoded data removed]",
      "text/plain": [
       "<Figure size 1080x360 with 2 Axes>"
      ]
     },
     "metadata": {
      "needs_background": "light"
     },
     "output_type": "display_data"
    }
   ],
   "source": [
    "epoch = list(range(1, EPOCHS+1))\n",
    "plt.figure(figsize=(15,5))\n",
    "\n",
    "plt.subplot(1,2,1)\n",
    "plt.plot(epoch, his.history['loss'], label='training')\n",
    "plt.plot(epoch, his.history['val_loss'], label='validation')\n",
    "plt.xlabel('Epoch')\n",
    "plt.ylabel('LOSS')\n",
    "plt.title('Loss function')\n",
    "plt.legend()\n",
    "\n",
    "plt.subplot(1,2,2)\n",
    "plt.plot(epoch, his.history['acc'], label='training')\n",
    "plt.plot(epoch, his.history['val_acc'], label='validation')\n",
    "plt.xlabel('Epoch')\n",
    "plt.ylabel('Accuracy')\n",
    "plt.title('Accuracy')\n",
    "plt.legend()\n",
    "\n",
    "plt.suptitle('Training history')\n",
    "plt.show()\n",
    "\n"
   ]
  },
  {
   "cell_type": "code",
   "execution_count": 73,
   "metadata": {},
   "outputs": [
    {
     "data": {
      "image/png": "[encoded data removed]",
      "text/plain": [
       "<Figure size 720x720 with 16 Axes>"
      ]
     },
     "metadata": {
      "needs_background": "light"
     },
     "output_type": "display_data"
    }
   ],
   "source": [
    "# Visualize 16 filters of CONV2:\n",
    "from keras.models import Model\n",
    "import numpy as np\n",
    "intermediate_layer_model = \\\n",
    "    Model(inputs=lenet.input, outputs=lenet.get_layer(\"CONV2\").output)\n",
    "intermediate_output = intermediate_layer_model.predict(np.expand_dims(x_test[100],axis=0))\n",
    "plt.figure(figsize=(10,10),)\n",
    "for i in range(intermediate_output.shape[-1]):\n",
    "    plt.subplot(4,4,i+1) \n",
    "    plt.subplots_adjust(left  = 0.125 ,right = 0.9 , bottom = 0.1,top = 0.9  ,wspace = 0.5 ,hspace = 0.5 )\n",
    "    plt.axis(\"off\")\n",
    "    plt.title(\"filter: %i\" %(i+1))\n",
    "    im = intermediate_output[:,:,:,i]\n",
    "    plt.imshow(np.squeeze(im), cmap=plt.get_cmap('gray'))"
   ]
  },
  {
   "cell_type": "code",
   "execution_count": null,
   "metadata": {},
   "outputs": [],
   "source": []
  }
 ],
 "metadata": {
  "kernelspec": {
   "display_name": "Python 3",
   "language": "python",
   "name": "python3"
  },
  "language_info": {
   "codemirror_mode": {
    "name": "ipython",
    "version": 3
   },
   "file_extension": ".py",
   "mimetype": "text/x-python",
   "name": "python",
   "nbconvert_exporter": "python",
   "pygments_lexer": "ipython3",
   "version": "3.6.6"
  }
 },
 "nbformat": 4,
 "nbformat_minor": 2
}
