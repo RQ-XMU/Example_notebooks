{
 "cells": [
  {
   "cell_type": "markdown",
   "metadata": {},
   "source": [
    "This notebook provides a way to measure the importance of features in binary classification model."
   ]
  },
  {
   "cell_type": "markdown",
   "metadata": {},
   "source": [
    "## Numerical variables\n",
    "\n",
    "In case with numerical variables we use Pearson correlation coefficient:\n",
    "$$\n",
    "\\rho_{x,y}=\\frac{\\text{cov}(x,y)}{\\sigma_x\\sigma_y}\n",
    "$$\n",
    "where:\n",
    "- $\\rho_{x,y}$: Pearson correlation coefficient of variables $x$ and $y$\n",
    "- $\\text{cov}(x,y)$: Covariance of $x, y$\n",
    "$$\n",
    "\\text{cov}(x,y)=\\sum_i(x_i-\\mu_x)(y_i-\\mu_y)\n",
    "$$\n",
    "- $\\mu_x, \\mu_y$: mean values of $x,y$\n",
    "- $\\sigma_x, \\sigma_y$: standard deviations of $x, y$\n",
    "- $\\sigma_x = \\sqrt{\\text{Var}(x)} = \\sqrt{\\text{Cov}(x,x)}$\n",
    "\n",
    "The larger absolute value of $\\rho_{x,y}$ the more relevent $x$ and $y$"
   ]
  },
  {
   "cell_type": "markdown",
   "metadata": {},
   "source": [
    "## Categorical variables\n",
    "For the categorical variables, there’s no Pearson correlation coefficient, but we can use another great discovery of Pearson, which is the **chi-square test**.\n",
    "\n",
    "Let’s say we have a histogram of $N$ different categories with $O$ observation that sum up to $n$ and let’s say want to compare it with a theoretical histogram made by *probabilities* $p$. We can build a chi-square variable in this way:\n",
    "$$\n",
    "\\chi^2=\\sum_{i=1}^{N}\\frac{(O_i-np_i)^2}{np_i}\n",
    "$$\n",
    "\n",
    "This variable is asymptotically distributed as a **chi-square distribution** with N-1 degrees of freedom.\n",
    "\n",
    "If our variable is not correlated to the target, we expect that, for each one of its values, we get 50% zeroes and 50% ones on our dataset. This is a **theoretical histogram** we could expect to have if there’s no correlation, so a **one-tailed chi-square test** performed to check whether the real histogram is similar to this one, should give us a p-value equal to 1 (i.e. a low chi-square value) if our variable is not correlated to the target. On the contrary, a perfect predictor will push p-value towards lower values (i.e. higher chi-square values)."
   ]
  },
  {
   "cell_type": "markdown",
   "metadata": {},
   "source": [
    "## Example in Python\n",
    "Using Iris dataset with 1 - virginica, 0 - otherwise"
   ]
  },
  {
   "cell_type": "code",
   "execution_count": 1,
   "metadata": {},
   "outputs": [],
   "source": [
    "from sklearn.datasets import load_iris\n",
    "iris = load_iris()"
   ]
  },
  {
   "cell_type": "code",
   "execution_count": 2,
   "metadata": {},
   "outputs": [
    {
     "data": {
      "text/plain": [
       "dict_keys(['data', 'target', 'target_names', 'DESCR', 'feature_names'])"
      ]
     },
     "execution_count": 2,
     "metadata": {},
     "output_type": "execute_result"
    }
   ],
   "source": [
    "iris.keys()"
   ]
  },
  {
   "cell_type": "code",
   "execution_count": 42,
   "metadata": {},
   "outputs": [],
   "source": [
    "# transform to dataframe\n",
    "import pandas as pd\n",
    "import numpy as np\n",
    "iris_df = pd.DataFrame(\n",
    "    data=np.concatenate([iris.data, iris.target.reshape(-1,1)], axis=1), \n",
    "    columns=iris.feature_names+['target']\n",
    ")\n",
    "iris_df['target'] = iris_df['target'].astype(int)\n",
    "iris_df['Species'] = iris_df['target'].map({0: 'setosa', 1: 'versicolor', 2: 'virginica'})"
   ]
  },
  {
   "cell_type": "code",
   "execution_count": 29,
   "metadata": {},
   "outputs": [
    {
     "data": {
      "text/plain": [
       "array(['setosa', 'versicolor', 'virginica'], dtype='<U10')"
      ]
     },
     "execution_count": 29,
     "metadata": {},
     "output_type": "execute_result"
    }
   ],
   "source": [
    "iris.target_names"
   ]
  },
  {
   "cell_type": "code",
   "execution_count": 44,
   "metadata": {},
   "outputs": [],
   "source": [
    "# transform class to binary:\n",
    "# 1 - virginica\n",
    "# 0 - otherwise\n",
    "iris_df['target'] = (iris_df['target'] > 1).astype(int)"
   ]
  },
  {
   "cell_type": "code",
   "execution_count": 45,
   "metadata": {
    "scrolled": true
   },
   "outputs": [
    {
     "data": {
      "text/plain": [
       "sepal length (cm)    0.638020\n",
       "sepal width (cm)     0.130901\n",
       "petal length (cm)    0.721102\n",
       "petal width (cm)     0.769134\n",
       "target               1.000000\n",
       "Name: target, dtype: float64"
      ]
     },
     "execution_count": 45,
     "metadata": {},
     "output_type": "execute_result"
    }
   ],
   "source": [
    "# correlation coefficients\n",
    "target_corr = np.abs(iris_df.corr()['target'])\n",
    "target_corr"
   ]
  },
  {
   "cell_type": "code",
   "execution_count": 46,
   "metadata": {},
   "outputs": [
    {
     "data": {
      "image/png": "[encoded data removed]",
      "text/plain": [
       "<matplotlib.figure.Figure at 0x7fef553ed1d0>"
      ]
     },
     "metadata": {},
     "output_type": "display_data"
    },
    {
     "data": {
      "image/png": "[encoded data removed]",
      "text/plain": [
       "<matplotlib.figure.Figure at 0x7fef552e4be0>"
      ]
     },
     "metadata": {},
     "output_type": "display_data"
    },
    {
     "data": {
      "image/png": "[encoded data removed]",
      "text/plain": [
       "<matplotlib.figure.Figure at 0x7fef54ada940>"
      ]
     },
     "metadata": {},
     "output_type": "display_data"
    },
    {
     "data": {
      "image/png": "[encoded data removed]",
      "text/plain": [
       "<matplotlib.figure.Figure at 0x7fef551f3048>"
      ]
     },
     "metadata": {},
     "output_type": "display_data"
    }
   ],
   "source": [
    "# plotting\n",
    "import matplotlib.pyplot as plt\n",
    "%matplotlib inline\n",
    "for col in iris.feature_names:\n",
    "    iris_df.plot(x=col, y='target', kind='scatter', figsize=(3,2))\n",
    "    plt.show()"
   ]
  },
  {
   "cell_type": "code",
   "execution_count": 48,
   "metadata": {},
   "outputs": [
    {
     "data": {
      "text/plain": [
       "Species     target\n",
       "setosa      0         50\n",
       "versicolor  0         50\n",
       "virginica   1         50\n",
       "dtype: int64"
      ]
     },
     "execution_count": 48,
     "metadata": {},
     "output_type": "execute_result"
    }
   ],
   "source": [
    "iris_df.groupby(['Species', 'target']).size()"
   ]
  },
  {
   "cell_type": "code",
   "execution_count": 58,
   "metadata": {},
   "outputs": [],
   "source": [
    "import scipy.stats as scs\n",
    "\n",
    "def chi_square_of_df_cols(df, col1, col2):\n",
    "    df_col1, df_col2 = df[col1], df[col2]\n",
    "    cats1, cats2 = pd.Categorical(df_col1.unique()), pd.Categorical(df_col2.unique())\n",
    "\n",
    "    def aux(is_cat1):\n",
    "        return [sum(is_cat1 & (df_col2 == cat2))\n",
    "                for cat2 in cats2]\n",
    "    result = [aux(df_col1 == cat1)\n",
    "              for cat1 in cats1]\n",
    "    print(result)\n",
    "    return scs.chi2_contingency(result)"
   ]
  },
  {
   "cell_type": "code",
   "execution_count": 59,
   "metadata": {},
   "outputs": [
    {
     "name": "stdout",
     "output_type": "stream",
     "text": [
      "[[50, 0], [50, 0], [0, 50]]\n"
     ]
    },
    {
     "data": {
      "text/plain": [
       "(150.0, 2.678636961808087e-33, 2, array([[33.33333333, 16.66666667],\n",
       "        [33.33333333, 16.66666667],\n",
       "        [33.33333333, 16.66666667]]))"
      ]
     },
     "execution_count": 59,
     "metadata": {},
     "output_type": "execute_result"
    }
   ],
   "source": [
    "chi_square_of_df_cols(iris_df, 'Species', 'target')"
   ]
  },
  {
   "cell_type": "code",
   "execution_count": null,
   "metadata": {},
   "outputs": [],
   "source": [
    "scs.chi2_contingency(result)"
   ]
  }
 ],
 "metadata": {
  "kernelspec": {
   "display_name": "Python 3",
   "language": "python",
   "name": "python3"
  },
  "language_info": {
   "codemirror_mode": {
    "name": "ipython",
    "version": 3
   },
   "file_extension": ".py",
   "mimetype": "text/x-python",
   "name": "python",
   "nbconvert_exporter": "python",
   "pygments_lexer": "ipython3",
   "version": "3.6.4"
  }
 },
 "nbformat": 4,
 "nbformat_minor": 2
}
