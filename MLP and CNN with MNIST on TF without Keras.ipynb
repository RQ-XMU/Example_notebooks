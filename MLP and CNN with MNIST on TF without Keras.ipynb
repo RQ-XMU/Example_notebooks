{
 "cells": [
  {
   "cell_type": "markdown",
   "metadata": {},
   "source": [
    "# General explanation\n",
    "Building neural networks with TensorFlow, without Keras for MNIST data.\n",
    "MNIST contains 55000 images of digit 0...9. The task is to build a model that predict digit for a given image.\n",
    "Each image in MNIST is 28x28x1 mean 28 pixels width, 28 pixels heigh and 1 color channel, - gray"
   ]
  },
  {
   "cell_type": "markdown",
   "metadata": {},
   "source": [
    "# Load and see some examples"
   ]
  },
  {
   "cell_type": "code",
   "execution_count": 1,
   "metadata": {
    "scrolled": true
   },
   "outputs": [
    {
     "name": "stderr",
     "output_type": "stream",
     "text": [
      "/home/hung/anaconda3/lib/python3.6/site-packages/h5py/__init__.py:36: FutureWarning: Conversion of the second argument of issubdtype from `float` to `np.floating` is deprecated. In future, it will be treated as `np.float64 == np.dtype(float).type`.\n",
      "  from ._conv import register_converters as _register_converters\n"
     ]
    },
    {
     "name": "stdout",
     "output_type": "stream",
     "text": [
      "WARNING:tensorflow:From <ipython-input-1-93d8da72a918>:2: read_data_sets (from tensorflow.contrib.learn.python.learn.datasets.mnist) is deprecated and will be removed in a future version.\n",
      "Instructions for updating:\n",
      "Please use alternatives such as official/mnist/dataset.py from tensorflow/models.\n",
      "WARNING:tensorflow:From /home/hung/anaconda3/lib/python3.6/site-packages/tensorflow/contrib/learn/python/learn/datasets/mnist.py:260: maybe_download (from tensorflow.contrib.learn.python.learn.datasets.base) is deprecated and will be removed in a future version.\n",
      "Instructions for updating:\n",
      "Please write your own downloading logic.\n",
      "WARNING:tensorflow:From /home/hung/anaconda3/lib/python3.6/site-packages/tensorflow/contrib/learn/python/learn/datasets/mnist.py:262: extract_images (from tensorflow.contrib.learn.python.learn.datasets.mnist) is deprecated and will be removed in a future version.\n",
      "Instructions for updating:\n",
      "Please use tf.data to implement this functionality.\n",
      "Extracting MNIST_data/train-images-idx3-ubyte.gz\n",
      "WARNING:tensorflow:From /home/hung/anaconda3/lib/python3.6/site-packages/tensorflow/contrib/learn/python/learn/datasets/mnist.py:267: extract_labels (from tensorflow.contrib.learn.python.learn.datasets.mnist) is deprecated and will be removed in a future version.\n",
      "Instructions for updating:\n",
      "Please use tf.data to implement this functionality.\n",
      "Extracting MNIST_data/train-labels-idx1-ubyte.gz\n",
      "WARNING:tensorflow:From /home/hung/anaconda3/lib/python3.6/site-packages/tensorflow/contrib/learn/python/learn/datasets/mnist.py:110: dense_to_one_hot (from tensorflow.contrib.learn.python.learn.datasets.mnist) is deprecated and will be removed in a future version.\n",
      "Instructions for updating:\n",
      "Please use tf.one_hot on tensors.\n",
      "Extracting MNIST_data/t10k-images-idx3-ubyte.gz\n",
      "Extracting MNIST_data/t10k-labels-idx1-ubyte.gz\n",
      "WARNING:tensorflow:From /home/hung/anaconda3/lib/python3.6/site-packages/tensorflow/contrib/learn/python/learn/datasets/mnist.py:290: DataSet.__init__ (from tensorflow.contrib.learn.python.learn.datasets.mnist) is deprecated and will be removed in a future version.\n",
      "Instructions for updating:\n",
      "Please use alternatives such as official/mnist/dataset.py from tensorflow/models.\n"
     ]
    }
   ],
   "source": [
    "from tensorflow.examples.tutorials.mnist import input_data\n",
    "mnist = input_data.read_data_sets('MNIST_data', one_hot=True)"
   ]
  },
  {
   "cell_type": "code",
   "execution_count": 2,
   "metadata": {},
   "outputs": [
    {
     "name": "stdout",
     "output_type": "stream",
     "text": [
      "MNIST object overview:\n",
      " Datasets(train=<tensorflow.contrib.learn.python.learn.datasets.mnist.DataSet object at 0x7fef05158940>, validation=<tensorflow.contrib.learn.python.learn.datasets.mnist.DataSet object at 0x7feed176f400>, test=<tensorflow.contrib.learn.python.learn.datasets.mnist.DataSet object at 0x7feed176f860>)\n",
      "==================================================\n",
      "Train set shape:\n",
      " (55000, 784)\n",
      "==================================================\n",
      "Test set shape:\n",
      " (10000, 784)\n"
     ]
    }
   ],
   "source": [
    "print(\"MNIST object overview:\\n\", mnist)\n",
    "print('='*50)\n",
    "print(\"Train set shape:\\n\", mnist.train.images.shape)\n",
    "print('='*50)\n",
    "print(\"Test set shape:\\n\", mnist.test.images.shape)"
   ]
  },
  {
   "cell_type": "markdown",
   "metadata": {},
   "source": [
    "### Samples"
   ]
  },
  {
   "cell_type": "code",
   "execution_count": 3,
   "metadata": {},
   "outputs": [],
   "source": [
    "import matplotlib.pyplot as plt\n",
    "%matplotlib inline"
   ]
  },
  {
   "cell_type": "code",
   "execution_count": 4,
   "metadata": {},
   "outputs": [
    {
     "data": {
      "image/png": "[encoded data removed]",
      "text/plain": [
       "<matplotlib.figure.Figure at 0x7f6fe1e925f8>"
      ]
     },
     "metadata": {},
     "output_type": "display_data"
    }
   ],
   "source": [
    "sample_indices = [1,2,3,4]\n",
    "train_samples = mnist.train.images[sample_indices]\n",
    "labes_samples = mnist.train.labels[sample_indices]\n",
    "plt.figure(figsize=[6,6])\n",
    "for i in range(len(sample_indices)):\n",
    "    plt.subplot(2,2,i+1)\n",
    "    plt.title(\"Label: %i\"%labes_samples[i].argmax(axis=-1))\n",
    "    plt.imshow(train_samples[i].reshape([28,28]), cmap='gray')"
   ]
  },
  {
   "cell_type": "markdown",
   "metadata": {},
   "source": [
    "# MultiLayer Perceptron\n",
    "## Architexture\n",
    "\n",
    "- 1. Input [batch, 724 = 28x28], **x** <br>\n",
    "- 2.1. Linear summator 1, 200 units, **Z1**\n",
    "- 2.2. Activator 1, ReLU/sigmoid, **A1** <br>\n",
    "- 3.1. Linear summator 2, 100 units, **Z2**\n",
    "- 3.2. Activator 2, ReLU/sigmoid, **A2** <br>\n",
    "- 4.1. Linear summator 3, 10 units, **Z3** \n",
    "- 4.2. Activator 3, ReLU/sigmoid, **A3**\n",
    "- 5. softmax\n"
   ]
  },
  {
   "cell_type": "code",
   "execution_count": 3,
   "metadata": {},
   "outputs": [],
   "source": [
    "# setup environment\n",
    "import tensorflow as tf\n",
    "sess = tf.InteractiveSession()"
   ]
  },
  {
   "cell_type": "code",
   "execution_count": 52,
   "metadata": {},
   "outputs": [],
   "source": [
    "import math"
   ]
  },
  {
   "cell_type": "code",
   "execution_count": 73,
   "metadata": {},
   "outputs": [],
   "source": [
    "# BUILD MODEL\n",
    "# build computational graph\n",
    "# ============================================================\n",
    "\n",
    "# input layer\n",
    "x = tf.placeholder(tf.float32, shape=[None, 784])\n",
    "# None means we do not define how many batch size\n",
    "# ============================================================\n",
    "\n",
    "# Weight and bias matrices for fist summator with 200 units\n",
    "W12 = tf.Variable(tf.random_normal(shape=[784, 200]))\n",
    "b1 = tf.Variable(tf.zeros([200]))\n",
    "\n",
    "# initialize variables for W12 & b1\n",
    "sess.run(tf.global_variables_initializer())\n",
    "\n",
    "# first summator\n",
    "Z1 = tf.matmul(x, W12) + b1\n",
    "\n",
    "# First activator with sigmoid function\n",
    "A1 = tf.nn.sigmoid(Z1)\n",
    "\n",
    "# ============================================================\n",
    "# Weight and bias matrices for second summator with 100 units\n",
    "W23 = tf.Variable(tf.random_normal(shape=[200, 100]))\n",
    "b2 = tf.Variable(tf.zeros([100]))\n",
    "\n",
    "# initialize variables for W23 & b2\n",
    "sess.run(tf.global_variables_initializer())\n",
    "\n",
    "# second summator\n",
    "Z2 = tf.matmul(A1, W23) + b2\n",
    "\n",
    "# secon activator with sigmoid function\n",
    "A2 = tf.nn.sigmoid(Z2)\n",
    "\n",
    "# ============================================================\n",
    "# Weight and bias matrices for third summator with 10 units\n",
    "W34 = tf.Variable(tf.zeros(shape=[100, 10]))\n",
    "b3 = tf.Variable(tf.zeros([10]))\n",
    "\n",
    "# initialize variables for W34 & b3\n",
    "sess.run(tf.global_variables_initializer())\n",
    "\n",
    "# third summator\n",
    "Z3 = tf.matmul(A2, W34) + b3\n",
    "\n",
    "# third activator with sigmoid function\n",
    "A3 = tf.nn.sigmoid(Z3)\n",
    "# ============================================================\n",
    "# labels\n",
    "y_ = tf.placeholder(tf.float32, shape=[None, 10])"
   ]
  },
  {
   "cell_type": "code",
   "execution_count": 74,
   "metadata": {},
   "outputs": [],
   "source": [
    "# cost function\n",
    "cross_entropy = tf.reduce_mean(\n",
    "    tf.nn.softmax_cross_entropy_with_logits(labels=y_, logits=A3)\n",
    ")\n",
    "\n",
    "# model training aim is minimize cost function by mini-batch gradient descent\n",
    "train_step = tf.train.GradientDescentOptimizer(0.1)\\\n",
    "                     .minimize(cross_entropy)"
   ]
  },
  {
   "cell_type": "code",
   "execution_count": 75,
   "metadata": {},
   "outputs": [],
   "source": [
    "# run the training - computational graph\n",
    "for _ in range(1000):\n",
    "    batch = mnist.train.next_batch(100)\n",
    "    train_step.run(feed_dict={x: batch[0], y_: batch[1]})"
   ]
  },
  {
   "cell_type": "code",
   "execution_count": 76,
   "metadata": {},
   "outputs": [
    {
     "name": "stdout",
     "output_type": "stream",
     "text": [
      "0.7092\n"
     ]
    }
   ],
   "source": [
    "# Evaluate the Model\n",
    "correct_prediction = tf.equal(tf.argmax(A3,1), tf.argmax(y_,1))\n",
    "accuracy = tf.reduce_mean(tf.cast(correct_prediction, tf.float32))\n",
    "print(accuracy.eval(feed_dict={x: mnist.test.images, y_: mnist.test.labels}))\n",
    "# was 0.9189"
   ]
  },
  {
   "cell_type": "code",
   "execution_count": 77,
   "metadata": {},
   "outputs": [
    {
     "name": "stdout",
     "output_type": "stream",
     "text": [
      "0.7041091\n"
     ]
    }
   ],
   "source": [
    "print(accuracy.eval(feed_dict={x: mnist.train.images, y_: mnist.train.labels}))"
   ]
  },
  {
   "cell_type": "markdown",
   "metadata": {},
   "source": [
    "## MLP: Input + output"
   ]
  },
  {
   "cell_type": "code",
   "execution_count": 8,
   "metadata": {},
   "outputs": [],
   "source": [
    "# BUILD MODEL\n",
    "# build computational graph\n",
    "# ============================================================\n",
    "\n",
    "# input layer\n",
    "x = tf.placeholder(tf.float32, shape=[None, 784])\n",
    "# None means we do not define how many batch size\n",
    "# ============================================================\n",
    "\n",
    "# Weight and bias matrices for fist summator with 200 units\n",
    "W12 = tf.Variable(tf.zeros(shape=[784, 10]))\n",
    "b1 = tf.Variable(tf.zeros([10]))\n",
    "\n",
    "# initialize variables for W12 & b1\n",
    "sess.run(tf.global_variables_initializer())\n",
    "\n",
    "# first summator\n",
    "Z1 = tf.matmul(x, W12) + b1\n",
    "\n",
    "# First activator with sigmoid function\n",
    "# A1 = tf.nn.sigmoid(Z1)\n",
    "\n",
    "# ============================================================\n",
    "# labels\n",
    "y_ = tf.placeholder(tf.float32, shape=[None, 10])"
   ]
  },
  {
   "cell_type": "code",
   "execution_count": 9,
   "metadata": {},
   "outputs": [
    {
     "name": "stdout",
     "output_type": "stream",
     "text": [
      "Train accuracy: 0.9151273\n",
      "Test accuracy: 0.9141\n"
     ]
    }
   ],
   "source": [
    "# cost function\n",
    "cross_entropy = tf.reduce_mean(\n",
    "    tf.nn.softmax_cross_entropy_with_logits(labels=y_, logits=Z1)\n",
    ")\n",
    "\n",
    "# model training aim is minimize cost function by mini-batch gradient descent\n",
    "train_step = tf.train.GradientDescentOptimizer(0.5)\\\n",
    "                     .minimize(cross_entropy)\n",
    "    \n",
    "# run the training - computational graph\n",
    "for _ in range(1000):\n",
    "    batch = mnist.train.next_batch(100)\n",
    "    train_step.run(feed_dict={x: batch[0], y_: batch[1]})\n",
    "\n",
    "# Evaluate the Model\n",
    "correct_prediction = tf.equal(tf.argmax(Z1,1), tf.argmax(y_,1))\n",
    "accuracy = tf.reduce_mean(tf.cast(correct_prediction, tf.float32))\n",
    "\n",
    "# Train accuracy\n",
    "print(\"Train accuracy:\", accuracy.eval(feed_dict={x: mnist.train.images, y_: mnist.train.labels}))\n",
    "\n",
    "# Test accuracy\n",
    "print(\"Test accuracy:\", accuracy.eval(feed_dict={x: mnist.test.images, y_: mnist.test.labels}))"
   ]
  },
  {
   "cell_type": "markdown",
   "metadata": {},
   "source": [
    "## Why ANN with Numpy can obtain accuracy 98%, but MLP with TF can't?"
   ]
  },
  {
   "cell_type": "markdown",
   "metadata": {},
   "source": [
    "# Convolutional neural network\n",
    "**Restart kernel to continue**"
   ]
  },
  {
   "cell_type": "markdown",
   "metadata": {},
   "source": [
    "### Load data and prepapre environment"
   ]
  },
  {
   "cell_type": "code",
   "execution_count": 1,
   "metadata": {
    "scrolled": true
   },
   "outputs": [
    {
     "name": "stderr",
     "output_type": "stream",
     "text": [
      "/home/hung/anaconda3/lib/python3.6/site-packages/h5py/__init__.py:36: FutureWarning: Conversion of the second argument of issubdtype from `float` to `np.floating` is deprecated. In future, it will be treated as `np.float64 == np.dtype(float).type`.\n",
      "  from ._conv import register_converters as _register_converters\n"
     ]
    },
    {
     "name": "stdout",
     "output_type": "stream",
     "text": [
      "WARNING:tensorflow:From <ipython-input-1-0ba0eeba5048>:4: read_data_sets (from tensorflow.contrib.learn.python.learn.datasets.mnist) is deprecated and will be removed in a future version.\n",
      "Instructions for updating:\n",
      "Please use alternatives such as official/mnist/dataset.py from tensorflow/models.\n",
      "WARNING:tensorflow:From /home/hung/anaconda3/lib/python3.6/site-packages/tensorflow/contrib/learn/python/learn/datasets/mnist.py:260: maybe_download (from tensorflow.contrib.learn.python.learn.datasets.base) is deprecated and will be removed in a future version.\n",
      "Instructions for updating:\n",
      "Please write your own downloading logic.\n",
      "WARNING:tensorflow:From /home/hung/anaconda3/lib/python3.6/site-packages/tensorflow/contrib/learn/python/learn/datasets/mnist.py:262: extract_images (from tensorflow.contrib.learn.python.learn.datasets.mnist) is deprecated and will be removed in a future version.\n",
      "Instructions for updating:\n",
      "Please use tf.data to implement this functionality.\n",
      "Extracting MNIST_data/train-images-idx3-ubyte.gz\n",
      "WARNING:tensorflow:From /home/hung/anaconda3/lib/python3.6/site-packages/tensorflow/contrib/learn/python/learn/datasets/mnist.py:267: extract_labels (from tensorflow.contrib.learn.python.learn.datasets.mnist) is deprecated and will be removed in a future version.\n",
      "Instructions for updating:\n",
      "Please use tf.data to implement this functionality.\n",
      "Extracting MNIST_data/train-labels-idx1-ubyte.gz\n",
      "WARNING:tensorflow:From /home/hung/anaconda3/lib/python3.6/site-packages/tensorflow/contrib/learn/python/learn/datasets/mnist.py:110: dense_to_one_hot (from tensorflow.contrib.learn.python.learn.datasets.mnist) is deprecated and will be removed in a future version.\n",
      "Instructions for updating:\n",
      "Please use tf.one_hot on tensors.\n",
      "Extracting MNIST_data/t10k-images-idx3-ubyte.gz\n",
      "Extracting MNIST_data/t10k-labels-idx1-ubyte.gz\n",
      "WARNING:tensorflow:From /home/hung/anaconda3/lib/python3.6/site-packages/tensorflow/contrib/learn/python/learn/datasets/mnist.py:290: DataSet.__init__ (from tensorflow.contrib.learn.python.learn.datasets.mnist) is deprecated and will be removed in a future version.\n",
      "Instructions for updating:\n",
      "Please use alternatives such as official/mnist/dataset.py from tensorflow/models.\n"
     ]
    }
   ],
   "source": [
    "from __future__ import print_function\n",
    "\n",
    "from tensorflow.examples.tutorials.mnist import input_data\n",
    "mnist = input_data.read_data_sets(\"MNIST_data/\", one_hot=True)\n",
    "\n",
    "import tensorflow as tf"
   ]
  },
  {
   "cell_type": "code",
   "execution_count": 2,
   "metadata": {},
   "outputs": [],
   "source": [
    "# Functions definition\n",
    "\n",
    "def weight_variable(shape):\n",
    "    # initiate weight matrix, size = shape\n",
    "    initial = tf.truncated_normal(shape, stddev=0.1)\n",
    "    return tf.Variable(initial)\n",
    "\n",
    "def bias_variable(shape):\n",
    "    # initiate bias vector, size = shape\n",
    "    initial = tf.constant(0.1, shape=shape)\n",
    "    return tf.Variable(initial)\n",
    "\n",
    "def conv2d(x, W):\n",
    "    # convolutional function\n",
    "    # input layer x\n",
    "    # kernel weight matrix X\n",
    "    # strides=[1, 1, 1, 1]: move 1 (first) step by bacth, \n",
    "    # 1 (second + third) step by feature map width & height\n",
    "    # 1 step by filters\n",
    "    # padding\n",
    "    return tf.nn.conv2d(x, W, strides=[1, 1, 1, 1], padding='SAME')\n",
    "\n",
    "def max_pool_2x2(x):\n",
    "    # poolfunction\n",
    "    # input layer x\n",
    "    # kernel size & strides =[1, 2, 2, 1]: 1 along batch, 2&2: along width&height, 1 along filters\n",
    "    return tf.nn.max_pool(x, ksize=[1, 2, 2, 1], strides=[1, 2, 2, 1], padding='SAME')"
   ]
  },
  {
   "cell_type": "markdown",
   "metadata": {},
   "source": [
    "## CNN computational graph"
   ]
  },
  {
   "cell_type": "code",
   "execution_count": 3,
   "metadata": {},
   "outputs": [],
   "source": [
    "# Input layer\n",
    "x  = tf.placeholder(tf.float32, [None, 784], name='x')\n",
    "x_image = tf.reshape(x, [-1, 28, 28, 1])\n",
    "# image 28x28\n",
    "#-----------------------------------------------------\n",
    "\n",
    "# Convolutional layer 1\n",
    "W_conv1 = weight_variable([3, 3, 1, 8])\n",
    "b_conv1 = bias_variable([8])\n",
    "# feature map 28x28x8\n",
    "\n",
    "h_conv1 = tf.nn.relu(conv2d(x_image, W_conv1) + b_conv1)\n",
    "h_pool1 = max_pool_2x2(h_conv1)\n",
    "# feature map 14x14x8\n",
    "\n",
    "#-----------------------------------------------------\n",
    "# Convolutional layer 2\n",
    "W_conv2 = weight_variable([3, 3, 8, 16])\n",
    "b_conv2 = bias_variable([16])\n",
    "# feature map 14x14x16\n",
    "\n",
    "h_conv2 = tf.nn.relu(conv2d(h_pool1, W_conv2) + b_conv2)\n",
    "h_pool2 = max_pool_2x2(h_conv2)\n",
    "# feature map 7x7x16\n",
    "\n",
    "#-----------------------------------------------------\n",
    "# Fully connected layer 1, 128 units, 7x7x16 inputs\n",
    "h_pool2_flat = tf.reshape(h_pool2, [-1, 7*7*16])\n",
    "\n",
    "W_fc1 = weight_variable([7 * 7 * 16, 128])\n",
    "b_fc1 = bias_variable([128])\n",
    "\n",
    "h_fc1 = tf.nn.relu(tf.matmul(h_pool2_flat, W_fc1) + b_fc1)\n",
    "\n",
    "# Dropout\n",
    "keep_prob  = tf.placeholder(tf.float32)\n",
    "h_fc1_drop = tf.nn.dropout(h_fc1, keep_prob)\n",
    "\n",
    "#-----------------------------------------------------\n",
    "# Fully connected layer 2 (Output layer), 10 units, 128 inputs\n",
    "W_fc2 = weight_variable([128, 10])\n",
    "b_fc2 = bias_variable([10])\n",
    "\n",
    "y = tf.nn.softmax(tf.matmul(h_fc1_drop, W_fc2) + b_fc2, name='y')\n",
    "\n",
    "#-----------------------------------------------------\n",
    "# label\n",
    "y_ = tf.placeholder(tf.float32, [None, 10],  name='y_')"
   ]
  },
  {
   "cell_type": "markdown",
   "metadata": {},
   "source": [
    "## Evaluation algorithm"
   ]
  },
  {
   "cell_type": "code",
   "execution_count": 4,
   "metadata": {},
   "outputs": [],
   "source": [
    "# Evaluation functions\n",
    "cross_entropy = tf.reduce_mean(-tf.reduce_sum(y_ * tf.log(y), reduction_indices=[1]))\n",
    "\n",
    "correct_prediction = tf.equal(tf.argmax(y, 1), tf.argmax(y_, 1))\n",
    "accuracy = tf.reduce_mean(tf.cast(correct_prediction, tf.float32), name='accuracy')\n",
    "\n",
    "# Training algorithm\n",
    "train_step = tf.train.AdamOptimizer(1e-4).minimize(cross_entropy)"
   ]
  },
  {
   "cell_type": "code",
   "execution_count": 5,
   "metadata": {},
   "outputs": [
    {
     "name": "stdout",
     "output_type": "stream",
     "text": [
      "WARNING:tensorflow:From /home/hung/anaconda3/lib/python3.6/site-packages/tensorflow/python/util/tf_should_use.py:118: initialize_all_variables (from tensorflow.python.ops.variables) is deprecated and will be removed after 2017-03-02.\n",
      "Instructions for updating:\n",
      "Use `tf.global_variables_initializer` instead.\n",
      "0 0.0975\n",
      "100 0.147\n",
      "200 0.3775\n",
      "300 0.5625\n",
      "400 0.6063\n",
      "500 0.6932\n",
      "600 0.7427\n",
      "700 0.7846\n",
      "800 0.8151\n",
      "900 0.84\n",
      "1000 0.8588\n",
      "1100 0.8669\n",
      "1200 0.8772\n",
      "1300 0.8821\n",
      "1400 0.886\n",
      "1500 0.8964\n",
      "1600 0.8973\n",
      "1700 0.903\n",
      "1800 0.9074\n",
      "1900 0.9126\n",
      "2000 0.9105\n"
     ]
    }
   ],
   "source": [
    "# Training steps\n",
    "with tf.Session() as sess:\n",
    "    sess.run(tf.initialize_all_variables())\n",
    "    \n",
    "    max_steps = 2000\n",
    "    for step in range(max_steps):\n",
    "        batch_xs, batch_ys = mnist.train.next_batch(32)\n",
    "        if (step % 100) == 0:\n",
    "            print(step, sess.run(accuracy, feed_dict={x: mnist.test.images, y_: mnist.test.labels, keep_prob: 1.0}))\n",
    "        sess.run(train_step, feed_dict={x: batch_xs, y_: batch_ys, keep_prob: 0.5})\n",
    "    print(max_steps, sess.run(accuracy, feed_dict={x: mnist.test.images, y_: mnist.test.labels, keep_prob: 1.0}))"
   ]
  },
  {
   "cell_type": "code",
   "execution_count": null,
   "metadata": {},
   "outputs": [],
   "source": [
    "# train accuracy\n",
    "with tf.Session() as sess:\n",
    "    sess.run(tf.initialize_all_variables())\n",
    "    print(max_steps, sess.run(accuracy, feed_dict={x: mnist.test.images, y_: mnist.test.labels, keep_prob: 1.0}))"
   ]
  }
 ],
 "metadata": {
  "kernelspec": {
   "display_name": "Python 3",
   "language": "python",
   "name": "python3"
  },
  "language_info": {
   "codemirror_mode": {
    "name": "ipython",
    "version": 3
   },
   "file_extension": ".py",
   "mimetype": "text/x-python",
   "name": "python",
   "nbconvert_exporter": "python",
   "pygments_lexer": "ipython3",
   "version": "3.6.4"
  }
 },
 "nbformat": 4,
 "nbformat_minor": 2
}
