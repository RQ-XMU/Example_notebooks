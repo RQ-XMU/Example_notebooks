{
 "cells": [
  {
   "cell_type": "markdown",
   "metadata": {},
   "source": [
    "# What Is Amazon SageMaker?\n",
    "- Amazon SageMaker is a **fully managed machine learning service**.\n",
    "- helps to **quickly and easily build and train machine learning models**, and then **directly deploy** them into a production-ready hosted environment.\n",
    "- provides an **integrated Jupyter** authoring **notebook** instance for **easy access** to your **data** sources\n",
    "- provides **common machine learning algorithms** that are **optimized** to run efficiently against **extremely large data** in a **distributed environment**.\n",
    "- Deploy **with a single click console**"
   ]
  },
  {
   "cell_type": "markdown",
   "metadata": {},
   "source": [
    "# How It Works\n",
    "This section provides an **overview of machine learning** and explains how Amazon SageMaker works.\n",
    "## Machine Learning with Amazon SageMaker\n",
    "Typical workflow for creating a machine learning model:\n",
    "![](https://docs.aws.amazon.com/sagemaker/latest/dg/images/ml-concepts-10.png)\n",
    "1. **Generate example data**<br>\n",
    "    Data type depends on business problem<br>\n",
    "    a. **Fetch the data** — \n",
    "    pull the dataset or datasets into a single repository<br>\n",
    "    b. **Clean the data** — \n",
    "    To improve model training<br>\n",
    "    c. **Prepare or transform the data** — \n",
    "    To improve performance\n",
    "2. **Train a model**:<br>\n",
    "    a. **Training** the model — To train a model, you need<br>\n",
    "    - an algorithm (can be provided by Amazon Sagemaker or self-implementation)\n",
    "    - compute resources\n",
    "    b. **Evaluating** the model — \n",
    "    to determine whether the accuracy of the inferences is acceptable.<br>\n",
    "    -.use either the AWS SDK for Python (Boto) or the high-level Python library in SageMaker<br>\n",
    "    -.use a Jupyter notebook in SageMaker notebook instance to train and evaluate model.\n",
    "3. **Deploy the model** — independently with Amazon SageMaker hosting services, decoupling from application code. \n",
    "    "
   ]
  },
  {
   "cell_type": "code",
   "execution_count": null,
   "metadata": {},
   "outputs": [],
   "source": []
  }
 ],
 "metadata": {
  "kernelspec": {
   "display_name": "Python 3",
   "language": "python",
   "name": "python3"
  },
  "language_info": {
   "codemirror_mode": {
    "name": "ipython",
    "version": 3
   },
   "file_extension": ".py",
   "mimetype": "text/x-python",
   "name": "python",
   "nbconvert_exporter": "python",
   "pygments_lexer": "ipython3",
   "version": "3.6.4"
  }
 },
 "nbformat": 4,
 "nbformat_minor": 2
}
