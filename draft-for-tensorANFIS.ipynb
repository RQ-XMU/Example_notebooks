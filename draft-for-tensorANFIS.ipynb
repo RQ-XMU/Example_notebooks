{
 "cells": [
  {
   "cell_type": "code",
   "execution_count": 21,
   "metadata": {},
   "outputs": [],
   "source": [
    "def test(word):\n",
    "    ans = 0\n",
    "    i = 0\n",
    "    alen = len(word)\n",
    "    while i < alen-1:\n",
    "        if (word[i] == word[i+1]):\n",
    "            ans += 1\n",
    "            i += 2\n",
    "        else:\n",
    "            i += 1\n",
    "    return ans      "
   ]
  },
  {
   "cell_type": "code",
   "execution_count": 29,
   "metadata": {},
   "outputs": [
    {
     "name": "stdout",
     "output_type": "stream",
     "text": [
      "2\n",
      "0\n",
      "1\n",
      "3\n",
      "6\n",
      "0\n"
     ]
    }
   ],
   "source": [
    "words = [\n",
    "    'keyhbmeknckfavrpqyyfjxjjmivtsftikovkcdcwefctqrqjryhtlcvstm',\n",
    "    'rpqipvntglpsbmoyxpjhkfufrxgnqjvhtizxn',\n",
    "    'sddpeibedjk',\n",
    "    'dkxqcthvgmzymoohniertqanrbkfdolfwfaalwolqpipngsaquxurvzwjpfejkfyys',\n",
    "    'jdzsnpejkyqktrdlljfuozlfsvrhqrwgtojnxllzmbfvoexxxttzcbprwzyztsovcxootxoswbffcokhtosfvn',\n",
    "    'hwqfvaiqxdksxvbtcr'\n",
    "]\n",
    "\n",
    "for word in words:\n",
    "    print(test(word))"
   ]
  },
  {
   "cell_type": "code",
   "execution_count": 1,
   "metadata": {},
   "outputs": [
    {
     "name": "stderr",
     "output_type": "stream",
     "text": [
      "/home/hung/anaconda3/lib/python3.6/site-packages/h5py/__init__.py:36: FutureWarning: Conversion of the second argument of issubdtype from `float` to `np.floating` is deprecated. In future, it will be treated as `np.float64 == np.dtype(float).type`.\n",
      "  from ._conv import register_converters as _register_converters\n"
     ]
    }
   ],
   "source": [
    "import tensorflow as tf\n",
    "import time\n",
    "import numpy as np"
   ]
  },
  {
   "cell_type": "code",
   "execution_count": 2,
   "metadata": {},
   "outputs": [],
   "source": [
    "def tfgaussmf(tensor_x, tensor_mean, tensor_sigma):\n",
    "    \"\"\"\n",
    "    \"\"\"\n",
    "    num = -tf.square(tf.subtract(tensor_x, tensor_mean))\n",
    "    den = 2*tf.square(tensor_sigma)\n",
    "    return tf.exp(tf.divide(num, den))"
   ]
  },
  {
   "cell_type": "code",
   "execution_count": 3,
   "metadata": {},
   "outputs": [],
   "source": [
    "def tfcartesian_prod(tensor1, tensor2):\n",
    "    \"\"\"\n",
    "    Calculate Cartesian product of two tensor, shaped (?, n)\n",
    "    \"\"\"\n",
    "    expand1 = tf.expand_dims(tf.tile(tf.expand_dims(tensor1, 2), [1,1,tf.shape(tensor2)[1]]),3)\n",
    "    expand2 = tf.expand_dims(tf.tile(tf.expand_dims(tensor2, 1), [1,tf.shape(tensor1)[1],1]),3)\n",
    "    \n",
    "    return tf.concat([expand1, expand2], axis=3)\n",
    "    "
   ]
  },
  {
   "cell_type": "code",
   "execution_count": 28,
   "metadata": {},
   "outputs": [],
   "source": [
    "n_inputs = 4\n",
    "n_mfs = 3\n",
    "inputs = tf.placeholder(dtype=tf.float32, shape=(None, n_inputs))\n",
    "\n",
    "mu = tf.get_variable(\n",
    "            name='mu'+str(int(time.time())), \n",
    "            shape=[n_inputs,n_mfs],\n",
    "            initializer=tf.random_normal_initializer(0.1, 1)\n",
    "        )\n",
    "\n",
    "sigma = tf.get_variable(\n",
    "            name='sigma'+str(int(time.time())), \n",
    "            shape=[n_inputs, n_mfs],\n",
    "            initializer=tf.random_normal_initializer(0.1, 1)\n",
    "        )"
   ]
  },
  {
   "cell_type": "code",
   "execution_count": 29,
   "metadata": {},
   "outputs": [],
   "source": [
    "sess = tf.Session()"
   ]
  },
  {
   "cell_type": "code",
   "execution_count": 30,
   "metadata": {},
   "outputs": [],
   "source": [
    "sess.run(tf.global_variables_initializer())"
   ]
  },
  {
   "cell_type": "code",
   "execution_count": 31,
   "metadata": {},
   "outputs": [
    {
     "data": {
      "text/plain": [
       "array([[ 0.46895108,  0.5488527 , -1.6986952 ],\n",
       "       [ 2.063364  ,  0.35692728, -2.535194  ],\n",
       "       [-0.7841001 , -2.261228  , -1.9507598 ],\n",
       "       [-0.2344056 ,  0.6115022 ,  0.8802714 ]], dtype=float32)"
      ]
     },
     "execution_count": 31,
     "metadata": {},
     "output_type": "execute_result"
    }
   ],
   "source": [
    "sess.run(mu)"
   ]
  },
  {
   "cell_type": "code",
   "execution_count": 32,
   "metadata": {},
   "outputs": [
    {
     "data": {
      "text/plain": [
       "array([[ 0.25609007,  0.4687098 ,  0.21125892],\n",
       "       [ 1.8641732 ,  1.2001027 , -0.7911516 ],\n",
       "       [-0.799164  ,  0.45345116, -2.8722756 ],\n",
       "       [-0.5447669 ,  0.5937943 ,  1.7643518 ]], dtype=float32)"
      ]
     },
     "execution_count": 32,
     "metadata": {},
     "output_type": "execute_result"
    }
   ],
   "source": [
    "sess.run(sigma)"
   ]
  },
  {
   "cell_type": "code",
   "execution_count": 33,
   "metadata": {},
   "outputs": [],
   "source": [
    "dataX = np.array([[1,2,3,5],[4,5,6,7]])"
   ]
  },
  {
   "cell_type": "code",
   "execution_count": 34,
   "metadata": {},
   "outputs": [],
   "source": [
    "# transform input\n",
    "int1 = tf.reshape(inputs, (-1, n_inputs, 1))\n",
    "int2 = tf.reshape(tf.tile(int1, (1,1,n_mfs)), (-1, n_inputs, n_mfs))"
   ]
  },
  {
   "cell_type": "code",
   "execution_count": 35,
   "metadata": {},
   "outputs": [
    {
     "data": {
      "text/plain": [
       "array([[[1., 1., 1.],\n",
       "        [2., 2., 2.],\n",
       "        [3., 3., 3.],\n",
       "        [5., 5., 5.]],\n",
       "\n",
       "       [[4., 4., 4.],\n",
       "        [5., 5., 5.],\n",
       "        [6., 6., 6.],\n",
       "        [7., 7., 7.]]], dtype=float32)"
      ]
     },
     "execution_count": 35,
     "metadata": {},
     "output_type": "execute_result"
    }
   ],
   "source": [
    "sess.run(int2, {inputs:dataX})"
   ]
  },
  {
   "cell_type": "code",
   "execution_count": 36,
   "metadata": {},
   "outputs": [
    {
     "data": {
      "text/plain": [
       "array([[[1.16475455e-01, 6.29246533e-01, 3.67321788e-36],\n",
       "        [9.99422491e-01, 3.91710877e-01, 7.31920125e-08],\n",
       "        [1.35319260e-05, 5.85321256e-30, 2.26397723e-01],\n",
       "        [8.95691201e-21, 1.37783882e-12, 6.54761717e-02]],\n",
       "\n",
       "       [[0.00000000e+00, 1.68801854e-12, 0.00000000e+00],\n",
       "        [2.89156139e-01, 5.61904861e-04, 2.00412388e-20],\n",
       "        [2.24754131e-16, 0.00000000e+00, 2.16835253e-02],\n",
       "        [0.00000000e+00, 7.32737519e-26, 2.44089169e-03]]], dtype=float32)"
      ]
     },
     "execution_count": 36,
     "metadata": {},
     "output_type": "execute_result"
    }
   ],
   "source": [
    "layer1 = tfgaussmf(tensor_x=int2, tensor_mean=mu, tensor_sigma=sigma)\n",
    "sess.run(layer1, {inputs:dataX})"
   ]
  },
  {
   "cell_type": "code",
   "execution_count": 37,
   "metadata": {},
   "outputs": [],
   "source": [
    "l1s = [layer1[:,i,:] for i in range(n_inputs)]"
   ]
  },
  {
   "cell_type": "code",
   "execution_count": 61,
   "metadata": {},
   "outputs": [
    {
     "data": {
      "text/plain": [
       "<tf.Tensor 'concat_6:0' shape=(?, 3, 3, 2) dtype=float32>"
      ]
     },
     "execution_count": 61,
     "metadata": {},
     "output_type": "execute_result"
    }
   ],
   "source": [
    "cartesian_prod(l1s[0], l1s[1])"
   ]
  },
  {
   "cell_type": "code",
   "execution_count": 38,
   "metadata": {},
   "outputs": [
    {
     "data": {
      "text/plain": [
       "[<tf.Tensor 'strided_slice_10:0' shape=(?, 3) dtype=float32>,\n",
       " <tf.Tensor 'strided_slice_11:0' shape=(?, 3) dtype=float32>,\n",
       " <tf.Tensor 'strided_slice_12:0' shape=(?, 3) dtype=float32>,\n",
       " <tf.Tensor 'strided_slice_13:0' shape=(?, 3) dtype=float32>]"
      ]
     },
     "execution_count": 38,
     "metadata": {},
     "output_type": "execute_result"
    }
   ],
   "source": [
    "l1s"
   ]
  },
  {
   "cell_type": "code",
   "execution_count": 39,
   "metadata": {},
   "outputs": [],
   "source": [
    "layer2 = l1s[0]\n",
    "for i in range(1, 4):\n",
    "    layer2 = tfcartesian_prod(layer2, l1s[i])\n",
    "    layer2 = tf.reduce_prod(layer2, axis=-1)\n",
    "    layer2 = tf.reshape(layer2, (-1, n_mfs**(i+1)))"
   ]
  },
  {
   "cell_type": "code",
   "execution_count": 40,
   "metadata": {},
   "outputs": [
    {
     "data": {
      "text/plain": [
       "<tf.Tensor 'Reshape_9:0' shape=(?, 81) dtype=float32>"
      ]
     },
     "execution_count": 40,
     "metadata": {},
     "output_type": "execute_result"
    }
   ],
   "source": [
    "layer2"
   ]
  },
  {
   "cell_type": "code",
   "execution_count": 41,
   "metadata": {},
   "outputs": [],
   "source": [
    "# l10 = layer1[:,0,:]\n",
    "# l11 = layer1[:,1,:]\n",
    "# l12 = layer1[:,2,:]"
   ]
  },
  {
   "cell_type": "code",
   "execution_count": 42,
   "metadata": {},
   "outputs": [],
   "source": [
    "# l10"
   ]
  },
  {
   "cell_type": "code",
   "execution_count": 43,
   "metadata": {},
   "outputs": [],
   "source": [
    "# l11"
   ]
  },
  {
   "cell_type": "code",
   "execution_count": 44,
   "metadata": {},
   "outputs": [],
   "source": [
    "# prod12 = cartesian_prod(l10, l11)\n",
    "# prod12 = tf.reduce_prod(prod12, axis=-1)\n",
    "# prod12 = tf.reshape(prod12, (-1, n_mfs**2))"
   ]
  },
  {
   "cell_type": "code",
   "execution_count": 45,
   "metadata": {},
   "outputs": [],
   "source": [
    "# layer2 = cartesian_prod(prod12, l12)\n",
    "# layer2 = tf.reduce_prod(layer2, axis=-1)\n",
    "# layer2 = tf.reshape(layer2, (-1, n_mfs**3))\n",
    "# layer2 = tf.clip_by_value(layer2, 1e-12, 1e12)"
   ]
  },
  {
   "cell_type": "code",
   "execution_count": 46,
   "metadata": {},
   "outputs": [
    {
     "data": {
      "text/plain": [
       "array([[0.0000000e+00, 0.0000000e+00, 0.0000000e+00, 0.0000000e+00,\n",
       "        0.0000000e+00, 0.0000000e+00, 0.0000000e+00, 0.0000000e+00,\n",
       "        0.0000000e+00, 0.0000000e+00, 0.0000000e+00, 0.0000000e+00,\n",
       "        0.0000000e+00, 0.0000000e+00, 0.0000000e+00, 0.0000000e+00,\n",
       "        0.0000000e+00, 0.0000000e+00, 0.0000000e+00, 0.0000000e+00,\n",
       "        0.0000000e+00, 0.0000000e+00, 0.0000000e+00, 0.0000000e+00,\n",
       "        0.0000000e+00, 0.0000000e+00, 0.0000000e+00, 5.2494000e-14,\n",
       "        0.0000000e+00, 4.8627917e-18, 0.0000000e+00, 0.0000000e+00,\n",
       "        0.0000000e+00, 2.9233354e-15, 0.0000000e+00, 2.7080373e-19,\n",
       "        8.0579448e-06, 0.0000000e+00, 7.4644929e-10, 0.0000000e+00,\n",
       "        0.0000000e+00, 0.0000000e+00, 4.4873840e-07, 0.0000000e+00,\n",
       "        4.1568967e-11, 7.2685392e-25, 0.0000000e+00, 6.7332250e-29,\n",
       "        0.0000000e+00, 0.0000000e+00, 0.0000000e+00, 4.0477723e-26,\n",
       "        0.0000000e+00, 3.7496615e-30, 0.0000000e+00, 0.0000000e+00,\n",
       "        0.0000000e+00, 0.0000000e+00, 0.0000000e+00, 0.0000000e+00,\n",
       "        0.0000000e+00, 0.0000000e+00, 0.0000000e+00, 0.0000000e+00,\n",
       "        0.0000000e+00, 0.0000000e+00, 0.0000000e+00, 0.0000000e+00,\n",
       "        0.0000000e+00, 0.0000000e+00, 0.0000000e+00, 0.0000000e+00,\n",
       "        0.0000000e+00, 0.0000000e+00, 0.0000000e+00, 0.0000000e+00,\n",
       "        0.0000000e+00, 0.0000000e+00, 0.0000000e+00, 0.0000000e+00,\n",
       "        0.0000000e+00],\n",
       "       [0.0000000e+00, 0.0000000e+00, 0.0000000e+00, 0.0000000e+00,\n",
       "        0.0000000e+00, 0.0000000e+00, 0.0000000e+00, 0.0000000e+00,\n",
       "        0.0000000e+00, 0.0000000e+00, 0.0000000e+00, 0.0000000e+00,\n",
       "        0.0000000e+00, 0.0000000e+00, 0.0000000e+00, 0.0000000e+00,\n",
       "        0.0000000e+00, 0.0000000e+00, 0.0000000e+00, 0.0000000e+00,\n",
       "        0.0000000e+00, 0.0000000e+00, 0.0000000e+00, 0.0000000e+00,\n",
       "        0.0000000e+00, 0.0000000e+00, 0.0000000e+00, 0.0000000e+00,\n",
       "        0.0000000e+00, 0.0000000e+00, 0.0000000e+00, 0.0000000e+00,\n",
       "        0.0000000e+00, 0.0000000e+00, 0.0000000e+00, 0.0000000e+00,\n",
       "        5.0084375e-19, 0.0000000e+00, 1.6058849e-26, 0.0000000e+00,\n",
       "        0.0000000e+00, 0.0000000e+00, 1.0991712e-30, 0.0000000e+00,\n",
       "        3.5243374e-38, 0.0000000e+00, 0.0000000e+00, 0.0000000e+00,\n",
       "        0.0000000e+00, 0.0000000e+00, 0.0000000e+00, 0.0000000e+00,\n",
       "        0.0000000e+00, 0.0000000e+00, 0.0000000e+00, 0.0000000e+00,\n",
       "        0.0000000e+00, 0.0000000e+00, 0.0000000e+00, 0.0000000e+00,\n",
       "        0.0000000e+00, 0.0000000e+00, 0.0000000e+00, 0.0000000e+00,\n",
       "        0.0000000e+00, 0.0000000e+00, 0.0000000e+00, 0.0000000e+00,\n",
       "        0.0000000e+00, 0.0000000e+00, 0.0000000e+00, 0.0000000e+00,\n",
       "        0.0000000e+00, 0.0000000e+00, 0.0000000e+00, 0.0000000e+00,\n",
       "        0.0000000e+00, 0.0000000e+00, 0.0000000e+00, 0.0000000e+00,\n",
       "        0.0000000e+00]], dtype=float32)"
      ]
     },
     "execution_count": 46,
     "metadata": {},
     "output_type": "execute_result"
    }
   ],
   "source": [
    "sess.run(tf.global_variables_initializer())\n",
    "sess.run(layer2, {inputs:dataX})"
   ]
  },
  {
   "cell_type": "code",
   "execution_count": 47,
   "metadata": {},
   "outputs": [],
   "source": [
    "# layer 3 - normalization (~w_r)\n",
    "layer3 = tf.divide(layer2,tf.reduce_sum(layer2, axis=-1, keepdims=True))"
   ]
  },
  {
   "cell_type": "code",
   "execution_count": 50,
   "metadata": {},
   "outputs": [
    {
     "data": {
      "text/plain": [
       "array([[0.0000000e+00, 0.0000000e+00, 0.0000000e+00, 0.0000000e+00,\n",
       "        0.0000000e+00, 0.0000000e+00, 0.0000000e+00, 0.0000000e+00,\n",
       "        0.0000000e+00, 0.0000000e+00, 0.0000000e+00, 0.0000000e+00,\n",
       "        0.0000000e+00, 0.0000000e+00, 0.0000000e+00, 0.0000000e+00,\n",
       "        0.0000000e+00, 0.0000000e+00, 0.0000000e+00, 0.0000000e+00,\n",
       "        0.0000000e+00, 0.0000000e+00, 0.0000000e+00, 0.0000000e+00,\n",
       "        0.0000000e+00, 0.0000000e+00, 0.0000000e+00, 6.1703407e-09,\n",
       "        0.0000000e+00, 5.7159073e-13, 0.0000000e+00, 0.0000000e+00,\n",
       "        0.0000000e+00, 3.4361977e-10, 0.0000000e+00, 3.1831281e-14,\n",
       "        9.4716096e-01, 0.0000000e+00, 8.7740438e-05, 0.0000000e+00,\n",
       "        0.0000000e+00, 0.0000000e+00, 5.2746389e-02, 0.0000000e+00,\n",
       "        4.8861716e-06, 8.5437127e-20, 0.0000000e+00, 7.9144845e-24,\n",
       "        0.0000000e+00, 0.0000000e+00, 0.0000000e+00, 4.7579029e-21,\n",
       "        0.0000000e+00, 4.4074921e-25, 0.0000000e+00, 0.0000000e+00,\n",
       "        0.0000000e+00, 0.0000000e+00, 0.0000000e+00, 0.0000000e+00,\n",
       "        0.0000000e+00, 0.0000000e+00, 0.0000000e+00, 0.0000000e+00,\n",
       "        0.0000000e+00, 0.0000000e+00, 0.0000000e+00, 0.0000000e+00,\n",
       "        0.0000000e+00, 0.0000000e+00, 0.0000000e+00, 0.0000000e+00,\n",
       "        0.0000000e+00, 0.0000000e+00, 0.0000000e+00, 0.0000000e+00,\n",
       "        0.0000000e+00, 0.0000000e+00, 0.0000000e+00, 0.0000000e+00,\n",
       "        0.0000000e+00],\n",
       "       [0.0000000e+00, 0.0000000e+00, 0.0000000e+00, 0.0000000e+00,\n",
       "        0.0000000e+00, 0.0000000e+00, 0.0000000e+00, 0.0000000e+00,\n",
       "        0.0000000e+00, 0.0000000e+00, 0.0000000e+00, 0.0000000e+00,\n",
       "        0.0000000e+00, 0.0000000e+00, 0.0000000e+00, 0.0000000e+00,\n",
       "        0.0000000e+00, 0.0000000e+00, 0.0000000e+00, 0.0000000e+00,\n",
       "        0.0000000e+00, 0.0000000e+00, 0.0000000e+00, 0.0000000e+00,\n",
       "        0.0000000e+00, 0.0000000e+00, 0.0000000e+00, 0.0000000e+00,\n",
       "        0.0000000e+00, 0.0000000e+00, 0.0000000e+00, 0.0000000e+00,\n",
       "        0.0000000e+00, 0.0000000e+00, 0.0000000e+00, 0.0000000e+00,\n",
       "        1.0000000e+00, 0.0000000e+00, 3.2063593e-08, 0.0000000e+00,\n",
       "        0.0000000e+00, 0.0000000e+00, 2.1946390e-12, 0.0000000e+00,\n",
       "        7.0368003e-20, 0.0000000e+00, 0.0000000e+00, 0.0000000e+00,\n",
       "        0.0000000e+00, 0.0000000e+00, 0.0000000e+00, 0.0000000e+00,\n",
       "        0.0000000e+00, 0.0000000e+00, 0.0000000e+00, 0.0000000e+00,\n",
       "        0.0000000e+00, 0.0000000e+00, 0.0000000e+00, 0.0000000e+00,\n",
       "        0.0000000e+00, 0.0000000e+00, 0.0000000e+00, 0.0000000e+00,\n",
       "        0.0000000e+00, 0.0000000e+00, 0.0000000e+00, 0.0000000e+00,\n",
       "        0.0000000e+00, 0.0000000e+00, 0.0000000e+00, 0.0000000e+00,\n",
       "        0.0000000e+00, 0.0000000e+00, 0.0000000e+00, 0.0000000e+00,\n",
       "        0.0000000e+00, 0.0000000e+00, 0.0000000e+00, 0.0000000e+00,\n",
       "        0.0000000e+00]], dtype=float32)"
      ]
     },
     "execution_count": 50,
     "metadata": {},
     "output_type": "execute_result"
    }
   ],
   "source": [
    "sess.run(layer3, {inputs:dataX})#.sum(axis=-1)"
   ]
  },
  {
   "cell_type": "code",
   "execution_count": 51,
   "metadata": {},
   "outputs": [],
   "source": [
    "# layer 4 - consequent layer\n",
    "# initialise f\n",
    "center = tf.get_variable(\n",
    "            name='center'+str(int(time.time())), \n",
    "            shape=[n_mfs**n_inputs],\n",
    "            initializer=tf.random_normal_initializer(0.1, 1)\n",
    "        )\n",
    "\n",
    "layer4 = tf.multiply(layer3, center)\n",
    "\n",
    "# layer 5 - predited value\n",
    "outs = tf.reduce_sum(layer4, axis=-1)"
   ]
  },
  {
   "cell_type": "code",
   "execution_count": 52,
   "metadata": {
    "scrolled": true
   },
   "outputs": [
    {
     "data": {
      "text/plain": [
       "array([[ 0.00000000e+00,  0.00000000e+00, -0.00000000e+00,\n",
       "         0.00000000e+00, -0.00000000e+00,  0.00000000e+00,\n",
       "        -0.00000000e+00,  0.00000000e+00, -0.00000000e+00,\n",
       "         0.00000000e+00,  0.00000000e+00, -0.00000000e+00,\n",
       "         6.40852237e-03, -1.25767589e-01, -1.20942868e-01,\n",
       "        -2.00021459e-04,  3.06095593e-02,  9.01136268e-03,\n",
       "         0.00000000e+00, -0.00000000e+00,  0.00000000e+00,\n",
       "        -1.45256112e-03, -3.63201015e-02, -6.87989444e-02,\n",
       "        -4.98501642e-04,  2.50205421e-03,  2.42403410e-02,\n",
       "        -0.00000000e+00, -0.00000000e+00, -0.00000000e+00,\n",
       "        -0.00000000e+00,  0.00000000e+00, -0.00000000e+00,\n",
       "        -0.00000000e+00,  0.00000000e+00, -0.00000000e+00,\n",
       "         0.00000000e+00,  0.00000000e+00,  0.00000000e+00,\n",
       "         5.76546518e-05, -5.60749730e-04, -9.63201188e-03,\n",
       "        -2.93222838e-05, -8.08888508e-05,  2.62209185e-04,\n",
       "        -0.00000000e+00, -0.00000000e+00, -0.00000000e+00,\n",
       "        -5.47524483e-04,  3.36874742e-03, -4.43049567e-03,\n",
       "         1.60357868e-05,  3.76068456e-05, -3.55857082e-05,\n",
       "        -0.00000000e+00,  0.00000000e+00, -0.00000000e+00,\n",
       "        -0.00000000e+00, -0.00000000e+00,  0.00000000e+00,\n",
       "        -0.00000000e+00,  0.00000000e+00,  0.00000000e+00,\n",
       "         0.00000000e+00,  0.00000000e+00, -0.00000000e+00,\n",
       "         3.62833234e-04,  1.62576120e-02, -7.15423673e-02,\n",
       "         8.45827453e-05,  6.40036166e-03,  1.05278725e-02,\n",
       "        -0.00000000e+00, -0.00000000e+00, -0.00000000e+00,\n",
       "        -4.57387418e-03,  7.43122697e-02, -1.38691157e-01,\n",
       "         1.19972152e-04,  1.56733528e-04, -4.08723019e-03],\n",
       "       [ 0.00000000e+00,  0.00000000e+00, -0.00000000e+00,\n",
       "         0.00000000e+00, -0.00000000e+00,  0.00000000e+00,\n",
       "        -0.00000000e+00,  0.00000000e+00, -0.00000000e+00,\n",
       "         0.00000000e+00,  0.00000000e+00, -0.00000000e+00,\n",
       "         0.00000000e+00, -0.00000000e+00, -0.00000000e+00,\n",
       "        -1.00993668e-03,  3.76250483e-02,  2.44094301e-02,\n",
       "         0.00000000e+00, -0.00000000e+00,  0.00000000e+00,\n",
       "        -0.00000000e+00, -0.00000000e+00, -0.00000000e+00,\n",
       "        -3.58378589e-02,  4.37899679e-02,  9.34897006e-01,\n",
       "        -0.00000000e+00, -0.00000000e+00, -0.00000000e+00,\n",
       "        -0.00000000e+00,  0.00000000e+00, -0.00000000e+00,\n",
       "        -0.00000000e+00,  0.00000000e+00, -0.00000000e+00,\n",
       "         0.00000000e+00,  0.00000000e+00,  0.00000000e+00,\n",
       "         0.00000000e+00, -0.00000000e+00, -0.00000000e+00,\n",
       "        -4.46951712e-11, -3.00160764e-11,  2.14417553e-10,\n",
       "        -0.00000000e+00, -0.00000000e+00, -0.00000000e+00,\n",
       "        -0.00000000e+00,  0.00000000e+00, -0.00000000e+00,\n",
       "         3.48025386e-10,  1.98696407e-10, -4.14329543e-10,\n",
       "        -0.00000000e+00,  0.00000000e+00, -0.00000000e+00,\n",
       "        -0.00000000e+00, -0.00000000e+00,  0.00000000e+00,\n",
       "        -0.00000000e+00,  0.00000000e+00,  0.00000000e+00,\n",
       "         0.00000000e+00,  0.00000000e+00, -0.00000000e+00,\n",
       "         0.00000000e+00,  0.00000000e+00, -0.00000000e+00,\n",
       "         1.60985364e-05,  2.96559330e-04,  1.07496639e-03,\n",
       "        -0.00000000e+00, -0.00000000e+00, -0.00000000e+00,\n",
       "        -0.00000000e+00,  0.00000000e+00, -0.00000000e+00,\n",
       "         3.25119501e-04,  1.03401515e-04, -5.94211835e-03]], dtype=float32)"
      ]
     },
     "execution_count": 52,
     "metadata": {},
     "output_type": "execute_result"
    }
   ],
   "source": [
    "sess.run(tf.global_variables_initializer())\n",
    "sess.run(layer4, {inputs:dataX})"
   ]
  },
  {
   "cell_type": "code",
   "execution_count": 53,
   "metadata": {},
   "outputs": [
    {
     "data": {
      "text/plain": [
       "array([-0.40345547,  0.99974775], dtype=float32)"
      ]
     },
     "execution_count": 53,
     "metadata": {},
     "output_type": "execute_result"
    }
   ],
   "source": [
    "sess.run(outs, {inputs:dataX})"
   ]
  },
  {
   "cell_type": "code",
   "execution_count": 54,
   "metadata": {},
   "outputs": [],
   "source": [
    "# target\n",
    "targets = tf.placeholder(tf.float32, shape=None)"
   ]
  },
  {
   "cell_type": "code",
   "execution_count": 55,
   "metadata": {},
   "outputs": [],
   "source": [
    "# hyper-parameters for training\n",
    "# loss\n",
    "loss = tf.losses.huber_loss(targets, outs)\n",
    "\n",
    "# optimizer\n",
    "optimizer = tf.train.AdamOptimizer(\n",
    "            learning_rate=0.01\n",
    "        ).minimize(loss)\n",
    "\n",
    "# trainable parameters\n",
    "params = tf.trainable_variables()\n",
    "\n",
    "# number of epochs\n",
    "\n",
    "epos = 50"
   ]
  },
  {
   "cell_type": "code",
   "execution_count": 56,
   "metadata": {},
   "outputs": [],
   "source": [
    "# Generate data\n",
    "# Mackey-Glass series computation\n",
    "def mackey(n_iters):\n",
    "    x = np.zeros((n_iters,))\n",
    "    x[0:30] = 0.23 * np.ones((30,))\n",
    "    t_s = 30\n",
    "    for i in range(30, n_iters - 1):\n",
    "        a = x[i]\n",
    "        b = x[i - t_s]\n",
    "        y = ((0.2 * b) / (1 + b ** 10)) + 0.9 * a\n",
    "        x[i + 1] = y\n",
    "    return x\n",
    "\n",
    "\n",
    "# Generate dataset\n",
    "D = n_inputs  # number of regressors\n",
    "T = 1  # delay\n",
    "N = 2000  # Number of points to generate\n",
    "mg_series = mackey(N)[499:]  # Use last 1500 points\n",
    "data = np.zeros((N - 500 - T - (D - 1) * T, D))\n",
    "lbls = np.zeros((N - 500 - T - (D - 1) * T,))\n",
    "\n",
    "for t in range((D - 1) * T, N - 500 - T):\n",
    "    data[t - (D - 1) * T, :] = [mg_series[t - 3 * T], mg_series[t - 2 * T], mg_series[t - T], mg_series[t]]\n",
    "    ## [mg_series[t - 3 * T], mg_series[t - 2 * T], mg_series[t - T], mg_series[t]]\n",
    "    lbls[t - (D - 1) * T] = mg_series[t + T]\n",
    "trnData = data[:lbls.size - round(lbls.size * 0.3), :]\n",
    "trnLbls = lbls[:lbls.size - round(lbls.size * 0.3)]\n",
    "chkData = data[lbls.size - round(lbls.size * 0.3):, :]\n",
    "chkLbls = lbls[lbls.size - round(lbls.size * 0.3):]"
   ]
  },
  {
   "cell_type": "code",
   "execution_count": 58,
   "metadata": {},
   "outputs": [],
   "source": [
    "# train model with huber_loss\n",
    "sess.run(tf.global_variables_initializer())\n",
    "losses = []\n",
    "for i in range(100):\n",
    "    yp, l, _ = sess.run(\n",
    "                [outs, loss, optimizer], \n",
    "                feed_dict={inputs: trnData, targets: trnLbls}\n",
    "            )\n",
    "    losses.append(l)"
   ]
  },
  {
   "cell_type": "code",
   "execution_count": 59,
   "metadata": {},
   "outputs": [
    {
     "name": "stdout",
     "output_type": "stream",
     "text": [
      "Loss on train data: 0.0036706128\n",
      "Loss on test data: 0.0037420646\n"
     ]
    }
   ],
   "source": [
    "print('Loss on train data:', l)\n",
    "print('Loss on test data:', sess.run(loss, {inputs: chkData, targets: chkLbls}))"
   ]
  },
  {
   "cell_type": "code",
   "execution_count": 60,
   "metadata": {},
   "outputs": [
    {
     "data": {
      "text/plain": [
       "<matplotlib.legend.Legend at 0x7fbc08ec2978>"
      ]
     },
     "execution_count": 60,
     "metadata": {},
     "output_type": "execute_result"
    },
    {
     "data": {
      "image/png": "[encoded data removed]",
      "text/plain": [
       "<matplotlib.figure.Figure at 0x7fbc30063ac8>"
      ]
     },
     "metadata": {},
     "output_type": "display_data"
    },
    {
     "data": {
      "image/png": "[encoded data removed]",
      "text/plain": [
       "<matplotlib.figure.Figure at 0x7fbc09d07978>"
      ]
     },
     "metadata": {},
     "output_type": "display_data"
    },
    {
     "data": {
      "image/png": "[encoded data removed]",
      "text/plain": [
       "<matplotlib.figure.Figure at 0x7fbc08ef3898>"
      ]
     },
     "metadata": {},
     "output_type": "display_data"
    }
   ],
   "source": [
    "# visulization results\n",
    "import matplotlib.pyplot as plt\n",
    "%matplotlib inline\n",
    "\n",
    "# loss over epoch\n",
    "plt.figure()\n",
    "plt.plot(losses)\n",
    "\n",
    "# Train data: yp & trnLbls\n",
    "plt.figure()\n",
    "plt.plot(trnLbls, label='Train label')\n",
    "plt.plot(yp, label='Predicted on train')\n",
    "plt.grid(True)\n",
    "plt.legend()\n",
    "\n",
    "# Test data\n",
    "pred_test = sess.run(outs, {inputs: chkData})\n",
    "plt.figure()\n",
    "plt.plot(chkLbls, label='Check label')\n",
    "plt.plot(pred_test, label='Predicted on test')\n",
    "plt.grid(True)\n",
    "plt.legend()"
   ]
  },
  {
   "cell_type": "code",
   "execution_count": null,
   "metadata": {},
   "outputs": [],
   "source": []
  }
 ],
 "metadata": {
  "kernelspec": {
   "display_name": "Python 3",
   "language": "python",
   "name": "python3"
  },
  "language_info": {
   "codemirror_mode": {
    "name": "ipython",
    "version": 3
   },
   "file_extension": ".py",
   "mimetype": "text/x-python",
   "name": "python",
   "nbconvert_exporter": "python",
   "pygments_lexer": "ipython3",
   "version": "3.6.4"
  }
 },
 "nbformat": 4,
 "nbformat_minor": 2
}
