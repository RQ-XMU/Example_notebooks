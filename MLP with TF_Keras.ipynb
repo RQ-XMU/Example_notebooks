{
 "cells": [
  {
   "cell_type": "code",
   "execution_count": 1,
   "metadata": {},
   "outputs": [
    {
     "name": "stderr",
     "output_type": "stream",
     "text": [
      "/home/hung/anaconda3/lib/python3.6/site-packages/h5py/__init__.py:36: FutureWarning: Conversion of the second argument of issubdtype from `float` to `np.floating` is deprecated. In future, it will be treated as `np.float64 == np.dtype(float).type`.\n",
      "  from ._conv import register_converters as _register_converters\n"
     ]
    }
   ],
   "source": [
    "import tensorflow as tf\n",
    "\n",
    "# load data\n",
    "mnist = tf.keras.datasets.mnist\n",
    "(x_train, y_train),(x_test, y_test) = mnist.load_data()\n",
    "\n",
    "# normalize data\n",
    "x_train, x_test = x_train / 255.0, x_test / 255.0"
   ]
  },
  {
   "cell_type": "code",
   "execution_count": 2,
   "metadata": {},
   "outputs": [],
   "source": [
    "# configure neural network \n",
    "model = tf.keras.models.Sequential([\n",
    "  tf.keras.layers.Flatten(),  # Input layer, 724 units\n",
    "  tf.keras.layers.Dense(256, activation=tf.nn.relu),  # hidden layer, 512 units, ReLU activator\n",
    "  tf.keras.layers.Dropout(0.2),  # drop out from hidden layer\n",
    "  tf.keras.layers.Dense(128, activation=tf.nn.relu),  # hidden layer, 512 units, ReLU activator\n",
    "  tf.keras.layers.Dropout(0.2),  # drop out from hidden layer\n",
    "  tf.keras.layers.Dense(10, activation=tf.nn.softmax)  # output layer, 10 units (= 10 digits), softmax activator\n",
    "])"
   ]
  },
  {
   "cell_type": "code",
   "execution_count": 3,
   "metadata": {},
   "outputs": [],
   "source": [
    "model.compile(optimizer='adam',\n",
    "              loss='sparse_categorical_crossentropy',\n",
    "              metrics=['accuracy'])"
   ]
  },
  {
   "cell_type": "code",
   "execution_count": 4,
   "metadata": {},
   "outputs": [
    {
     "name": "stdout",
     "output_type": "stream",
     "text": [
      "Epoch 1/5\n",
      "60000/60000 [==============================] - 10s 160us/step - loss: 0.2609 - acc: 0.9200\n",
      "Epoch 2/5\n",
      "60000/60000 [==============================] - 9s 149us/step - loss: 0.1237 - acc: 0.9625\n",
      "Epoch 3/5\n",
      "60000/60000 [==============================] - 9s 150us/step - loss: 0.0917 - acc: 0.9722\n",
      "Epoch 4/5\n",
      "60000/60000 [==============================] - 9s 156us/step - loss: 0.0782 - acc: 0.9755\n",
      "Epoch 5/5\n",
      "60000/60000 [==============================] - 9s 154us/step - loss: 0.0665 - acc: 0.9787\n"
     ]
    },
    {
     "data": {
      "text/plain": [
       "<tensorflow.python.keras._impl.keras.callbacks.History at 0x7f5653a51ac8>"
      ]
     },
     "execution_count": 4,
     "metadata": {},
     "output_type": "execute_result"
    }
   ],
   "source": [
    "model.fit(x_train, y_train, epochs=5)"
   ]
  },
  {
   "cell_type": "code",
   "execution_count": 5,
   "metadata": {},
   "outputs": [
    {
     "name": "stdout",
     "output_type": "stream",
     "text": [
      "10000/10000 [==============================] - 0s 39us/step\n"
     ]
    },
    {
     "data": {
      "text/plain": [
       "[0.07057081874780997, 0.979]"
      ]
     },
     "execution_count": 5,
     "metadata": {},
     "output_type": "execute_result"
    }
   ],
   "source": [
    "model.evaluate(x_test, y_test)"
   ]
  },
  {
   "cell_type": "code",
   "execution_count": 27,
   "metadata": {},
   "outputs": [
    {
     "data": {
      "text/plain": [
       "array([7, 2, 1, 0, 4, 1, 4, 9, 5, 9])"
      ]
     },
     "execution_count": 27,
     "metadata": {},
     "output_type": "execute_result"
    }
   ],
   "source": [
    "model.predict(x_test[0:10].reshape([-1,28,28])).argmax(axis=-1)"
   ]
  },
  {
   "cell_type": "code",
   "execution_count": 30,
   "metadata": {},
   "outputs": [
    {
     "data": {
      "text/plain": [
       "array([7, 2, 1, 0, 4, 1, 4, 9, 5, 9], dtype=uint8)"
      ]
     },
     "execution_count": 30,
     "metadata": {},
     "output_type": "execute_result"
    }
   ],
   "source": [
    "y_test[0:10]"
   ]
  },
  {
   "cell_type": "code",
   "execution_count": 35,
   "metadata": {},
   "outputs": [
    {
     "name": "stdout",
     "output_type": "stream",
     "text": [
      "[149, 151, 217, 247, 259, 321, 381, 445, 449, 495, 578, 582, 619, 684, 691, 720, 740, 810, 844, 938, 947, 951, 956, 959, 965, 1014, 1039, 1044, 1112, 1156, 1181, 1182, 1224, 1226, 1232, 1242, 1247, 1260, 1299, 1319, 1393, 1414, 1444, 1494, 1500, 1522, 1530, 1549, 1553, 1571, 1681, 1717, 1737, 1754, 1878, 1901, 1941, 1982, 2004, 2016, 2024, 2053, 2073, 2098, 2109, 2118, 2130, 2135, 2182, 2189, 2272, 2293, 2369, 2387, 2406, 2408, 2414, 2422, 2433, 2447, 2488, 2607, 2648, 2654, 2877, 2896, 2927, 2939, 2952, 2953, 2979, 2995, 3030, 3060, 3073, 3117, 3130, 3206, 3342, 3388, 3405, 3475, 3503, 3520, 3549, 3550, 3558, 3597, 3604, 3751, 3776, 3780, 3818, 3853, 3893, 3906, 3941, 3943, 3995, 4065, 4075, 4078, 4140, 4163, 4176, 4224, 4248, 4306, 4382, 4433, 4443, 4497, 4534, 4536, 4601, 4619, 4635, 4690, 4731, 4740, 4761, 4807, 4808, 4814, 4823, 4860, 4880, 4966, 5457, 5600, 5623, 5642, 5676, 5734, 5749, 5887, 5926, 5936, 5955, 5973, 6011, 6023, 6059, 6511, 6555, 6571, 6574, 6576, 6597, 6625, 6632, 6641, 6651, 6749, 6755, 6847, 7216, 7434, 7849, 7886, 8020, 8059, 8094, 8246, 8325, 8362, 8408, 8520, 8527, 9009, 9015, 9024, 9071, 9280, 9587, 9634, 9642, 9664, 9679, 9698, 9700, 9729, 9745, 9749, 9768, 9770, 9779, 9808, 9839, 9944]\n"
     ]
    }
   ],
   "source": [
    "err_ids = []\n",
    "for i in range(len(x_test)):\n",
    "    if (model.predict(x_test[i].reshape([-1,28,28])).argmax(axis=-1) != y_test[i]):\n",
    "        err_ids.append(i)\n",
    "print(err_ids)"
   ]
  },
  {
   "cell_type": "code",
   "execution_count": 50,
   "metadata": {},
   "outputs": [
    {
     "name": "stdout",
     "output_type": "stream",
     "text": [
      "[149, 151, 217, 247, 259, 321, 381, 445, 449, 495, 578, 582, 619, 684, 691, 720, 740, 810, 844, 938, 947, 951, 956, 959, 965, 1014, 1039, 1044, 1112, 1156, 1181, 1182, 1224, 1226, 1232, 1242, 1247, 1260, 1299, 1319, 1393, 1414, 1444, 1494, 1500, 1522, 1530, 1549, 1553, 1571, 1681, 1717, 1737, 1754, 1878, 1901, 1941, 1982, 2004, 2016, 2024, 2053, 2073, 2098, 2109, 2118, 2130, 2135, 2182, 2189, 2272, 2293, 2369, 2387, 2406, 2408, 2414, 2422, 2433, 2447, 2488, 2607, 2648, 2654, 2877, 2896, 2927, 2939, 2952, 2953, 2979, 2995, 3030, 3060, 3073, 3117, 3130, 3206, 3342, 3388, 3405, 3475, 3503, 3520, 3549, 3550, 3558, 3597, 3604, 3751, 3776, 3780, 3818, 3853, 3893, 3906, 3941, 3943, 3995, 4065, 4075, 4078, 4140, 4163, 4176, 4224, 4248, 4306, 4382, 4433, 4443, 4497, 4534, 4536, 4601, 4619, 4635, 4690, 4731, 4740, 4761, 4807, 4808, 4814, 4823, 4860, 4880, 4966, 5457, 5600, 5623, 5642, 5676, 5734, 5749, 5887, 5926, 5936, 5955, 5973, 6011, 6023, 6059, 6511, 6555, 6571, 6574, 6576, 6597, 6625, 6632, 6641, 6651, 6749, 6755, 6847, 7216, 7434, 7849, 7886, 8020, 8059, 8094, 8246, 8325, 8362, 8408, 8520, 8527, 9009, 9015, 9024, 9071, 9280, 9587, 9634, 9642, 9664, 9679, 9698, 9700, 9729, 9745, 9749, 9768, 9770, 9779, 9808, 9839, 9944]\n",
      "210\n"
     ]
    }
   ],
   "source": [
    "err_ids = []\n",
    "eval_ = (model.predict(x_test).argmax(axis=-1) == y_test)\n",
    "for i in range(len(eval_)):\n",
    "    if not eval_[i]:\n",
    "        err_ids.append(i)\n",
    "print(err_ids)\n",
    "print(len(err_ids))"
   ]
  },
  {
   "cell_type": "code",
   "execution_count": 41,
   "metadata": {},
   "outputs": [],
   "source": [
    "import matplotlib.pyplot as plt\n",
    "%matplotlib inline"
   ]
  },
  {
   "cell_type": "code",
   "execution_count": 54,
   "metadata": {},
   "outputs": [
    {
     "name": "stdout",
     "output_type": "stream",
     "text": [
      "Prediction: 9\n",
      "Actual: 2\n",
      "Prediction: 8\n",
      "Actual: 9\n",
      "Prediction: 5\n",
      "Actual: 6\n",
      "Prediction: 2\n",
      "Actual: 4\n",
      "Prediction: 0\n",
      "Actual: 6\n",
      "Prediction: 7\n",
      "Actual: 2\n",
      "Prediction: 7\n",
      "Actual: 3\n",
      "Prediction: 0\n",
      "Actual: 6\n",
      "Prediction: 5\n",
      "Actual: 3\n",
      "Prediction: 2\n",
      "Actual: 8\n"
     ]
    },
    {
     "data": {
      "image/png": "[encoded data removed]",
      "text/plain": [
       "<matplotlib.figure.Figure at 0x7f55b6aae080>"
      ]
     },
     "metadata": {},
     "output_type": "display_data"
    },
    {
     "data": {
      "image/png": "[encoded data removed]",
      "text/plain": [
       "<matplotlib.figure.Figure at 0x7f55b1ac1908>"
      ]
     },
     "metadata": {},
     "output_type": "display_data"
    },
    {
     "data": {
      "image/png": "[encoded data removed]",
      "text/plain": [
       "<matplotlib.figure.Figure at 0x7f55b1aecf60>"
      ]
     },
     "metadata": {},
     "output_type": "display_data"
    },
    {
     "data": {
      "image/png": "[encoded data removed]",
      "text/plain": [
       "<matplotlib.figure.Figure at 0x7f55b1aab898>"
      ]
     },
     "metadata": {},
     "output_type": "display_data"
    },
    {
     "data": {
      "image/png": "[encoded data removed]",
      "text/plain": [
       "<matplotlib.figure.Figure at 0x7f55b1a3c4a8>"
      ]
     },
     "metadata": {},
     "output_type": "display_data"
    },
    {
     "data": {
      "image/png": "[encoded data removed]",
      "text/plain": [
       "<matplotlib.figure.Figure at 0x7f55b1a1b748>"
      ]
     },
     "metadata": {},
     "output_type": "display_data"
    },
    {
     "data": {
      "image/png": "[encoded data removed]",
      "text/plain": [
       "<matplotlib.figure.Figure at 0x7f55b19d8c50>"
      ]
     },
     "metadata": {},
     "output_type": "display_data"
    },
    {
     "data": {
      "image/png": "[encoded data removed]",
      "text/plain": [
       "<matplotlib.figure.Figure at 0x7f55b199c198>"
      ]
     },
     "metadata": {},
     "output_type": "display_data"
    },
    {
     "data": {
      "image/png": "[encoded data removed]",
      "text/plain": [
       "<matplotlib.figure.Figure at 0x7f55b19576a0>"
      ]
     },
     "metadata": {},
     "output_type": "display_data"
    },
    {
     "data": {
      "image/png": "[encoded data removed]",
      "text/plain": [
       "<matplotlib.figure.Figure at 0x7f55b190e898>"
      ]
     },
     "metadata": {},
     "output_type": "display_data"
    }
   ],
   "source": [
    "for idd in err_ids[0:10]:\n",
    "    print(\"Prediction:\", model.predict(x_test[idd].reshape([-1,28,28])).argmax(axis=-1)[0])\n",
    "    print(\"Actual:\", y_test[idd])\n",
    "    plt.figure()\n",
    "    plt.imshow((255*x_test[idd]).astype(int), cmap='gray')"
   ]
  },
  {
   "cell_type": "code",
   "execution_count": 43,
   "metadata": {},
   "outputs": [
    {
     "name": "stdout",
     "output_type": "stream",
     "text": [
      "[80, 172, 212, 224, 418, 470, 494, 500, 635, 670, 902, 974, 995, 1030, 1404, 1512, 1604, 1634, 1772, 2044, 2098, 2676, 2720, 2734, 2761, 2803, 2901, 2958, 3220, 3268, 3392, 3510, 3692, 3696, 3756, 4028, 4122, 4142, 4382, 4468, 4476, 4638, 4694, 5002, 5103, 5174, 5332, 5430, 5516, 5554, 5638, 5748, 5821, 5826, 5896, 6102, 6202, 6387, 6448, 6658, 6711, 6808, 6810, 6816, 6844, 6848, 6885, 6920, 6930, 7010, 7058, 7080, 7270, 7308, 7584, 7678, 7784, 7851, 7994, 8072, 8118, 8200, 8202, 8480, 8709, 8729, 8772, 8799, 8857, 8898, 9075, 9098, 9256, 9450, 10042, 10064, 10205, 10224, 10245, 10251, 10297, 10756, 10986, 10994, 11039, 11210, 11501, 11570, 11657, 11781, 11797, 11949, 12012, 12305, 12559, 12603, 12650, 12679, 12744, 12808, 12877, 12984, 13080, 13318, 13376, 13677, 13831, 14008, 14222, 14314, 14333, 14528, 14580, 14700, 14740, 14790, 14851, 15106, 15276, 15526, 15610, 15942, 16290, 16376, 16488, 16530, 16560, 16676, 16678, 16706, 17001, 17059, 17121, 17192, 17220, 17244, 17551, 17772, 17817, 18293, 18348, 18686, 18704, 18796, 19005, 19089, 19096, 19124, 19211, 19302, 19328, 19360, 19502, 19702, 19866, 20016, 20068, 20110, 20169, 20350, 20641, 20720, 20735, 20773, 20784, 21112, 21348, 21445, 21452, 21466, 21576, 21601, 21700, 21889, 21906, 21944, 22123, 22204, 22278, 22442, 22559, 22615, 22643, 22675, 23016, 23024, 23089, 23184, 23247, 23406, 23588, 23618, 23724, 23730, 23824, 23911, 24223, 24274, 24278, 24432, 24497, 24512, 24798, 24831, 24850, 25176, 25498, 25546, 25562, 25638, 25678, 25799, 25829, 26444, 26504, 26513, 26560, 26626, 26738, 26748, 26756, 26842, 26882, 26940, 27155, 27248, 27468, 27522, 27674, 27706, 27822, 27846, 28102, 28152, 28357, 28395, 28418, 28491, 28642, 28710, 29012, 29216, 29226, 29294, 29311, 29730, 30049, 30066, 30123, 30130, 30290, 30962, 30968, 31197, 31345, 31347, 31428, 31444, 31456, 31562, 31596, 31706, 31748, 31844, 32108, 32276, 32345, 32346, 32372, 32409, 32417, 32747, 32835, 33055, 33306, 33340, 33388, 33412, 33768, 33789, 34010, 34048, 34404, 34500, 34542, 34660, 34707, 34771, 34802, 34824, 35051, 35064, 35136, 35205, 35234, 35310, 35360, 35470, 35474, 35480, 35504, 35574, 35616, 35688, 36046, 36104, 36214, 36421, 36446, 36760, 36934, 37038, 37044, 37050, 37062, 37124, 37134, 37161, 37209, 37256, 37281, 37358, 37396, 37450, 37502, 37816, 37834, 38022, 38052, 38374, 38390, 38526, 38586, 38605, 38700, 39184, 39260, 39327, 39329, 39355, 39397, 39423, 39425, 39639, 39656, 39776, 39778, 39863, 39864, 40240, 40378, 40386, 40466, 40620, 40660, 40752, 40829, 40976, 41334, 41464, 41538, 41562, 41742, 41832, 41843, 41904, 42099, 42255, 42364, 42428, 42566, 42702, 42782, 42941, 43042, 43069, 43095, 43109, 43562, 43592, 43658, 43670, 43702, 43950, 43979, 44232, 44237, 44240, 44294, 44378, 44456, 44484, 44850, 44903, 44961, 44969, 45005, 45143, 45185, 45238, 45352, 45502, 45520, 45586, 45614, 45615, 45616, 45968, 46070, 46078, 46088, 46122, 46246, 46247, 46314, 46354, 46368, 46373, 46384, 46394, 46404, 46406, 46689, 46726, 46815, 46857, 46938, 47034, 47094, 47234, 47264, 47317, 47340, 47376, 47421, 47479, 47486, 47600, 47643, 47689, 47690, 47759, 47762, 47781, 47918, 47926, 47936, 48010, 48228, 48258, 48288, 48352, 48454, 48494, 48522, 48662, 48786, 48930, 48975, 49002, 49006, 49012, 49026, 49143, 49212, 49217, 49324, 49514, 49515, 49549, 49573, 49662, 49672, 49744, 49868, 49890, 49892, 50086, 50239, 50246, 50317, 50329, 50340, 50355, 50391, 50473, 50500, 50514, 50522, 50714, 50728, 50747, 50819, 51248, 51280, 51508, 51544, 51944, 52163, 52241, 52394, 52674, 52800, 52914, 52932, 52968, 52976, 53042, 53216, 53312, 53476, 53547, 53638, 53680, 53688, 53740, 53806, 53999, 54074, 54296, 54554, 54586, 54782, 54834, 54858, 55340, 55792, 56224, 56228, 56346, 56452, 56464, 56480, 56596, 56717, 56838, 56914, 57276, 57302, 57312, 57507, 57663, 57728, 57938, 58048, 58064, 58101, 58464, 58649, 59354, 59401, 59414, 59701, 59719, 59915]\n",
      "575\n"
     ]
    }
   ],
   "source": [
    "# Train error\n",
    "err_ids = []\n",
    "eval_ = (model.predict(x_train).argmax(axis=-1) == y_train)\n",
    "for i in range(len(eval_)):\n",
    "    if not eval_[i]:\n",
    "        err_ids.append(i)\n",
    "print(err_ids)\n",
    "print(len(err_ids))"
   ]
  },
  {
   "cell_type": "code",
   "execution_count": 49,
   "metadata": {},
   "outputs": [
    {
     "name": "stdout",
     "output_type": "stream",
     "text": [
      "Prediction: 2\n",
      "Actual: 6\n"
     ]
    },
    {
     "data": {
      "text/plain": [
       "<matplotlib.image.AxesImage at 0x7f55bf3319b0>"
      ]
     },
     "execution_count": 49,
     "metadata": {},
     "output_type": "execute_result"
    },
    {
     "data": {
      "image/png": "[encoded data removed]",
      "text/plain": [
       "<matplotlib.figure.Figure at 0x7f55bf4a3e80>"
      ]
     },
     "metadata": {},
     "output_type": "display_data"
    }
   ],
   "source": [
    "idd = 49026\n",
    "print(\"Prediction:\", model.predict(x_train[idd].reshape([-1,28,28])).argmax(axis=-1)[0])\n",
    "print(\"Actual:\", y_train[idd])\n",
    "plt.imshow((255*x_train[idd]).astype(int), cmap='gray')"
   ]
  },
  {
   "cell_type": "code",
   "execution_count": null,
   "metadata": {},
   "outputs": [
    {
     "name": "stderr",
     "output_type": "stream",
     "text": [
      "Using TensorFlow backend.\n"
     ]
    },
    {
     "name": "stdout",
     "output_type": "stream",
     "text": [
      "x_train shape: (60000, 28, 28, 1)\n",
      "60000 train samples\n",
      "10000 test samples\n",
      "Train on 60000 samples, validate on 10000 samples\n",
      "Epoch 1/12\n",
      "32384/60000 [===============>..............] - ETA: 47s - loss: 0.3712 - acc: 0.8834"
     ]
    }
   ],
   "source": [
    "'''Trains a simple convnet on the MNIST dataset.\n",
    "Gets to 99.25% test accuracy after 12 epochs\n",
    "(there is still a lot of margin for parameter tuning).\n",
    "16 seconds per epoch on a GRID K520 GPU.\n",
    "'''\n",
    "\n",
    "from __future__ import print_function\n",
    "import keras\n",
    "from keras.datasets import mnist\n",
    "from keras.models import Sequential\n",
    "from keras.layers import Dense, Dropout, Flatten\n",
    "from keras.layers import Conv2D, MaxPooling2D\n",
    "from keras import backend as K\n",
    "\n",
    "batch_size = 128\n",
    "num_classes = 10\n",
    "epochs = 12\n",
    "\n",
    "# input image dimensions\n",
    "img_rows, img_cols = 28, 28\n",
    "\n",
    "# the data, split between train and test sets\n",
    "(x_train, y_train), (x_test, y_test) = mnist.load_data()\n",
    "\n",
    "if K.image_data_format() == 'channels_first':\n",
    "    x_train = x_train.reshape(x_train.shape[0], 1, img_rows, img_cols)\n",
    "    x_test = x_test.reshape(x_test.shape[0], 1, img_rows, img_cols)\n",
    "    input_shape = (1, img_rows, img_cols)\n",
    "else:\n",
    "    x_train = x_train.reshape(x_train.shape[0], img_rows, img_cols, 1)\n",
    "    x_test = x_test.reshape(x_test.shape[0], img_rows, img_cols, 1)\n",
    "    input_shape = (img_rows, img_cols, 1)\n",
    "\n",
    "x_train = x_train.astype('float32')\n",
    "x_test = x_test.astype('float32')\n",
    "x_train /= 255\n",
    "x_test /= 255\n",
    "print('x_train shape:', x_train.shape)\n",
    "print(x_train.shape[0], 'train samples')\n",
    "print(x_test.shape[0], 'test samples')\n",
    "\n",
    "# convert class vectors to binary class matrices\n",
    "y_train = keras.utils.to_categorical(y_train, num_classes)\n",
    "y_test = keras.utils.to_categorical(y_test, num_classes)\n",
    "\n",
    "model = Sequential()\n",
    "model.add(Conv2D(32, kernel_size=(3, 3),\n",
    "                 activation='relu',\n",
    "                 input_shape=input_shape))\n",
    "model.add(Conv2D(64, (3, 3), activation='relu'))\n",
    "model.add(MaxPooling2D(pool_size=(2, 2)))\n",
    "model.add(Dropout(0.25))\n",
    "model.add(Flatten())\n",
    "model.add(Dense(128, activation='relu'))\n",
    "model.add(Dropout(0.5))\n",
    "model.add(Dense(num_classes, activation='softmax'))\n",
    "\n",
    "model.compile(loss=keras.losses.categorical_crossentropy,\n",
    "              optimizer=keras.optimizers.Adadelta(),\n",
    "              metrics=['accuracy'])\n",
    "\n",
    "model.fit(x_train, y_train,\n",
    "          batch_size=batch_size,\n",
    "          epochs=epochs,\n",
    "          verbose=1,\n",
    "          validation_data=(x_test, y_test))\n",
    "score = model.evaluate(x_test, y_test, verbose=0)\n",
    "print('Test loss:', score[0])\n",
    "print('Test accuracy:', score[1])"
   ]
  },
  {
   "cell_type": "code",
   "execution_count": null,
   "metadata": {},
   "outputs": [],
   "source": []
  }
 ],
 "metadata": {
  "kernelspec": {
   "display_name": "Python 3",
   "language": "python",
   "name": "python3"
  },
  "language_info": {
   "codemirror_mode": {
    "name": "ipython",
    "version": 3
   },
   "file_extension": ".py",
   "mimetype": "text/x-python",
   "name": "python",
   "nbconvert_exporter": "python",
   "pygments_lexer": "ipython3",
   "version": "3.6.4"
  }
 },
 "nbformat": 4,
 "nbformat_minor": 2
}
