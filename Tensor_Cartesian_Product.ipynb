{
 "cells": [
  {
   "cell_type": "code",
   "execution_count": 2,
   "metadata": {},
   "outputs": [
    {
     "name": "stdout",
     "output_type": "stream",
     "text": [
      "(3, 4, 2)\n",
      "[[[1 4]\n",
      "  [1 5]\n",
      "  [1 6]\n",
      "  [1 7]]\n",
      "\n",
      " [[2 4]\n",
      "  [2 5]\n",
      "  [2 6]\n",
      "  [2 7]]\n",
      "\n",
      " [[3 4]\n",
      "  [3 5]\n",
      "  [3 6]\n",
      "  [3 7]]]\n",
      "[[ 4  5  6  7]\n",
      " [ 8 10 12 14]\n",
      " [12 15 18 21]]\n"
     ]
    }
   ],
   "source": [
    "import tensorflow as tf\n",
    "\n",
    "a = tf.constant([1,2,3]) \n",
    "b = tf.constant([4,5,6,7]) \n",
    "\n",
    "tile_a = tf.tile(tf.expand_dims(a, 1), [1, tf.shape(b)[0]])\n",
    "# print(sess.run(tile_a))\n",
    "tile_a = tf.expand_dims(tile_a, 2)\n",
    "# print(sess.run(tile_a))\n",
    "tile_b = tf.tile(tf.expand_dims(b, 0), [tf.shape(a)[0], 1])\n",
    "# print(sess.run(tile_b))\n",
    "tile_b = tf.expand_dims(tile_b, 2)\n",
    "# print(sess.run(tile_b))\n",
    "\n",
    "cartesian_product = tf.concat([tile_a, tile_b], axis=2) \n",
    "\n",
    "cart = tf.Session().run(cartesian_product)\n",
    "cart1 = tf.Session().run(tf.reduce_prod(cartesian_product, axis=-1))\n",
    "\n",
    "print(cart.shape) \n",
    "print(cart)\n",
    "print(cart1)"
   ]
  },
  {
   "cell_type": "code",
   "execution_count": null,
   "metadata": {},
   "outputs": [],
   "source": []
  }
 ],
 "metadata": {
  "kernelspec": {
   "display_name": "Python 3",
   "language": "python",
   "name": "python3"
  },
  "language_info": {
   "codemirror_mode": {
    "name": "ipython",
    "version": 3
   },
   "file_extension": ".py",
   "mimetype": "text/x-python",
   "name": "python",
   "nbconvert_exporter": "python",
   "pygments_lexer": "ipython3",
   "version": "3.6.4"
  }
 },
 "nbformat": 4,
 "nbformat_minor": 2
}
