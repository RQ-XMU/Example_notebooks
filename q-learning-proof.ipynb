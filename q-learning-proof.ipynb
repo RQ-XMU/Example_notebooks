{
 "cells": [
  {
   "cell_type": "markdown",
   "metadata": {},
   "source": [
    "# Convergence of Q-learning \n",
    "## Markov decision process (MDP): $(\\mathcal{X, A, P}, r)$\n",
    "\n",
    "where: \n",
    "- $\\mathcal{X}$ - state space\n",
    "- $\\mathcal{A}$ - action space\n",
    "- $\\mathcal{P}$ - transition probabilities\n",
    "- $r$ - reward function:\n",
    "$$r:\\mathcal(X,A,X)\\rightarrow\\mathbb{R}$$\n",
    "$$r(x,a,y) \\mapsto r$$"
   ]
  },
  {
   "cell_type": "markdown",
   "metadata": {},
   "source": [
    "**value of a state $x$ for a sequence of control $\\{\\mathcal{A}_t\\}$**:\n",
    "$$J(x,\\{\\mathcal{A}_t\\})=\\mathbb{E}\\left[\\sum_{t=0}^{\\infty}\\gamma^t\\mathcal{R}\\left(\\mathcal{X}_t, \\mathcal{A}_t\\right)\\mid \\mathcal{X}_0=x\\right]$$\n",
    "**optimal value function** $x\\in\\mathcal{X}$:\n",
    "$$V^*(x)=\\max_{\\mathcal{A}_t}J(x,\\{\\mathcal{A}_t\\})$$\n",
    "**optimal $Q^*$-function**:\n",
    "$$Q^*(x,a)=\\sum_{y\\in\\mathcal{X}}\\mathcal{P}_a(x,y)\\left[r(x,a,y)+\\gamma V^*(y)\\right]$$"
   ]
  },
  {
   "cell_type": "markdown",
   "metadata": {},
   "source": [
    "**optimal $Q$ function** is a fixed point of a contraction operator $\\mathbf{H}$:\n",
    "$$q:\\mathcal{X\\times A}\\rightarrow\\mathbb{R}$$\n",
    "$$(\\mathbf{H}q)(x,a)=\\sum_{y\\in\\mathcal{X}}\\mathcal{P}_a(x,y)\\left[r(x,a,y)+\\gamma\\max_{b\\in\\mathcal{A}}q(y,b)\\right]$$\n",
    "$$\\left \\| \\mathbf{H}q_1-\\mathbf{H}q_2 \\right \\|_\\infty\\leq\\gamma\\left \\| q_1-q_2 \\right \\|_\\infty \\tag{*}$$"
   ]
  },
  {
   "cell_type": "markdown",
   "metadata": {},
   "source": [
    "**for $(*)$**:\n",
    "$\\left \\| \\mathbf{H}q_1-\\mathbf{H}q_2 \\right \\|_\\infty $:\n",
    "\n",
    "$\\displaystyle =\\max_{x,a}\\left\\| \\sum_{r\\in\\mathcal{X}}\\mathcal{P}_a(x,y)\\left[ r(x,a,y)+\\gamma\\max_{b\\in\\mathcal{A}}q_1(y,b) \\right] - \\sum_{r\\in\\mathcal{X}}\\mathcal{P}_a(x,y)\\left[ r(x,a,y)+\\gamma\\max_{b\\in\\mathcal{A}}q_2(y,b) \\right] \\right\\|$\n",
    "\n",
    "$\\displaystyle=\\max_{x,a}\\gamma \\left | \\sum_{r\\in\\mathcal{X}}\\mathcal{P}_a(x,y) \\left[ \\max_{b\\in\\mathcal{A}}q_1(y,b) - \\max_{b\\in\\mathcal{A}}q_1(y,b) \\right] \\right |  $ (because of $|a+b|\\leq|a|+|b|$)\n",
    "\n",
    "$\\displaystyle \\leq \\max_{x,a}\\gamma \\sum_{r\\in\\mathcal{X}}\\mathcal{P}_a(x,y) \\left| \\max_{b\\in\\mathcal{A}}q_1(y,b) - \\max_{b\\in\\mathcal{A}}q_1(y,b) \\right|$ (because of $|\\max A - \\max B|\\leq\\max|A-B|$)\n",
    "\n",
    "$\\displaystyle \\leq \\max_{x,a}\\gamma \\sum_{r\\in\\mathcal{X}}\\mathcal{P}_a(x,y) \\max_{z\\in\\mathcal{X},\\ b\\in\\mathcal{A}}\\left| q_1(z,b)-q_2(z,b) \\right|$\n",
    "\n",
    "$\\displaystyle = \\max_{x,a}\\gamma \\sum_{r\\in\\mathcal{X}}\\mathcal{P}_a(x,y) \\left\\| q_1-q_2 \\right\\|_\\infty$\n",
    "\n",
    "$=\\gamma\\left\\| q_1-q_2 \\right\\|_\\infty$"
   ]
  },
  {
   "cell_type": "markdown",
   "metadata": {},
   "source": []
  }
 ],
 "metadata": {
  "kernelspec": {
   "display_name": "Python 3",
   "language": "python",
   "name": "python3"
  },
  "language_info": {
   "codemirror_mode": {
    "name": "ipython",
    "version": 3
   },
   "file_extension": ".py",
   "mimetype": "text/x-python",
   "name": "python",
   "nbconvert_exporter": "python",
   "pygments_lexer": "ipython3",
   "version": "3.6.4"
  }
 },
 "nbformat": 4,
 "nbformat_minor": 2
}
