{
 "cells": [
  {
   "cell_type": "code",
   "execution_count": 1,
   "metadata": {},
   "outputs": [
    {
     "name": "stderr",
     "output_type": "stream",
     "text": [
      "/home/hung/anaconda3/lib/python3.6/site-packages/h5py/__init__.py:36: FutureWarning: Conversion of the second argument of issubdtype from `float` to `np.floating` is deprecated. In future, it will be treated as `np.float64 == np.dtype(float).type`.\n",
      "  from ._conv import register_converters as _register_converters\n"
     ]
    }
   ],
   "source": [
    "import tensorflow as tf\n",
    "\n",
    "# load data\n",
    "mnist = tf.keras.datasets.mnist\n",
    "(x_train, y_train),(x_test, y_test) = mnist.load_data()\n",
    "\n",
    "# normalize data\n",
    "x_train, x_test = x_train / 255.0, x_test / 255.0"
   ]
  },
  {
   "cell_type": "code",
   "execution_count": 2,
   "metadata": {},
   "outputs": [],
   "source": [
    "# configure neural network \n",
    "model = tf.keras.models.Sequential([\n",
    "  tf.keras.layers.Flatten(),  # Input layer, 724 units\n",
    "  tf.keras.layers.Dense(256, activation=tf.nn.relu),  # hidden layer, 512 units, ReLU activator\n",
    "  tf.keras.layers.Dropout(0.2),  # drop out from hidden layer\n",
    "  tf.keras.layers.Dense(128, activation=tf.nn.relu),  # hidden layer, 512 units, ReLU activator\n",
    "  tf.keras.layers.Dropout(0.2),  # drop out from hidden layer\n",
    "  tf.keras.layers.Dense(10, activation=tf.nn.softmax)  # output layer, 10 units (= 10 digits), softmax activator\n",
    "])"
   ]
  },
  {
   "cell_type": "code",
   "execution_count": 3,
   "metadata": {},
   "outputs": [],
   "source": [
    "model.compile(optimizer='adam',\n",
    "              loss='sparse_categorical_crossentropy',\n",
    "              metrics=['accuracy'])"
   ]
  },
  {
   "cell_type": "code",
   "execution_count": 4,
   "metadata": {},
   "outputs": [
    {
     "name": "stdout",
     "output_type": "stream",
     "text": [
      "Epoch 1/5\n",
      "60000/60000 [==============================] - 10s 160us/step - loss: 0.2609 - acc: 0.9200\n",
      "Epoch 2/5\n",
      "60000/60000 [==============================] - 9s 149us/step - loss: 0.1237 - acc: 0.9625\n",
      "Epoch 3/5\n",
      "60000/60000 [==============================] - 9s 150us/step - loss: 0.0917 - acc: 0.9722\n",
      "Epoch 4/5\n",
      "60000/60000 [==============================] - 9s 156us/step - loss: 0.0782 - acc: 0.9755\n",
      "Epoch 5/5\n",
      "60000/60000 [==============================] - 9s 154us/step - loss: 0.0665 - acc: 0.9787\n"
     ]
    },
    {
     "data": {
      "text/plain": [
       "<tensorflow.python.keras._impl.keras.callbacks.History at 0x7f5653a51ac8>"
      ]
     },
     "execution_count": 4,
     "metadata": {},
     "output_type": "execute_result"
    }
   ],
   "source": [
    "model.fit(x_train, y_train, epochs=5)"
   ]
  },
  {
   "cell_type": "code",
   "execution_count": 5,
   "metadata": {},
   "outputs": [
    {
     "name": "stdout",
     "output_type": "stream",
     "text": [
      "10000/10000 [==============================] - 0s 39us/step\n"
     ]
    },
    {
     "data": {
      "text/plain": [
       "[0.07057081874780997, 0.979]"
      ]
     },
     "execution_count": 5,
     "metadata": {},
     "output_type": "execute_result"
    }
   ],
   "source": [
    "model.evaluate(x_test, y_test)"
   ]
  },
  {
   "cell_type": "code",
   "execution_count": 27,
   "metadata": {},
   "outputs": [
    {
     "data": {
      "text/plain": [
       "array([7, 2, 1, 0, 4, 1, 4, 9, 5, 9])"
      ]
     },
     "execution_count": 27,
     "metadata": {},
     "output_type": "execute_result"
    }
   ],
   "source": [
    "model.predict(x_test[0:10].reshape([-1,28,28])).argmax(axis=-1)"
   ]
  },
  {
   "cell_type": "code",
   "execution_count": 30,
   "metadata": {},
   "outputs": [
    {
     "data": {
      "text/plain": [
       "array([7, 2, 1, 0, 4, 1, 4, 9, 5, 9], dtype=uint8)"
      ]
     },
     "execution_count": 30,
     "metadata": {},
     "output_type": "execute_result"
    }
   ],
   "source": [
    "y_test[0:10]"
   ]
  },
  {
   "cell_type": "code",
   "execution_count": 35,
   "metadata": {},
   "outputs": [
    {
     "name": "stdout",
     "output_type": "stream",
     "text": [
      "[149, 151, 217, 247, 259, 321, 381, 445, 449, 495, 578, 582, 619, 684, 691, 720, 740, 810, 844, 938, 947, 951, 956, 959, 965, 1014, 1039, 1044, 1112, 1156, 1181, 1182, 1224, 1226, 1232, 1242, 1247, 1260, 1299, 1319, 1393, 1414, 1444, 1494, 1500, 1522, 1530, 1549, 1553, 1571, 1681, 1717, 1737, 1754, 1878, 1901, 1941, 1982, 2004, 2016, 2024, 2053, 2073, 2098, 2109, 2118, 2130, 2135, 2182, 2189, 2272, 2293, 2369, 2387, 2406, 2408, 2414, 2422, 2433, 2447, 2488, 2607, 2648, 2654, 2877, 2896, 2927, 2939, 2952, 2953, 2979, 2995, 3030, 3060, 3073, 3117, 3130, 3206, 3342, 3388, 3405, 3475, 3503, 3520, 3549, 3550, 3558, 3597, 3604, 3751, 3776, 3780, 3818, 3853, 3893, 3906, 3941, 3943, 3995, 4065, 4075, 4078, 4140, 4163, 4176, 4224, 4248, 4306, 4382, 4433, 4443, 4497, 4534, 4536, 4601, 4619, 4635, 4690, 4731, 4740, 4761, 4807, 4808, 4814, 4823, 4860, 4880, 4966, 5457, 5600, 5623, 5642, 5676, 5734, 5749, 5887, 5926, 5936, 5955, 5973, 6011, 6023, 6059, 6511, 6555, 6571, 6574, 6576, 6597, 6625, 6632, 6641, 6651, 6749, 6755, 6847, 7216, 7434, 7849, 7886, 8020, 8059, 8094, 8246, 8325, 8362, 8408, 8520, 8527, 9009, 9015, 9024, 9071, 9280, 9587, 9634, 9642, 9664, 9679, 9698, 9700, 9729, 9745, 9749, 9768, 9770, 9779, 9808, 9839, 9944]\n"
     ]
    }
   ],
   "source": [
    "err_ids = []\n",
    "for i in range(len(x_test)):\n",
    "    if (model.predict(x_test[i].reshape([-1,28,28])).argmax(axis=-1) != y_test[i]):\n",
    "        err_ids.append(i)\n",
    "print(err_ids)"
   ]
  },
  {
   "cell_type": "code",
   "execution_count": 50,
   "metadata": {},
   "outputs": [
    {
     "name": "stdout",
     "output_type": "stream",
     "text": [
      "[149, 151, 217, 247, 259, 321, 381, 445, 449, 495, 578, 582, 619, 684, 691, 720, 740, 810, 844, 938, 947, 951, 956, 959, 965, 1014, 1039, 1044, 1112, 1156, 1181, 1182, 1224, 1226, 1232, 1242, 1247, 1260, 1299, 1319, 1393, 1414, 1444, 1494, 1500, 1522, 1530, 1549, 1553, 1571, 1681, 1717, 1737, 1754, 1878, 1901, 1941, 1982, 2004, 2016, 2024, 2053, 2073, 2098, 2109, 2118, 2130, 2135, 2182, 2189, 2272, 2293, 2369, 2387, 2406, 2408, 2414, 2422, 2433, 2447, 2488, 2607, 2648, 2654, 2877, 2896, 2927, 2939, 2952, 2953, 2979, 2995, 3030, 3060, 3073, 3117, 3130, 3206, 3342, 3388, 3405, 3475, 3503, 3520, 3549, 3550, 3558, 3597, 3604, 3751, 3776, 3780, 3818, 3853, 3893, 3906, 3941, 3943, 3995, 4065, 4075, 4078, 4140, 4163, 4176, 4224, 4248, 4306, 4382, 4433, 4443, 4497, 4534, 4536, 4601, 4619, 4635, 4690, 4731, 4740, 4761, 4807, 4808, 4814, 4823, 4860, 4880, 4966, 5457, 5600, 5623, 5642, 5676, 5734, 5749, 5887, 5926, 5936, 5955, 5973, 6011, 6023, 6059, 6511, 6555, 6571, 6574, 6576, 6597, 6625, 6632, 6641, 6651, 6749, 6755, 6847, 7216, 7434, 7849, 7886, 8020, 8059, 8094, 8246, 8325, 8362, 8408, 8520, 8527, 9009, 9015, 9024, 9071, 9280, 9587, 9634, 9642, 9664, 9679, 9698, 9700, 9729, 9745, 9749, 9768, 9770, 9779, 9808, 9839, 9944]\n",
      "210\n"
     ]
    }
   ],
   "source": [
    "err_ids = []\n",
    "eval_ = (model.predict(x_test).argmax(axis=-1) == y_test)\n",
    "for i in range(len(eval_)):\n",
    "    if not eval_[i]:\n",
    "        err_ids.append(i)\n",
    "print(err_ids)\n",
    "print(len(err_ids))"
   ]
  },
  {
   "cell_type": "code",
   "execution_count": 41,
   "metadata": {},
   "outputs": [],
   "source": [
    "import matplotlib.pyplot as plt\n",
    "%matplotlib inline"
   ]
  },
  {
   "cell_type": "code",
   "execution_count": 54,
   "metadata": {},
   "outputs": [
    {
     "name": "stdout",
     "output_type": "stream",
     "text": [
      "Prediction: 9\n",
      "Actual: 2\n",
      "Prediction: 8\n",
      "Actual: 9\n",
      "Prediction: 5\n",
      "Actual: 6\n",
      "Prediction: 2\n",
      "Actual: 4\n",
      "Prediction: 0\n",
      "Actual: 6\n",
      "Prediction: 7\n",
      "Actual: 2\n",
      "Prediction: 7\n",
      "Actual: 3\n",
      "Prediction: 0\n",
      "Actual: 6\n",
      "Prediction: 5\n",
      "Actual: 3\n",
      "Prediction: 2\n",
      "Actual: 8\n"
     ]
    },
    {
     "data": {
      "image/png": "[encoded data removed]",
      "text/plain": [
       "<matplotlib.figure.Figure at 0x7f55b6aae080>"
      ]
     },
     "metadata": {},
     "output_type": "display_data"
    },
    {
     "data": {
      "image/png": "[encoded data removed]",
      "text/plain": [
       "<matplotlib.figure.Figure at 0x7f55b1ac1908>"
      ]
     },
     "metadata": {},
     "output_type": "display_data"
    },
    {
     "data": {
      "image/png": "[encoded data removed]",
      "text/plain": [
       "<matplotlib.figure.Figure at 0x7f55b1aecf60>"
      ]
     },
     "metadata": {},
     "output_type": "display_data"
    },
    {
     "data": {
      "image/png": "[encoded data removed]",
      "text/plain": [
       "<matplotlib.figure.Figure at 0x7f55b1aab898>"
      ]
     },
     "metadata": {},
     "output_type": "display_data"
    },
    {
     "data": {
      "image/png": "[encoded data removed]",
      "text/plain": [
       "<matplotlib.figure.Figure at 0x7f55b1a3c4a8>"
      ]
     },
     "metadata": {},
     "output_type": "display_data"
    },
    {
     "data": {
      "image/png": "[encoded data removed]",
      "text/plain": [
       "<matplotlib.figure.Figure at 0x7f55b1a1b748>"
      ]
     },
     "metadata": {},
     "output_type": "display_data"
    },
    {
     "data": {
      "image/png": "[encoded data removed]",
      "text/plain": [
       "<matplotlib.figure.Figure at 0x7f55b19d8c50>"
      ]
     },
     "metadata": {},
     "output_type": "display_data"
    },
    {
     "data": {
      "image/png": "[encoded data removed]",
      "text/plain": [
       "<matplotlib.figure.Figure at 0x7f55b199c198>"
      ]
     },
     "metadata": {},
     "output_type": "display_data"
    },
    {
     "data": {
      "image/png": "[encoded data removed]",
      "text/plain": [
       "<matplotlib.figure.Figure at 0x7f55b19576a0>"
      ]
     },
     "metadata": {},
     "output_type": "display_data"
    },
    {
     "data": {
      "image/png": "[encoded data removed]",
      "text/plain": [
       "<matplotlib.figure.Figure at 0x7f55b190e898>"
      ]
     },
     "metadata": {},
     "output_type": "display_data"
    }
   ],
   "source": [
    "for idd in err_ids[0:10]:\n",
    "    print(\"Prediction:\", model.predict(x_test[idd].reshape([-1,28,28])).argmax(axis=-1)[0])\n",
    "    print(\"Actual:\", y_test[idd])\n",
    "    plt.figure()\n",
    "    plt.imshow((255*x_test[idd]).astype(int), cmap='gray')"
   ]
  },
  {
   "cell_type": "code",
   "execution_count": 43,
   "metadata": {},
   "outputs": [
    {
     "name": "stdout",
     "output_type": "stream",
     "text": [
      "[80, 172, 212, 224, 418, 470, 494, 500, 635, 670, 902, 974, 995, 1030, 1404, 1512, 1604, 1634, 1772, 2044, 2098, 2676, 2720, 2734, 2761, 2803, 2901, 2958, 3220, 3268, 3392, 3510, 3692, 3696, 3756, 4028, 4122, 4142, 4382, 4468, 4476, 4638, 4694, 5002, 5103, 5174, 5332, 5430, 5516, 5554, 5638, 5748, 5821, 5826, 5896, 6102, 6202, 6387, 6448, 6658, 6711, 6808, 6810, 6816, 6844, 6848, 6885, 6920, 6930, 7010, 7058, 7080, 7270, 7308, 7584, 7678, 7784, 7851, 7994, 8072, 8118, 8200, 8202, 8480, 8709, 8729, 8772, 8799, 8857, 8898, 9075, 9098, 9256, 9450, 10042, 10064, 10205, 10224, 10245, 10251, 10297, 10756, 10986, 10994, 11039, 11210, 11501, 11570, 11657, 11781, 11797, 11949, 12012, 12305, 12559, 12603, 12650, 12679, 12744, 12808, 12877, 12984, 13080, 13318, 13376, 13677, 13831, 14008, 14222, 14314, 14333, 14528, 14580, 14700, 14740, 14790, 14851, 15106, 15276, 15526, 15610, 15942, 16290, 16376, 16488, 16530, 16560, 16676, 16678, 16706, 17001, 17059, 17121, 17192, 17220, 17244, 17551, 17772, 17817, 18293, 18348, 18686, 18704, 18796, 19005, 19089, 19096, 19124, 19211, 19302, 19328, 19360, 19502, 19702, 19866, 20016, 20068, 20110, 20169, 20350, 20641, 20720, 20735, 20773, 20784, 21112, 21348, 21445, 21452, 21466, 21576, 21601, 21700, 21889, 21906, 21944, 22123, 22204, 22278, 22442, 22559, 22615, 22643, 22675, 23016, 23024, 23089, 23184, 23247, 23406, 23588, 23618, 23724, 23730, 23824, 23911, 24223, 24274, 24278, 24432, 24497, 24512, 24798, 24831, 24850, 25176, 25498, 25546, 25562, 25638, 25678, 25799, 25829, 26444, 26504, 26513, 26560, 26626, 26738, 26748, 26756, 26842, 26882, 26940, 27155, 27248, 27468, 27522, 27674, 27706, 27822, 27846, 28102, 28152, 28357, 28395, 28418, 28491, 28642, 28710, 29012, 29216, 29226, 29294, 29311, 29730, 30049, 30066, 30123, 30130, 30290, 30962, 30968, 31197, 31345, 31347, 31428, 31444, 31456, 31562, 31596, 31706, 31748, 31844, 32108, 32276, 32345, 32346, 32372, 32409, 32417, 32747, 32835, 33055, 33306, 33340, 33388, 33412, 33768, 33789, 34010, 34048, 34404, 34500, 34542, 34660, 34707, 34771, 34802, 34824, 35051, 35064, 35136, 35205, 35234, 35310, 35360, 35470, 35474, 35480, 35504, 35574, 35616, 35688, 36046, 36104, 36214, 36421, 36446, 36760, 36934, 37038, 37044, 37050, 37062, 37124, 37134, 37161, 37209, 37256, 37281, 37358, 37396, 37450, 37502, 37816, 37834, 38022, 38052, 38374, 38390, 38526, 38586, 38605, 38700, 39184, 39260, 39327, 39329, 39355, 39397, 39423, 39425, 39639, 39656, 39776, 39778, 39863, 39864, 40240, 40378, 40386, 40466, 40620, 40660, 40752, 40829, 40976, 41334, 41464, 41538, 41562, 41742, 41832, 41843, 41904, 42099, 42255, 42364, 42428, 42566, 42702, 42782, 42941, 43042, 43069, 43095, 43109, 43562, 43592, 43658, 43670, 43702, 43950, 43979, 44232, 44237, 44240, 44294, 44378, 44456, 44484, 44850, 44903, 44961, 44969, 45005, 45143, 45185, 45238, 45352, 45502, 45520, 45586, 45614, 45615, 45616, 45968, 46070, 46078, 46088, 46122, 46246, 46247, 46314, 46354, 46368, 46373, 46384, 46394, 46404, 46406, 46689, 46726, 46815, 46857, 46938, 47034, 47094, 47234, 47264, 47317, 47340, 47376, 47421, 47479, 47486, 47600, 47643, 47689, 47690, 47759, 47762, 47781, 47918, 47926, 47936, 48010, 48228, 48258, 48288, 48352, 48454, 48494, 48522, 48662, 48786, 48930, 48975, 49002, 49006, 49012, 49026, 49143, 49212, 49217, 49324, 49514, 49515, 49549, 49573, 49662, 49672, 49744, 49868, 49890, 49892, 50086, 50239, 50246, 50317, 50329, 50340, 50355, 50391, 50473, 50500, 50514, 50522, 50714, 50728, 50747, 50819, 51248, 51280, 51508, 51544, 51944, 52163, 52241, 52394, 52674, 52800, 52914, 52932, 52968, 52976, 53042, 53216, 53312, 53476, 53547, 53638, 53680, 53688, 53740, 53806, 53999, 54074, 54296, 54554, 54586, 54782, 54834, 54858, 55340, 55792, 56224, 56228, 56346, 56452, 56464, 56480, 56596, 56717, 56838, 56914, 57276, 57302, 57312, 57507, 57663, 57728, 57938, 58048, 58064, 58101, 58464, 58649, 59354, 59401, 59414, 59701, 59719, 59915]\n",
      "575\n"
     ]
    }
   ],
   "source": [
    "# Train error\n",
    "err_ids = []\n",
    "eval_ = (model.predict(x_train).argmax(axis=-1) == y_train)\n",
    "for i in range(len(eval_)):\n",
    "    if not eval_[i]:\n",
    "        err_ids.append(i)\n",
    "print(err_ids)\n",
    "print(len(err_ids))"
   ]
  },
  {
   "cell_type": "code",
   "execution_count": 49,
   "metadata": {},
   "outputs": [
    {
     "name": "stdout",
     "output_type": "stream",
     "text": [
      "Prediction: 2\n",
      "Actual: 6\n"
     ]
    },
    {
     "data": {
      "text/plain": [
       "<matplotlib.image.AxesImage at 0x7f55bf3319b0>"
      ]
     },
     "execution_count": 49,
     "metadata": {},
     "output_type": "execute_result"
    },
    {
     "data": {
      "image/png": "[encoded data removed]",
      "text/plain": [
       "<matplotlib.figure.Figure at 0x7f55bf4a3e80>"
      ]
     },
     "metadata": {},
     "output_type": "display_data"
    }
   ],
   "source": [
    "idd = 49026\n",
    "print(\"Prediction:\", model.predict(x_train[idd].reshape([-1,28,28])).argmax(axis=-1)[0])\n",
    "print(\"Actual:\", y_train[idd])\n",
    "plt.imshow((255*x_train[idd]).astype(int), cmap='gray')"
   ]
  },
  {
   "cell_type": "code",
   "execution_count": 55,
   "metadata": {},
   "outputs": [
    {
     "name": "stderr",
     "output_type": "stream",
     "text": [
      "Using TensorFlow backend.\n"
     ]
    },
    {
     "name": "stdout",
     "output_type": "stream",
     "text": [
      "x_train shape: (60000, 28, 28, 1)\n",
      "60000 train samples\n",
      "10000 test samples\n",
      "Train on 60000 samples, validate on 10000 samples\n",
      "Epoch 1/12\n",
      "60000/60000 [==============================] - 107s 2ms/step - loss: 0.2591 - acc: 0.9198 - val_loss: 0.0604 - val_acc: 0.9797\n",
      "Epoch 2/12\n",
      "60000/60000 [==============================] - 110s 2ms/step - loss: 0.0887 - acc: 0.9733 - val_loss: 0.0448 - val_acc: 0.9854\n",
      "Epoch 3/12\n",
      "60000/60000 [==============================] - 114s 2ms/step - loss: 0.0645 - acc: 0.9809 - val_loss: 0.0374 - val_acc: 0.9868\n",
      "Epoch 4/12\n",
      "60000/60000 [==============================] - 112s 2ms/step - loss: 0.0513 - acc: 0.9852 - val_loss: 0.0283 - val_acc: 0.9891\n",
      "Epoch 5/12\n",
      "60000/60000 [==============================] - 109s 2ms/step - loss: 0.0455 - acc: 0.9861 - val_loss: 0.0310 - val_acc: 0.9903\n",
      "Epoch 6/12\n",
      "60000/60000 [==============================] - 109s 2ms/step - loss: 0.0408 - acc: 0.9878 - val_loss: 0.0314 - val_acc: 0.9897\n",
      "Epoch 7/12\n",
      "60000/60000 [==============================] - 102s 2ms/step - loss: 0.0362 - acc: 0.9895 - val_loss: 0.0284 - val_acc: 0.9907\n",
      "Epoch 8/12\n",
      "60000/60000 [==============================] - 112s 2ms/step - loss: 0.0341 - acc: 0.9900 - val_loss: 0.0268 - val_acc: 0.9905\n",
      "Epoch 9/12\n",
      "60000/60000 [==============================] - 114s 2ms/step - loss: 0.0308 - acc: 0.9906 - val_loss: 0.0279 - val_acc: 0.9915\n",
      "Epoch 10/12\n",
      "60000/60000 [==============================] - 113s 2ms/step - loss: 0.0297 - acc: 0.9912 - val_loss: 0.0266 - val_acc: 0.9920\n",
      "Epoch 11/12\n",
      "60000/60000 [==============================] - 107s 2ms/step - loss: 0.0270 - acc: 0.9912 - val_loss: 0.0279 - val_acc: 0.9908\n",
      "Epoch 12/12\n",
      "60000/60000 [==============================] - 107s 2ms/step - loss: 0.0238 - acc: 0.9925 - val_loss: 0.0294 - val_acc: 0.9910\n",
      "Test loss: 0.029371677383343286\n",
      "Test accuracy: 0.991\n"
     ]
    }
   ],
   "source": [
    "'''Trains a simple convnet on the MNIST dataset.\n",
    "Gets to 99.25% test accuracy after 12 epochs\n",
    "(there is still a lot of margin for parameter tuning).\n",
    "16 seconds per epoch on a GRID K520 GPU.\n",
    "'''\n",
    "\n",
    "from __future__ import print_function\n",
    "import keras\n",
    "from keras.datasets import mnist\n",
    "from keras.models import Sequential\n",
    "from keras.layers import Dense, Dropout, Flatten\n",
    "from keras.layers import Conv2D, MaxPooling2D\n",
    "from keras import backend as K\n",
    "\n",
    "batch_size = 128\n",
    "num_classes = 10\n",
    "epochs = 12\n",
    "\n",
    "# input image dimensions\n",
    "img_rows, img_cols = 28, 28\n",
    "\n",
    "# the data, split between train and test sets\n",
    "(x_train, y_train), (x_test, y_test) = mnist.load_data()\n",
    "\n",
    "if K.image_data_format() == 'channels_first':\n",
    "    x_train = x_train.reshape(x_train.shape[0], 1, img_rows, img_cols)\n",
    "    x_test = x_test.reshape(x_test.shape[0], 1, img_rows, img_cols)\n",
    "    input_shape = (1, img_rows, img_cols)\n",
    "else:\n",
    "    x_train = x_train.reshape(x_train.shape[0], img_rows, img_cols, 1)\n",
    "    x_test = x_test.reshape(x_test.shape[0], img_rows, img_cols, 1)\n",
    "    input_shape = (img_rows, img_cols, 1)\n",
    "\n",
    "x_train = x_train.astype('float32')\n",
    "x_test = x_test.astype('float32')\n",
    "x_train /= 255\n",
    "x_test /= 255\n",
    "print('x_train shape:', x_train.shape)\n",
    "print(x_train.shape[0], 'train samples')\n",
    "print(x_test.shape[0], 'test samples')\n",
    "\n",
    "# convert class vectors to binary class matrices\n",
    "y_train = keras.utils.to_categorical(y_train, num_classes)\n",
    "y_test = keras.utils.to_categorical(y_test, num_classes)\n",
    "\n",
    "model = Sequential()\n",
    "model.add(Conv2D(32, kernel_size=(3, 3),\n",
    "                 activation='relu',\n",
    "                 input_shape=input_shape))\n",
    "model.add(Conv2D(64, (3, 3), activation='relu'))\n",
    "model.add(MaxPooling2D(pool_size=(2, 2)))\n",
    "model.add(Dropout(0.25))\n",
    "model.add(Flatten())\n",
    "model.add(Dense(128, activation='relu'))\n",
    "model.add(Dropout(0.5))\n",
    "model.add(Dense(num_classes, activation='softmax'))\n",
    "\n",
    "model.compile(loss=keras.losses.categorical_crossentropy,\n",
    "              optimizer=keras.optimizers.Adadelta(),\n",
    "              metrics=['accuracy'])\n",
    "\n",
    "model.fit(x_train, y_train,\n",
    "          batch_size=batch_size,\n",
    "          epochs=epochs,\n",
    "          verbose=1,\n",
    "          validation_data=(x_test, y_test))\n",
    "score = model.evaluate(x_test, y_test, verbose=0)\n",
    "print('Test loss:', score[0])\n",
    "print('Test accuracy:', score[1])"
   ]
  },
  {
   "cell_type": "code",
   "execution_count": 58,
   "metadata": {},
   "outputs": [
    {
     "name": "stdout",
     "output_type": "stream",
     "text": [
      "x_train shape: (60000, 28, 28, 1)\n",
      "60000 train samples\n",
      "10000 test samples\n",
      "Train on 60000 samples, validate on 10000 samples\n",
      "Epoch 1/12\n",
      "60000/60000 [==============================] - 145s 2ms/step - loss: 0.1469 - acc: 0.9547 - val_loss: 0.0416 - val_acc: 0.9861\n",
      "Epoch 2/12\n",
      "60000/60000 [==============================] - 146s 2ms/step - loss: 0.0490 - acc: 0.9855 - val_loss: 0.0304 - val_acc: 0.9879\n",
      "Epoch 3/12\n",
      "60000/60000 [==============================] - 147s 2ms/step - loss: 0.0380 - acc: 0.9885 - val_loss: 0.0182 - val_acc: 0.9946\n",
      "Epoch 4/12\n",
      "60000/60000 [==============================] - 148s 2ms/step - loss: 0.0316 - acc: 0.9902 - val_loss: 0.0256 - val_acc: 0.9925\n",
      "Epoch 5/12\n",
      "60000/60000 [==============================] - 143s 2ms/step - loss: 0.0263 - acc: 0.9920 - val_loss: 0.0226 - val_acc: 0.9924\n",
      "Epoch 6/12\n",
      "60000/60000 [==============================] - 149s 2ms/step - loss: 0.0244 - acc: 0.9922 - val_loss: 0.0274 - val_acc: 0.9906\n",
      "Epoch 7/12\n",
      "60000/60000 [==============================] - 148s 2ms/step - loss: 0.0207 - acc: 0.9935 - val_loss: 0.0181 - val_acc: 0.9946\n",
      "Epoch 8/12\n",
      "60000/60000 [==============================] - 147s 2ms/step - loss: 0.0184 - acc: 0.9940 - val_loss: 0.0175 - val_acc: 0.9948\n",
      "Epoch 9/12\n",
      "60000/60000 [==============================] - 146s 2ms/step - loss: 0.0179 - acc: 0.9942 - val_loss: 0.0200 - val_acc: 0.9948\n",
      "Epoch 10/12\n",
      "60000/60000 [==============================] - 144s 2ms/step - loss: 0.0147 - acc: 0.9953 - val_loss: 0.0192 - val_acc: 0.9936\n",
      "Epoch 11/12\n",
      "60000/60000 [==============================] - 145s 2ms/step - loss: 0.0143 - acc: 0.9957 - val_loss: 0.0216 - val_acc: 0.9945\n",
      "Epoch 12/12\n",
      "60000/60000 [==============================] - 145s 2ms/step - loss: 0.0137 - acc: 0.9956 - val_loss: 0.0150 - val_acc: 0.9955\n",
      "Test loss: 0.01497563725451073\n",
      "Test accuracy: 0.9955\n"
     ]
    }
   ],
   "source": [
    "'''Trains a simple convnet on the MNIST dataset.\n",
    "Gets to 99.25% test accuracy after 12 epochs\n",
    "(there is still a lot of margin for parameter tuning).\n",
    "16 seconds per epoch on a GRID K520 GPU.\n",
    "'''\n",
    "\n",
    "from __future__ import print_function\n",
    "import keras\n",
    "from keras.datasets import mnist\n",
    "from keras.models import Sequential\n",
    "from keras.layers import Dense, Dropout, Flatten, BatchNormalization\n",
    "from keras.layers import Conv2D, MaxPooling2D, MaxPool2D\n",
    "from keras import backend as K\n",
    "\n",
    "batch_size = 128\n",
    "num_classes = 10\n",
    "epochs = 12\n",
    "\n",
    "# input image dimensions\n",
    "img_rows, img_cols = 28, 28\n",
    "\n",
    "# the data, split between train and test sets\n",
    "(x_train, y_train), (x_test, y_test) = mnist.load_data()\n",
    "\n",
    "if K.image_data_format() == 'channels_first':\n",
    "    x_train = x_train.reshape(x_train.shape[0], 1, img_rows, img_cols)\n",
    "    x_test = x_test.reshape(x_test.shape[0], 1, img_rows, img_cols)\n",
    "    input_shape = (1, img_rows, img_cols)\n",
    "else:\n",
    "    x_train = x_train.reshape(x_train.shape[0], img_rows, img_cols, 1)\n",
    "    x_test = x_test.reshape(x_test.shape[0], img_rows, img_cols, 1)\n",
    "    input_shape = (img_rows, img_cols, 1)\n",
    "\n",
    "x_train = x_train.astype('float32')\n",
    "x_test = x_test.astype('float32')\n",
    "x_train /= 255\n",
    "x_test /= 255\n",
    "print('x_train shape:', x_train.shape)\n",
    "print(x_train.shape[0], 'train samples')\n",
    "print(x_test.shape[0], 'test samples')\n",
    "\n",
    "# convert class vectors to binary class matrices\n",
    "y_train = keras.utils.to_categorical(y_train, num_classes)\n",
    "y_test = keras.utils.to_categorical(y_test, num_classes)\n",
    "\n",
    "model1 = Sequential()\n",
    "model1.add(Conv2D(32, kernel_size=(3, 3),activation='relu',kernel_initializer='he_normal',input_shape=input_shape))\n",
    "model1.add(Conv2D(32, kernel_size=(3, 3),activation='relu',kernel_initializer='he_normal'))\n",
    "model1.add(MaxPool2D((2, 2)))\n",
    "model1.add(Dropout(0.20))\n",
    "model1.add(Conv2D(64, (3, 3), activation='relu',padding='same',kernel_initializer='he_normal'))\n",
    "model1.add(Conv2D(64, (3, 3), activation='relu',padding='same',kernel_initializer='he_normal'))\n",
    "model1.add(MaxPool2D(pool_size=(2, 2)))\n",
    "model1.add(Dropout(0.25))\n",
    "model1.add(Conv2D(128, (3, 3), activation='relu',padding='same',kernel_initializer='he_normal'))\n",
    "model1.add(Dropout(0.25))\n",
    "model1.add(Flatten())\n",
    "model1.add(Dense(128, activation='relu'))\n",
    "model1.add(BatchNormalization())\n",
    "model1.add(Dropout(0.25))\n",
    "model1.add(Dense(num_classes, activation='softmax'))\n",
    "\n",
    "model1.compile(loss=keras.losses.categorical_crossentropy,\n",
    "              optimizer=keras.optimizers.RMSprop(),\n",
    "              metrics=['accuracy'])\n",
    "\n",
    "model1.fit(x_train, y_train,\n",
    "          batch_size=batch_size,\n",
    "          epochs=epochs,\n",
    "          verbose=1,\n",
    "          validation_data=(x_test, y_test))\n",
    "score = model1.evaluate(x_test, y_test, verbose=0)\n",
    "print('Test loss:', score[0])\n",
    "print('Test accuracy:', score[1])"
   ]
  },
  {
   "cell_type": "code",
   "execution_count": 70,
   "metadata": {},
   "outputs": [
    {
     "name": "stdout",
     "output_type": "stream",
     "text": [
      "[321, 449, 659, 947, 1014, 1039, 1232, 1247, 1260, 1378, 1737, 1901, 2118, 2130, 2293, 2447, 2462, 2597, 2654, 2771, 2939, 2953, 3225, 3422, 3520, 3762, 3808, 4176, 4284, 4382, 4571, 4740, 4823, 4860, 5165, 5937, 5955, 6173, 6576, 6651, 7216, 8527, 9015, 9642, 9729]\n",
      "45\n"
     ]
    }
   ],
   "source": [
    "err_ids = []\n",
    "eval_ = (model1.predict(x_test).argmax(axis=-1) == y_test.argmax(axis=-1))\n",
    "for i in range(len(eval_)):\n",
    "    if not eval_[i]:\n",
    "        err_ids.append(i)\n",
    "print(err_ids)\n",
    "print(len(err_ids))"
   ]
  },
  {
   "cell_type": "code",
   "execution_count": 104,
   "metadata": {},
   "outputs": [
    {
     "name": "stdout",
     "output_type": "stream",
     "text": [
      "Prediction: 9\n",
      "Actual: 4\n"
     ]
    },
    {
     "data": {
      "text/plain": [
       "<matplotlib.image.AxesImage at 0x7f560cf2dba8>"
      ]
     },
     "execution_count": 104,
     "metadata": {},
     "output_type": "execute_result"
    },
    {
     "data": {
      "image/png": "[encoded data removed]",
      "text/plain": [
       "<matplotlib.figure.Figure at 0x7f560aeeef28>"
      ]
     },
     "metadata": {},
     "output_type": "display_data"
    }
   ],
   "source": [
    "idd = 4860\n",
    "print(\"Prediction:\", model2.predict(x_test[idd].reshape([1,28,28,1])).argmax(axis=-1)[0])\n",
    "print(\"Actual:\", y_test[idd].argmax(axis=-1))\n",
    "plt.imshow((255*x_test[idd].reshape([28,28])).astype(int), cmap='gray')"
   ]
  },
  {
   "cell_type": "code",
   "execution_count": 87,
   "metadata": {},
   "outputs": [
    {
     "name": "stdout",
     "output_type": "stream",
     "text": [
      "[494, 1404, 1604, 1940, 2148, 3532, 4476, 5740, 6269, 6347, 7080, 7270, 8480, 8701, 10994, 12183, 13508, 13854, 14008, 14700, 16130, 16549, 16678, 16706, 17739, 18190, 18508, 18598, 19360, 20962, 22320, 22779, 23962, 25159, 25678, 25790, 26471, 26560, 26622, 26626, 26748, 28116, 30792, 32445, 32558, 33412, 33506, 34750, 35310, 35464, 36089, 37038, 37680, 38397, 38526, 38700, 39427, 40144, 40824, 41156, 41218, 41284, 42112, 42566, 43454, 43574, 44378, 45352, 46078, 46314, 46857, 46938, 47094, 47340, 47600, 49164, 49212, 49960, 51248, 51944, 52854, 53063, 53638, 53806, 54264, 56596, 57744, 57882, 59701, 59915]\n",
      "90\n"
     ]
    }
   ],
   "source": [
    "err_ids1 = []\n",
    "eval_ = (model1.predict(x_train).argmax(axis=-1) == y_train.argmax(axis=-1))\n",
    "for i in range(len(eval_)):\n",
    "    if not eval_[i]:\n",
    "        err_ids1.append(i)\n",
    "print(err_ids1)\n",
    "print(len(err_ids1))"
   ]
  },
  {
   "cell_type": "code",
   "execution_count": 76,
   "metadata": {},
   "outputs": [],
   "source": [
    "model1.save(\"MNIST9955.h5\")"
   ]
  },
  {
   "cell_type": "code",
   "execution_count": 77,
   "metadata": {},
   "outputs": [],
   "source": [
    "from keras.models import load_model\n",
    "model2 = load_model('MNIST9955.h5')"
   ]
  },
  {
   "cell_type": "code",
   "execution_count": 100,
   "metadata": {},
   "outputs": [
    {
     "name": "stdout",
     "output_type": "stream",
     "text": [
      "Prediction: 4\n",
      "Actual: 9\n"
     ]
    },
    {
     "data": {
      "text/plain": [
       "<matplotlib.image.AxesImage at 0x7f560b1f8a58>"
      ]
     },
     "execution_count": 100,
     "metadata": {},
     "output_type": "execute_result"
    },
    {
     "data": {
      "image/png": "[encoded data removed]",
      "text/plain": [
       "<matplotlib.figure.Figure at 0x7f560ba99668>"
      ]
     },
     "metadata": {},
     "output_type": "display_data"
    }
   ],
   "source": [
    "idd = 57744\n",
    "print(\"Prediction:\", model2.predict(x_train[idd].reshape([1,28,28,1])).argmax(axis=-1)[0])\n",
    "print(\"Actual:\", y_train[idd].argmax(axis=-1))\n",
    "plt.imshow((255*x_train[idd].reshape([28,28])).astype(int), cmap='gray')"
   ]
  },
  {
   "cell_type": "code",
   "execution_count": 82,
   "metadata": {},
   "outputs": [
    {
     "data": {
      "text/plain": [
       "(28, 28, 1)"
      ]
     },
     "execution_count": 82,
     "metadata": {},
     "output_type": "execute_result"
    }
   ],
   "source": [
    "x_train[idd].shape"
   ]
  },
  {
   "cell_type": "code",
   "execution_count": 89,
   "metadata": {},
   "outputs": [
    {
     "name": "stdout",
     "output_type": "stream",
     "text": [
      "_________________________________________________________________\n",
      "Layer (type)                 Output Shape              Param #   \n",
      "=================================================================\n",
      "conv2d_10 (Conv2D)           (None, 26, 26, 32)        320       \n",
      "_________________________________________________________________\n",
      "conv2d_11 (Conv2D)           (None, 24, 24, 32)        9248      \n",
      "_________________________________________________________________\n",
      "max_pooling2d_4 (MaxPooling2 (None, 12, 12, 32)        0         \n",
      "_________________________________________________________________\n",
      "dropout_6 (Dropout)          (None, 12, 12, 32)        0         \n",
      "_________________________________________________________________\n",
      "conv2d_12 (Conv2D)           (None, 12, 12, 64)        18496     \n",
      "_________________________________________________________________\n",
      "conv2d_13 (Conv2D)           (None, 12, 12, 64)        36928     \n",
      "_________________________________________________________________\n",
      "max_pooling2d_5 (MaxPooling2 (None, 6, 6, 64)          0         \n",
      "_________________________________________________________________\n",
      "dropout_7 (Dropout)          (None, 6, 6, 64)          0         \n",
      "_________________________________________________________________\n",
      "conv2d_14 (Conv2D)           (None, 6, 6, 128)         73856     \n",
      "_________________________________________________________________\n",
      "dropout_8 (Dropout)          (None, 6, 6, 128)         0         \n",
      "_________________________________________________________________\n",
      "flatten_3 (Flatten)          (None, 4608)              0         \n",
      "_________________________________________________________________\n",
      "dense_4 (Dense)              (None, 128)               589952    \n",
      "_________________________________________________________________\n",
      "batch_normalization_1 (Batch (None, 128)               512       \n",
      "_________________________________________________________________\n",
      "dropout_9 (Dropout)          (None, 128)               0         \n",
      "_________________________________________________________________\n",
      "dense_5 (Dense)              (None, 10)                1290      \n",
      "=================================================================\n",
      "Total params: 730,602\n",
      "Trainable params: 730,346\n",
      "Non-trainable params: 256\n",
      "_________________________________________________________________\n"
     ]
    }
   ],
   "source": [
    "model2.summary()"
   ]
  },
  {
   "cell_type": "code",
   "execution_count": 90,
   "metadata": {},
   "outputs": [
    {
     "data": {
      "image/svg+xml": [
       "<svg height=\"1140pt\" viewBox=\"0.00 0.00 268.00 1140.00\" width=\"268pt\" xmlns=\"http://www.w3.org/2000/svg\" xmlns:xlink=\"http://www.w3.org/1999/xlink\">\n",
       "<g class=\"graph\" id=\"graph0\" transform=\"scale(1 1) rotate(0) translate(4 1136)\">\n",
       "<title>G</title>\n",
       "<polygon fill=\"white\" points=\"-4,4 -4,-1136 264,-1136 264,4 -4,4\" stroke=\"none\"/>\n",
       "<!-- 140006085337160 -->\n",
       "<g class=\"node\" id=\"node1\"><title>140006085337160</title>\n",
       "<polygon fill=\"none\" points=\"65,-1022.5 65,-1058.5 195,-1058.5 195,-1022.5 65,-1022.5\" stroke=\"black\"/>\n",
       "<text font-family=\"Times,serif\" font-size=\"14.00\" text-anchor=\"middle\" x=\"130\" y=\"-1036.8\">conv2d_10: Conv2D</text>\n",
       "</g>\n",
       "<!-- 140006085339120 -->\n",
       "<g class=\"node\" id=\"node2\"><title>140006085339120</title>\n",
       "<polygon fill=\"none\" points=\"65,-949.5 65,-985.5 195,-985.5 195,-949.5 65,-949.5\" stroke=\"black\"/>\n",
       "<text font-family=\"Times,serif\" font-size=\"14.00\" text-anchor=\"middle\" x=\"130\" y=\"-963.8\">conv2d_11: Conv2D</text>\n",
       "</g>\n",
       "<!-- 140006085337160&#45;&gt;140006085339120 -->\n",
       "<g class=\"edge\" id=\"edge2\"><title>140006085337160-&gt;140006085339120</title>\n",
       "<path d=\"M130,-1022.31C130,-1014.29 130,-1004.55 130,-995.569\" fill=\"none\" stroke=\"black\"/>\n",
       "<polygon fill=\"black\" points=\"133.5,-995.529 130,-985.529 126.5,-995.529 133.5,-995.529\" stroke=\"black\"/>\n",
       "</g>\n",
       "<!-- 140006085337888 -->\n",
       "<g class=\"node\" id=\"node3\"><title>140006085337888</title>\n",
       "<polygon fill=\"none\" points=\"26.5,-876.5 26.5,-912.5 233.5,-912.5 233.5,-876.5 26.5,-876.5\" stroke=\"black\"/>\n",
       "<text font-family=\"Times,serif\" font-size=\"14.00\" text-anchor=\"middle\" x=\"130\" y=\"-890.8\">max_pooling2d_4: MaxPooling2D</text>\n",
       "</g>\n",
       "<!-- 140006085339120&#45;&gt;140006085337888 -->\n",
       "<g class=\"edge\" id=\"edge3\"><title>140006085339120-&gt;140006085337888</title>\n",
       "<path d=\"M130,-949.313C130,-941.289 130,-931.547 130,-922.569\" fill=\"none\" stroke=\"black\"/>\n",
       "<polygon fill=\"black\" points=\"133.5,-922.529 130,-912.529 126.5,-922.529 133.5,-922.529\" stroke=\"black\"/>\n",
       "</g>\n",
       "<!-- 140006085385856 -->\n",
       "<g class=\"node\" id=\"node4\"><title>140006085385856</title>\n",
       "<polygon fill=\"none\" points=\"67.5,-803.5 67.5,-839.5 192.5,-839.5 192.5,-803.5 67.5,-803.5\" stroke=\"black\"/>\n",
       "<text font-family=\"Times,serif\" font-size=\"14.00\" text-anchor=\"middle\" x=\"130\" y=\"-817.8\">dropout_6: Dropout</text>\n",
       "</g>\n",
       "<!-- 140006085337888&#45;&gt;140006085385856 -->\n",
       "<g class=\"edge\" id=\"edge4\"><title>140006085337888-&gt;140006085385856</title>\n",
       "<path d=\"M130,-876.313C130,-868.289 130,-858.547 130,-849.569\" fill=\"none\" stroke=\"black\"/>\n",
       "<polygon fill=\"black\" points=\"133.5,-849.529 130,-839.529 126.5,-849.529 133.5,-849.529\" stroke=\"black\"/>\n",
       "</g>\n",
       "<!-- 140006085385408 -->\n",
       "<g class=\"node\" id=\"node5\"><title>140006085385408</title>\n",
       "<polygon fill=\"none\" points=\"65,-730.5 65,-766.5 195,-766.5 195,-730.5 65,-730.5\" stroke=\"black\"/>\n",
       "<text font-family=\"Times,serif\" font-size=\"14.00\" text-anchor=\"middle\" x=\"130\" y=\"-744.8\">conv2d_12: Conv2D</text>\n",
       "</g>\n",
       "<!-- 140006085385856&#45;&gt;140006085385408 -->\n",
       "<g class=\"edge\" id=\"edge5\"><title>140006085385856-&gt;140006085385408</title>\n",
       "<path d=\"M130,-803.313C130,-795.289 130,-785.547 130,-776.569\" fill=\"none\" stroke=\"black\"/>\n",
       "<polygon fill=\"black\" points=\"133.5,-776.529 130,-766.529 126.5,-776.529 133.5,-776.529\" stroke=\"black\"/>\n",
       "</g>\n",
       "<!-- 140006085338448 -->\n",
       "<g class=\"node\" id=\"node6\"><title>140006085338448</title>\n",
       "<polygon fill=\"none\" points=\"65,-657.5 65,-693.5 195,-693.5 195,-657.5 65,-657.5\" stroke=\"black\"/>\n",
       "<text font-family=\"Times,serif\" font-size=\"14.00\" text-anchor=\"middle\" x=\"130\" y=\"-671.8\">conv2d_13: Conv2D</text>\n",
       "</g>\n",
       "<!-- 140006085385408&#45;&gt;140006085338448 -->\n",
       "<g class=\"edge\" id=\"edge6\"><title>140006085385408-&gt;140006085338448</title>\n",
       "<path d=\"M130,-730.313C130,-722.289 130,-712.547 130,-703.569\" fill=\"none\" stroke=\"black\"/>\n",
       "<polygon fill=\"black\" points=\"133.5,-703.529 130,-693.529 126.5,-703.529 133.5,-703.529\" stroke=\"black\"/>\n",
       "</g>\n",
       "<!-- 140006092151496 -->\n",
       "<g class=\"node\" id=\"node7\"><title>140006092151496</title>\n",
       "<polygon fill=\"none\" points=\"26.5,-584.5 26.5,-620.5 233.5,-620.5 233.5,-584.5 26.5,-584.5\" stroke=\"black\"/>\n",
       "<text font-family=\"Times,serif\" font-size=\"14.00\" text-anchor=\"middle\" x=\"130\" y=\"-598.8\">max_pooling2d_5: MaxPooling2D</text>\n",
       "</g>\n",
       "<!-- 140006085338448&#45;&gt;140006092151496 -->\n",
       "<g class=\"edge\" id=\"edge7\"><title>140006085338448-&gt;140006092151496</title>\n",
       "<path d=\"M130,-657.313C130,-649.289 130,-639.547 130,-630.569\" fill=\"none\" stroke=\"black\"/>\n",
       "<polygon fill=\"black\" points=\"133.5,-630.529 130,-620.529 126.5,-630.529 133.5,-630.529\" stroke=\"black\"/>\n",
       "</g>\n",
       "<!-- 140006068198816 -->\n",
       "<g class=\"node\" id=\"node8\"><title>140006068198816</title>\n",
       "<polygon fill=\"none\" points=\"67.5,-511.5 67.5,-547.5 192.5,-547.5 192.5,-511.5 67.5,-511.5\" stroke=\"black\"/>\n",
       "<text font-family=\"Times,serif\" font-size=\"14.00\" text-anchor=\"middle\" x=\"130\" y=\"-525.8\">dropout_7: Dropout</text>\n",
       "</g>\n",
       "<!-- 140006092151496&#45;&gt;140006068198816 -->\n",
       "<g class=\"edge\" id=\"edge8\"><title>140006092151496-&gt;140006068198816</title>\n",
       "<path d=\"M130,-584.313C130,-576.289 130,-566.547 130,-557.569\" fill=\"none\" stroke=\"black\"/>\n",
       "<polygon fill=\"black\" points=\"133.5,-557.529 130,-547.529 126.5,-557.529 133.5,-557.529\" stroke=\"black\"/>\n",
       "</g>\n",
       "<!-- 140006068199040 -->\n",
       "<g class=\"node\" id=\"node9\"><title>140006068199040</title>\n",
       "<polygon fill=\"none\" points=\"65,-438.5 65,-474.5 195,-474.5 195,-438.5 65,-438.5\" stroke=\"black\"/>\n",
       "<text font-family=\"Times,serif\" font-size=\"14.00\" text-anchor=\"middle\" x=\"130\" y=\"-452.8\">conv2d_14: Conv2D</text>\n",
       "</g>\n",
       "<!-- 140006068198816&#45;&gt;140006068199040 -->\n",
       "<g class=\"edge\" id=\"edge9\"><title>140006068198816-&gt;140006068199040</title>\n",
       "<path d=\"M130,-511.313C130,-503.289 130,-493.547 130,-484.569\" fill=\"none\" stroke=\"black\"/>\n",
       "<polygon fill=\"black\" points=\"133.5,-484.529 130,-474.529 126.5,-484.529 133.5,-484.529\" stroke=\"black\"/>\n",
       "</g>\n",
       "<!-- 140006103130520 -->\n",
       "<g class=\"node\" id=\"node10\"><title>140006103130520</title>\n",
       "<polygon fill=\"none\" points=\"67.5,-365.5 67.5,-401.5 192.5,-401.5 192.5,-365.5 67.5,-365.5\" stroke=\"black\"/>\n",
       "<text font-family=\"Times,serif\" font-size=\"14.00\" text-anchor=\"middle\" x=\"130\" y=\"-379.8\">dropout_8: Dropout</text>\n",
       "</g>\n",
       "<!-- 140006068199040&#45;&gt;140006103130520 -->\n",
       "<g class=\"edge\" id=\"edge10\"><title>140006068199040-&gt;140006103130520</title>\n",
       "<path d=\"M130,-438.313C130,-430.289 130,-420.547 130,-411.569\" fill=\"none\" stroke=\"black\"/>\n",
       "<polygon fill=\"black\" points=\"133.5,-411.529 130,-401.529 126.5,-411.529 133.5,-411.529\" stroke=\"black\"/>\n",
       "</g>\n",
       "<!-- 140006092359104 -->\n",
       "<g class=\"node\" id=\"node11\"><title>140006092359104</title>\n",
       "<polygon fill=\"none\" points=\"75,-292.5 75,-328.5 185,-328.5 185,-292.5 75,-292.5\" stroke=\"black\"/>\n",
       "<text font-family=\"Times,serif\" font-size=\"14.00\" text-anchor=\"middle\" x=\"130\" y=\"-306.8\">flatten_3: Flatten</text>\n",
       "</g>\n",
       "<!-- 140006103130520&#45;&gt;140006092359104 -->\n",
       "<g class=\"edge\" id=\"edge11\"><title>140006103130520-&gt;140006092359104</title>\n",
       "<path d=\"M130,-365.313C130,-357.289 130,-347.547 130,-338.569\" fill=\"none\" stroke=\"black\"/>\n",
       "<polygon fill=\"black\" points=\"133.5,-338.529 130,-328.529 126.5,-338.529 133.5,-338.529\" stroke=\"black\"/>\n",
       "</g>\n",
       "<!-- 140006038080928 -->\n",
       "<g class=\"node\" id=\"node12\"><title>140006038080928</title>\n",
       "<polygon fill=\"none\" points=\"79,-219.5 79,-255.5 181,-255.5 181,-219.5 79,-219.5\" stroke=\"black\"/>\n",
       "<text font-family=\"Times,serif\" font-size=\"14.00\" text-anchor=\"middle\" x=\"130\" y=\"-233.8\">dense_4: Dense</text>\n",
       "</g>\n",
       "<!-- 140006092359104&#45;&gt;140006038080928 -->\n",
       "<g class=\"edge\" id=\"edge12\"><title>140006092359104-&gt;140006038080928</title>\n",
       "<path d=\"M130,-292.313C130,-284.289 130,-274.547 130,-265.569\" fill=\"none\" stroke=\"black\"/>\n",
       "<polygon fill=\"black\" points=\"133.5,-265.529 130,-255.529 126.5,-265.529 133.5,-265.529\" stroke=\"black\"/>\n",
       "</g>\n",
       "<!-- 140006037050424 -->\n",
       "<g class=\"node\" id=\"node13\"><title>140006037050424</title>\n",
       "<polygon fill=\"none\" points=\"0,-146.5 0,-182.5 260,-182.5 260,-146.5 0,-146.5\" stroke=\"black\"/>\n",
       "<text font-family=\"Times,serif\" font-size=\"14.00\" text-anchor=\"middle\" x=\"130\" y=\"-160.8\">batch_normalization_1: BatchNormalization</text>\n",
       "</g>\n",
       "<!-- 140006038080928&#45;&gt;140006037050424 -->\n",
       "<g class=\"edge\" id=\"edge13\"><title>140006038080928-&gt;140006037050424</title>\n",
       "<path d=\"M130,-219.313C130,-211.289 130,-201.547 130,-192.569\" fill=\"none\" stroke=\"black\"/>\n",
       "<polygon fill=\"black\" points=\"133.5,-192.529 130,-182.529 126.5,-192.529 133.5,-192.529\" stroke=\"black\"/>\n",
       "</g>\n",
       "<!-- 140006103132592 -->\n",
       "<g class=\"node\" id=\"node14\"><title>140006103132592</title>\n",
       "<polygon fill=\"none\" points=\"67.5,-73.5 67.5,-109.5 192.5,-109.5 192.5,-73.5 67.5,-73.5\" stroke=\"black\"/>\n",
       "<text font-family=\"Times,serif\" font-size=\"14.00\" text-anchor=\"middle\" x=\"130\" y=\"-87.8\">dropout_9: Dropout</text>\n",
       "</g>\n",
       "<!-- 140006037050424&#45;&gt;140006103132592 -->\n",
       "<g class=\"edge\" id=\"edge14\"><title>140006037050424-&gt;140006103132592</title>\n",
       "<path d=\"M130,-146.313C130,-138.289 130,-128.547 130,-119.569\" fill=\"none\" stroke=\"black\"/>\n",
       "<polygon fill=\"black\" points=\"133.5,-119.529 130,-109.529 126.5,-119.529 133.5,-119.529\" stroke=\"black\"/>\n",
       "</g>\n",
       "<!-- 140006037053336 -->\n",
       "<g class=\"node\" id=\"node15\"><title>140006037053336</title>\n",
       "<polygon fill=\"none\" points=\"79,-0.5 79,-36.5 181,-36.5 181,-0.5 79,-0.5\" stroke=\"black\"/>\n",
       "<text font-family=\"Times,serif\" font-size=\"14.00\" text-anchor=\"middle\" x=\"130\" y=\"-14.8\">dense_5: Dense</text>\n",
       "</g>\n",
       "<!-- 140006103132592&#45;&gt;140006037053336 -->\n",
       "<g class=\"edge\" id=\"edge15\"><title>140006103132592-&gt;140006037053336</title>\n",
       "<path d=\"M130,-73.3129C130,-65.2895 130,-55.5475 130,-46.5691\" fill=\"none\" stroke=\"black\"/>\n",
       "<polygon fill=\"black\" points=\"133.5,-46.5288 130,-36.5288 126.5,-46.5289 133.5,-46.5288\" stroke=\"black\"/>\n",
       "</g>\n",
       "<!-- 140006085337272 -->\n",
       "<g class=\"node\" id=\"node16\"><title>140006085337272</title>\n",
       "<polygon fill=\"none\" points=\"71,-1095.5 71,-1131.5 189,-1131.5 189,-1095.5 71,-1095.5\" stroke=\"black\"/>\n",
       "<text font-family=\"Times,serif\" font-size=\"14.00\" text-anchor=\"middle\" x=\"130\" y=\"-1109.8\">140006085337272</text>\n",
       "</g>\n",
       "<!-- 140006085337272&#45;&gt;140006085337160 -->\n",
       "<g class=\"edge\" id=\"edge1\"><title>140006085337272-&gt;140006085337160</title>\n",
       "<path d=\"M130,-1095.31C130,-1087.29 130,-1077.55 130,-1068.57\" fill=\"none\" stroke=\"black\"/>\n",
       "<polygon fill=\"black\" points=\"133.5,-1068.53 130,-1058.53 126.5,-1068.53 133.5,-1068.53\" stroke=\"black\"/>\n",
       "</g>\n",
       "</g>\n",
       "</svg>"
      ],
      "text/plain": [
       "<IPython.core.display.SVG object>"
      ]
     },
     "execution_count": 90,
     "metadata": {},
     "output_type": "execute_result"
    }
   ],
   "source": [
    "from IPython.display import SVG\n",
    "from keras.utils.vis_utils import model_to_dot\n",
    "\n",
    "SVG(model_to_dot(model2).create(prog='dot', format='svg'))"
   ]
  },
  {
   "cell_type": "code",
   "execution_count": 91,
   "metadata": {},
   "outputs": [
    {
     "data": {
      "image/svg+xml": [
       "<svg height=\"629pt\" viewBox=\"0.00 0.00 215.00 629.00\" width=\"215pt\" xmlns=\"http://www.w3.org/2000/svg\" xmlns:xlink=\"http://www.w3.org/1999/xlink\">\n",
       "<g class=\"graph\" id=\"graph0\" transform=\"scale(1 1) rotate(0) translate(4 625)\">\n",
       "<title>G</title>\n",
       "<polygon fill=\"white\" points=\"-4,4 -4,-625 211,-625 211,4 -4,4\" stroke=\"none\"/>\n",
       "<!-- 140006026583176 -->\n",
       "<g class=\"node\" id=\"node1\"><title>140006026583176</title>\n",
       "<polygon fill=\"none\" points=\"42,-511.5 42,-547.5 165,-547.5 165,-511.5 42,-511.5\" stroke=\"black\"/>\n",
       "<text font-family=\"Times,serif\" font-size=\"14.00\" text-anchor=\"middle\" x=\"103.5\" y=\"-525.8\">conv2d_1: Conv2D</text>\n",
       "</g>\n",
       "<!-- 140006026583064 -->\n",
       "<g class=\"node\" id=\"node2\"><title>140006026583064</title>\n",
       "<polygon fill=\"none\" points=\"42,-438.5 42,-474.5 165,-474.5 165,-438.5 42,-438.5\" stroke=\"black\"/>\n",
       "<text font-family=\"Times,serif\" font-size=\"14.00\" text-anchor=\"middle\" x=\"103.5\" y=\"-452.8\">conv2d_2: Conv2D</text>\n",
       "</g>\n",
       "<!-- 140006026583176&#45;&gt;140006026583064 -->\n",
       "<g class=\"edge\" id=\"edge2\"><title>140006026583176-&gt;140006026583064</title>\n",
       "<path d=\"M103.5,-511.313C103.5,-503.289 103.5,-493.547 103.5,-484.569\" fill=\"none\" stroke=\"black\"/>\n",
       "<polygon fill=\"black\" points=\"107,-484.529 103.5,-474.529 100,-484.529 107,-484.529\" stroke=\"black\"/>\n",
       "</g>\n",
       "<!-- 140006024463528 -->\n",
       "<g class=\"node\" id=\"node3\"><title>140006024463528</title>\n",
       "<polygon fill=\"none\" points=\"0,-365.5 0,-401.5 207,-401.5 207,-365.5 0,-365.5\" stroke=\"black\"/>\n",
       "<text font-family=\"Times,serif\" font-size=\"14.00\" text-anchor=\"middle\" x=\"103.5\" y=\"-379.8\">max_pooling2d_1: MaxPooling2D</text>\n",
       "</g>\n",
       "<!-- 140006026583064&#45;&gt;140006024463528 -->\n",
       "<g class=\"edge\" id=\"edge3\"><title>140006026583064-&gt;140006024463528</title>\n",
       "<path d=\"M103.5,-438.313C103.5,-430.289 103.5,-420.547 103.5,-411.569\" fill=\"none\" stroke=\"black\"/>\n",
       "<polygon fill=\"black\" points=\"107,-411.529 103.5,-401.529 100,-411.529 107,-411.529\" stroke=\"black\"/>\n",
       "</g>\n",
       "<!-- 140006024293512 -->\n",
       "<g class=\"node\" id=\"node4\"><title>140006024293512</title>\n",
       "<polygon fill=\"none\" points=\"41,-292.5 41,-328.5 166,-328.5 166,-292.5 41,-292.5\" stroke=\"black\"/>\n",
       "<text font-family=\"Times,serif\" font-size=\"14.00\" text-anchor=\"middle\" x=\"103.5\" y=\"-306.8\">dropout_1: Dropout</text>\n",
       "</g>\n",
       "<!-- 140006024463528&#45;&gt;140006024293512 -->\n",
       "<g class=\"edge\" id=\"edge4\"><title>140006024463528-&gt;140006024293512</title>\n",
       "<path d=\"M103.5,-365.313C103.5,-357.289 103.5,-347.547 103.5,-338.569\" fill=\"none\" stroke=\"black\"/>\n",
       "<polygon fill=\"black\" points=\"107,-338.529 103.5,-328.529 100,-338.529 107,-338.529\" stroke=\"black\"/>\n",
       "</g>\n",
       "<!-- 140006024466272 -->\n",
       "<g class=\"node\" id=\"node5\"><title>140006024466272</title>\n",
       "<polygon fill=\"none\" points=\"48.5,-219.5 48.5,-255.5 158.5,-255.5 158.5,-219.5 48.5,-219.5\" stroke=\"black\"/>\n",
       "<text font-family=\"Times,serif\" font-size=\"14.00\" text-anchor=\"middle\" x=\"103.5\" y=\"-233.8\">flatten_1: Flatten</text>\n",
       "</g>\n",
       "<!-- 140006024293512&#45;&gt;140006024466272 -->\n",
       "<g class=\"edge\" id=\"edge5\"><title>140006024293512-&gt;140006024466272</title>\n",
       "<path d=\"M103.5,-292.313C103.5,-284.289 103.5,-274.547 103.5,-265.569\" fill=\"none\" stroke=\"black\"/>\n",
       "<polygon fill=\"black\" points=\"107,-265.529 103.5,-255.529 100,-265.529 107,-265.529\" stroke=\"black\"/>\n",
       "</g>\n",
       "<!-- 140006024466104 -->\n",
       "<g class=\"node\" id=\"node6\"><title>140006024466104</title>\n",
       "<polygon fill=\"none\" points=\"52.5,-146.5 52.5,-182.5 154.5,-182.5 154.5,-146.5 52.5,-146.5\" stroke=\"black\"/>\n",
       "<text font-family=\"Times,serif\" font-size=\"14.00\" text-anchor=\"middle\" x=\"103.5\" y=\"-160.8\">dense_1: Dense</text>\n",
       "</g>\n",
       "<!-- 140006024466272&#45;&gt;140006024466104 -->\n",
       "<g class=\"edge\" id=\"edge6\"><title>140006024466272-&gt;140006024466104</title>\n",
       "<path d=\"M103.5,-219.313C103.5,-211.289 103.5,-201.547 103.5,-192.569\" fill=\"none\" stroke=\"black\"/>\n",
       "<polygon fill=\"black\" points=\"107,-192.529 103.5,-182.529 100,-192.529 107,-192.529\" stroke=\"black\"/>\n",
       "</g>\n",
       "<!-- 140007342042304 -->\n",
       "<g class=\"node\" id=\"node7\"><title>140007342042304</title>\n",
       "<polygon fill=\"none\" points=\"41,-73.5 41,-109.5 166,-109.5 166,-73.5 41,-73.5\" stroke=\"black\"/>\n",
       "<text font-family=\"Times,serif\" font-size=\"14.00\" text-anchor=\"middle\" x=\"103.5\" y=\"-87.8\">dropout_2: Dropout</text>\n",
       "</g>\n",
       "<!-- 140006024466104&#45;&gt;140007342042304 -->\n",
       "<g class=\"edge\" id=\"edge7\"><title>140006024466104-&gt;140007342042304</title>\n",
       "<path d=\"M103.5,-146.313C103.5,-138.289 103.5,-128.547 103.5,-119.569\" fill=\"none\" stroke=\"black\"/>\n",
       "<polygon fill=\"black\" points=\"107,-119.529 103.5,-109.529 100,-119.529 107,-119.529\" stroke=\"black\"/>\n",
       "</g>\n",
       "<!-- 140007341792504 -->\n",
       "<g class=\"node\" id=\"node8\"><title>140007341792504</title>\n",
       "<polygon fill=\"none\" points=\"52.5,-0.5 52.5,-36.5 154.5,-36.5 154.5,-0.5 52.5,-0.5\" stroke=\"black\"/>\n",
       "<text font-family=\"Times,serif\" font-size=\"14.00\" text-anchor=\"middle\" x=\"103.5\" y=\"-14.8\">dense_2: Dense</text>\n",
       "</g>\n",
       "<!-- 140007342042304&#45;&gt;140007341792504 -->\n",
       "<g class=\"edge\" id=\"edge8\"><title>140007342042304-&gt;140007341792504</title>\n",
       "<path d=\"M103.5,-73.3129C103.5,-65.2895 103.5,-55.5475 103.5,-46.5691\" fill=\"none\" stroke=\"black\"/>\n",
       "<polygon fill=\"black\" points=\"107,-46.5288 103.5,-36.5288 100,-46.5289 107,-46.5288\" stroke=\"black\"/>\n",
       "</g>\n",
       "<!-- 140006026582952 -->\n",
       "<g class=\"node\" id=\"node9\"><title>140006026582952</title>\n",
       "<polygon fill=\"none\" points=\"44.5,-584.5 44.5,-620.5 162.5,-620.5 162.5,-584.5 44.5,-584.5\" stroke=\"black\"/>\n",
       "<text font-family=\"Times,serif\" font-size=\"14.00\" text-anchor=\"middle\" x=\"103.5\" y=\"-598.8\">140006026582952</text>\n",
       "</g>\n",
       "<!-- 140006026582952&#45;&gt;140006026583176 -->\n",
       "<g class=\"edge\" id=\"edge1\"><title>140006026582952-&gt;140006026583176</title>\n",
       "<path d=\"M103.5,-584.313C103.5,-576.289 103.5,-566.547 103.5,-557.569\" fill=\"none\" stroke=\"black\"/>\n",
       "<polygon fill=\"black\" points=\"107,-557.529 103.5,-547.529 100,-557.529 107,-557.529\" stroke=\"black\"/>\n",
       "</g>\n",
       "</g>\n",
       "</svg>"
      ],
      "text/plain": [
       "<IPython.core.display.SVG object>"
      ]
     },
     "execution_count": 91,
     "metadata": {},
     "output_type": "execute_result"
    }
   ],
   "source": [
    "SVG(model_to_dot(model).create(prog='dot', format='svg'))"
   ]
  },
  {
   "cell_type": "code",
   "execution_count": null,
   "metadata": {},
   "outputs": [],
   "source": []
  }
 ],
 "metadata": {
  "kernelspec": {
   "display_name": "Python 3",
   "language": "python",
   "name": "python3"
  },
  "language_info": {
   "codemirror_mode": {
    "name": "ipython",
    "version": 3
   },
   "file_extension": ".py",
   "mimetype": "text/x-python",
   "name": "python",
   "nbconvert_exporter": "python",
   "pygments_lexer": "ipython3",
   "version": "3.6.4"
  }
 },
 "nbformat": 4,
 "nbformat_minor": 2
}
