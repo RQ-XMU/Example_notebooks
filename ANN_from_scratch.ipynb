{
 "cells": [
  {
   "cell_type": "markdown",
   "metadata": {},
   "source": [
    "## Building 3-layer neural network from numpy\n",
    "Let’s start by importing some libraires required for creating our neural network."
   ]
  },
  {
   "cell_type": "code",
   "execution_count": 6,
   "metadata": {},
   "outputs": [],
   "source": [
    "from __future__ import print_function\n",
    "import numpy as np ## Fr numerical python\n",
    "np.random.seed(42)"
   ]
  },
  {
   "cell_type": "markdown",
   "metadata": {},
   "source": [
    "Every layer will have a forward pass and backpass implementation. let's create a mian class layer which can do a forward pass .*forward()* and backward pass .*backward()*."
   ]
  },
  {
   "cell_type": "code",
   "execution_count": 8,
   "metadata": {},
   "outputs": [],
   "source": [
    "class Layer:\n",
    "    # A building block. Each layer is capable of performing two things:\n",
    "    # - process inpput to get output \n",
    "    # output = layer.forward(input)\n",
    "    \n",
    "    # - propagate gradients through itself:\n",
    "    # grad_input = layer.backward(input, gradoutput)\n",
    "    \n",
    "    # Some layers also have learnable parameters which they update \n",
    "    # during layer.backward.\n",
    "    \n",
    "    def __init__(self):\n",
    "        # here we can initialize layer parameters (if any) \n",
    "        # and auxiliary stuff\n",
    "        # A dummy layer does nothing\n",
    "        pass\n",
    "    \n",
    "    def forward(self, input_):\n",
    "        # Takes input data of shape [batch, input_units], \n",
    "        #return ouput data [batch, output_units]\n",
    "        \n",
    "        # A dummy layer just returns whatever it gets as input.\n",
    "        return input_\n",
    "    \n",
    "    def backward(self, input_, grad_output):\n",
    "        # Performs a backpropagation step through the layer, \n",
    "        # with respect to the given input.\n",
    "        # To compute loss gradients w.r.t input, we need to apply \n",
    "        # chain rule (backprop):\n",
    "        # d_loss/d_x = (d_loss/d_layer) * (d_layer/d_x)\n",
    "        # luckily, we already receive d_loss/d_layer as input, \n",
    "        # so you only need to multiply it by d_layere/d_x.\n",
    "        # If our layer has parameters (e.g. dense layer), \n",
    "        # we also need to update them here using d_loss/d_layer\n",
    "        # The gradient of dummy layer is precisely grad_output, \n",
    "        # but we'll write it more explicity\n",
    "        num_units = input_.shape[1]\n",
    "        d_layer_d_input = np.eye(num_units)\n",
    "        return np.dot(grad_output, d_layer_d_input) # chain rule "
   ]
  },
  {
   "cell_type": "markdown",
   "metadata": {},
   "source": [
    "## Active layer - with nonlinearity ReLU\n",
    "This is the simplest layer you can get: it simply applies a nonlinarity to each element of your network\n",
    "Definition:\n",
    "$$ReLU(x) = \\max(0,x)=\\begin{cases}0, & \\text{if}\\ x<0\\\\x, & \\text{if}\\ x \\geq 0\\end{cases}$$\n",
    "then:\n",
    "$$\\frac{\\partial}{\\partial x}ReLU(x) = \\begin{cases}0, & \\text{if}\\ x<0\\\\1, & \\text{if}\\ x > 0\\end{cases}$$"
   ]
  },
  {
   "cell_type": "code",
   "execution_count": 32,
   "metadata": {},
   "outputs": [
    {
     "data": {
      "image/png": "[encoded data removed]",
      "text/plain": [
       "<matplotlib.figure.Figure at 0x7fb21486e320>"
      ]
     },
     "metadata": {},
     "output_type": "display_data"
    }
   ],
   "source": [
    "def relu(x):\n",
    "    return np.maximum(0,x)\n",
    "# graph\n",
    "x_ = np.arange(-5,5,0.1)\n",
    "y_ = relu(x_)\n",
    "plt.scatter(x_, y_)\n",
    "plt.title(\"ReLU fuction\")\n",
    "plt.show()"
   ]
  },
  {
   "cell_type": "code",
   "execution_count": 9,
   "metadata": {},
   "outputs": [],
   "source": [
    "class ReLU(Layer):\n",
    "    \n",
    "    def __init__(self):\n",
    "        # ReLu layer simply applies elementwise rectified linear unit\n",
    "        # to all inputs.\n",
    "        # We do not update parameters through ReLU.backward\n",
    "        \n",
    "        pass\n",
    "    \n",
    "    def forward(self, input_):\n",
    "        # Apply elementwise ReLU to [batch, input_units] matrix\n",
    "        relu_forward = np.maximum(0, input_)\n",
    "        return relu_forward\n",
    "    \n",
    "    def backward(self, input_, grad_output):\n",
    "        # Compute gradient of loss w.r.t ReLU input\n",
    "        relu_grad = input_ > 0\n",
    "        return grad_output*relu_grad"
   ]
  },
  {
   "cell_type": "markdown",
   "metadata": {},
   "source": [
    "## Dense layer\n",
    "Now let's build somethign more complicate. Unlike nonlinearity, a dense layer actully has something to learn. <br>\n",
    "A dense layer applies affine transformation. in a vectorized form, it can be described as:\n",
    "$$f(\\mathbf{X}) = \\mathbf{W} . \\mathbf{X} + \\mathbf{b}$$\n",
    "Where:<br>\n",
    "- $\\mathbf{X}$ is an object-feature matrix of shape [batch_size, num_features], <br>\n",
    "- $\\mathbf{W}$ is a weight matrix [num_features, num_outputs]<br>\n",
    "- and $\\mathbf{b}$ is a vector of num_outputs biases.\n",
    "\n",
    "\n",
    "Both $\\mathbf{W}$ and $\\mathbf{b}$ are **initialized** *during layer creation* and **updated** each time *backward is called*. Note that we are using **Xavier initialization** which is a trick to train our model to converge faster. Instead of initializing our weights with small numbers which are distributed randomly, we initialize our weights with mean zero and variance of 2/(number of inputs + number of outputs)"
   ]
  },
  {
   "cell_type": "markdown",
   "metadata": {},
   "source": [
    "## Notes\n",
    "\n",
    "In case of multilayer perceptron with L layers\n",
    "\n",
    "$$ A_0 = X$$\n",
    "\n",
    "\n",
    "$$Z_1 = W_1.A_0 + B_1\\\\\n",
    "A_1 = g_1(Z_1)$$\n",
    "\n",
    "\n",
    "$$Z_2 = W_2.A_1 + B_2\\\\\n",
    "A_2 = g_2(Z_2)\\\\ ...$$\n",
    "\n",
    "$$Z_{L-1} = W_{L-1}.A_{L-2} + B_{L-1}\\\\\n",
    "A_{L-1} = g_{L-1}(Z_{L-1})$$\n",
    "\n",
    "\n",
    "$$Z_L = W_L.A{L_1} + B_L\\\\\n",
    "A_L = g_L(Z_L) = \\hat{Y}$$\n",
    "\n",
    "where at each layer $l,\\ l = 1,...,L$, there exists\n",
    "- $Z_l$: linear summator at $l$ layer\n",
    "- $A_l$: activator at $l$ layer\n",
    "- $B_l$: bias vector \n",
    "- $W_l$: weight matrix\n",
    "- $g_l$: activator function\n",
    "- input = $A_{l-1}$, output = $A_l$\n",
    "\n",
    "Then according to backpropagation:\n",
    "\n",
    "$$\\sigma = \\hat{Y} - Y = A_L - Y$$\n",
    "**grad_weights** = $\\displaystyle \\frac{\\partial \\sigma}{\\partial W_L} = \\frac{\\partial \\sigma}{\\partial A_L}\\frac{\\partial A_L}{\\partial Z_L}\\frac{\\partial Z_L}{\\partial W_L}$<br>\n",
    "**grad_output** = $\\displaystyle\\frac{\\partial \\sigma}{\\partial A_L}\\frac{\\partial A_L}{\\partial Z_L}$<br>\n",
    "**input** = $\\displaystyle\\frac{\\partial Z_L}{\\partial W_L} = A_{L-1}$<br>\n",
    "so: **grad_weights** = **grad_output** * **input**\n",
    "\n",
    "**grad_biases** = $\\displaystyle \\frac{\\partial \\sigma}{\\partial W_L} = \\frac{\\partial \\sigma}{\\partial A_L}\\frac{\\partial A_L}{\\partial Z_L}\\frac{\\partial Z_L}{\\partial B_L}$ = **grad_output** * $\\mathbb{1}$\n",
    "\n",
    "**grad_input** = $\\displaystyle\\frac{\\partial \\sigma}{\\partial A_{L-1}} = \\frac{\\partial \\sigma}{\\partial A_L}\\frac{\\partial A_L}{\\partial Z_L}\\frac{\\partial Z_L}{\\partial A_{L-1}}$ = **grad_output** * $\\displaystyle\\frac{\\partial Z_L}{\\partial A_{L-1}}$ = **grad_output** * $\\displaystyle W_L$"
   ]
  },
  {
   "cell_type": "code",
   "execution_count": 10,
   "metadata": {},
   "outputs": [],
   "source": [
    "class Dense(Layer):\n",
    "    \n",
    "    def __init__(self, input_units, output_units, learning_rate=0.1):\n",
    "        # A dense layer is a layer which performs a learned affine \n",
    "        # transformation:\n",
    "        # f(X) = W*X + b\n",
    "        \n",
    "        self.learning_rate = learning_rate\n",
    "        self.weights = np.random.normal(\n",
    "            loc=0.0, \n",
    "            scale=np.sqrt(2/(input_units+output_units)),\n",
    "            size=(input_units, output_units)\n",
    "        )\n",
    "        self.biases = np.zeros(output_units)\n",
    "    \n",
    "    def forward(self, input_):\n",
    "        # perform an affine transformation:\n",
    "        # f(X) = W*X + b\n",
    "        \n",
    "        # input shape: [batch, input_units]\n",
    "        # output shape: [batch, output_units]\n",
    "        \n",
    "        return np.dot(input_, self.weights) + self.biases\n",
    "    \n",
    "    def backward(self, input_, grad_output):\n",
    "        # compute d_f/d_x = d_f/d_dense * d_dense/d_x\n",
    "        # where d_dense/d_x = weights transposed\n",
    "        # and d_f/d_dense = grad_output\n",
    "        \n",
    "        grad_input = np.dot(grad_output, self.weights.T)\n",
    "        \n",
    "        # compute gradient w.r.t. weights and bias (things to update)\n",
    "        grad_weights = np.dot(input_.T, grad_output)\n",
    "        grad_biases = grad_output.mean(axis=0)*input_.shape[0]\n",
    "        \n",
    "        assert grad_weights.shape == self.weights.shape\\\n",
    "               and grad_biases.shape == self.biases.shape\n",
    "        \n",
    "        # Here we perform a schochastic gradient descent step.\n",
    "        self.weights = self.weights - self.learning_rate * grad_weights\n",
    "        self.biases = self.biases - self.learning_rate * grad_biases\n",
    "        \n",
    "        return grad_input     "
   ]
  },
  {
   "cell_type": "markdown",
   "metadata": {},
   "source": [
    "## The loss function\n",
    "Since we want to predict probabilities, it would be logical for us to define softmax nonlinearity on top of our network and compute loss given predicted probabilities. However, there is a better way to do so.\n",
    "\n",
    "If we write down the expression for crossentropy as a function of softmax logits(a), you'll see:\n",
    "$$loss = -\\log\\frac{e^{\\alpha_{\\text{correct}}}}{\\sum_i{e^{\\alpha_i}}}$$\n",
    "If we take a closer look, we'll see that it can be written as:\n",
    "$$loss = -\\alpha_{\\text{correct}}+\\log\\sum_i{e^{\\alpha_i}}$$\n",
    "It's called Log-softmax and it's better than naive log(softmax(a)) in all aspects:\n",
    "\n",
    "- Better numerical stability\n",
    "- Easier to get derivative rigt\n",
    "- Marginally faster to compute\n",
    "\n",
    "So why not just use log-softmax throughout our computation and never actually bother to estimate probabilities."
   ]
  },
  {
   "cell_type": "code",
   "execution_count": 11,
   "metadata": {},
   "outputs": [],
   "source": [
    "def softmax_crossentropy_with_logits(logits, reference_answers):\n",
    "    # compute crossentropy from logits, sized [batch, n_classes] \n",
    "    # and ids of correct answers\n",
    "    \n",
    "    logits_for_answers = \\\n",
    "            logits[np.arange(len(logits)), reference_answers]\n",
    "    \n",
    "    xentropy = - logits_for_answers + \\\n",
    "                 np.log(np.sum(np.exp(logits), axis=-1))\n",
    "    \n",
    "    return xentropy"
   ]
  },
  {
   "cell_type": "markdown",
   "metadata": {},
   "source": [
    "$$\\frac{\\partial loss}{\\partial\\alpha_{\\text{correct}}} = -\\mathbb{1} + \\frac{\\partial}{\\partial\\alpha_{\\text{correct}}}\\log\\sum_i{e^{\\alpha_i}} = -\\mathbb{1}+\\frac{e^{\\alpha_{\\text{correct}}}}{\\sum_i{e^{\\alpha_i}}} = -\\mathbb{1} + softmax(\\boldsymbol{\\alpha})$$"
   ]
  },
  {
   "cell_type": "code",
   "execution_count": 12,
   "metadata": {},
   "outputs": [],
   "source": [
    "def grad_softmax_crossentropy_with_logits(logits, reference_answers):\n",
    "    # compute crossentropy gradient from logits[batch, n_classes]\n",
    "    # and ids of correct answers\n",
    "    \n",
    "    ones_for_answers = np.zeros_like(logits)\n",
    "    ones_for_answers[np.arange(len(logits)), reference_answers] = 1\n",
    "    \n",
    "    softmax = np.exp(logits) / np.exp(logits).sum(axis=-1, \n",
    "                                                  keepdims=True)\n",
    "    return (-ones_for_answers + softmax) / logits.shape[0]"
   ]
  },
  {
   "cell_type": "markdown",
   "metadata": {},
   "source": [
    "## Full network\n",
    "Now let's combine what we've just built into a working neural network. As I have told earlier, we are going to use MNIST data of handwritten digit for our example. Fortunately, Keras have it in the Numpy array format, so let's import it!"
   ]
  },
  {
   "cell_type": "code",
   "execution_count": 13,
   "metadata": {},
   "outputs": [
    {
     "name": "stderr",
     "output_type": "stream",
     "text": [
      "/home/hung/anaconda3/lib/python3.6/site-packages/h5py/__init__.py:36: FutureWarning: Conversion of the second argument of issubdtype from `float` to `np.floating` is deprecated. In future, it will be treated as `np.float64 == np.dtype(float).type`.\n",
      "  from ._conv import register_converters as _register_converters\n",
      "Using TensorFlow backend.\n"
     ]
    }
   ],
   "source": [
    "import keras\n",
    "# keras is only used for loading data\n",
    "import matplotlib.pyplot as plt\n",
    "%matplotlib inline\n",
    "\n",
    "def load_dataset(flatten=False):\n",
    "        \n",
    "    # loading\n",
    "    (X_train, y_train), (X_test, y_test) = \\\n",
    "        keras.datasets.mnist.load_data()\n",
    "    \n",
    "    # each matrix of X is a array 28 x 28, each matrix element is\n",
    "    # a numbeer in [1...255], indicating bright intensity\n",
    "    # 0 = black, 255 = white, others = gray\n",
    "    \n",
    "    # each element of y is a class in [0...9]\n",
    "    \n",
    "    \n",
    "    # normalising\n",
    "    X_train = X_train.astype(float)/255.\n",
    "    X_test = X_test.astype(float)/255.\n",
    "    \n",
    "    # we reserve the last 10.000 training examples for validation\n",
    "    X_train, X_val = X_train[:-10000], X_train[-10000:]\n",
    "    y_train, y_val = y_train[:-10000], y_train[-10000:]\n",
    "    \n",
    "    if flatten:\n",
    "        # transform size batch x 28 x 28 to batch x 724\n",
    "        X_train = X_train.reshape([X_train.shape[0], -1])\n",
    "        X_test = X_test.reshape([X_test.shape[0], -1])\n",
    "        X_val = X_val.reshape([X_val.shape[0], -1])\n",
    "    \n",
    "    return X_train, y_train, X_val, y_val, X_test, y_test \n",
    "        "
   ]
  },
  {
   "cell_type": "code",
   "execution_count": 14,
   "metadata": {},
   "outputs": [
    {
     "data": {
      "image/png": "[encoded data removed]",
      "text/plain": [
       "<matplotlib.figure.Figure at 0x7fb2377d3128>"
      ]
     },
     "metadata": {},
     "output_type": "display_data"
    }
   ],
   "source": [
    "# load data (need to dowload )\n",
    "X_train, y_train, X_val, y_val, X_test, y_test = \\\n",
    "    load_dataset(flatten=True)\n",
    "# Look at some examples\n",
    "plt.figure(figsize=[6,6])\n",
    "for i in range(4):\n",
    "    plt.subplot(2,2,i+1)\n",
    "    plt.title(\"Label: %i\"%y_train[i])\n",
    "    plt.imshow(X_train[i].reshape([28,28]), cmap='gray')"
   ]
  },
  {
   "cell_type": "markdown",
   "metadata": {},
   "source": [
    "We'll define network as a list of laysers, each applied on top of previous one. In this setting, computing predictions and training becomes trivial."
   ]
  },
  {
   "cell_type": "code",
   "execution_count": 15,
   "metadata": {},
   "outputs": [],
   "source": [
    "# net work with ReLU as active function\n",
    "\n",
    "network = []\n",
    "# fisrt hidden layer, dense, 724 inputs, 100 units, 100 outputs\n",
    "# no active function\n",
    "network.append(Dense(X_train.shape[1], 100))\n",
    "# active layer\n",
    "network.append(ReLU())\n",
    "# second hidden layer, 100 inputs, 200 units, 200 outputs\n",
    "network.append(Dense(100, 200))\n",
    "# active layer\n",
    "network.append(ReLU())\n",
    "# output layer, 200 inputs, 10 units, 10 outputs\n",
    "network.append(Dense(200, 10))"
   ]
  },
  {
   "cell_type": "code",
   "execution_count": 16,
   "metadata": {},
   "outputs": [
    {
     "data": {
      "text/plain": [
       "[<__main__.Dense at 0x7fb2377c6eb8>,\n",
       " <__main__.ReLU at 0x7fb2377c6f28>,\n",
       " <__main__.Dense at 0x7fb2377c6ef0>,\n",
       " <__main__.ReLU at 0x7fb2377c6e10>,\n",
       " <__main__.Dense at 0x7fb2377c64a8>]"
      ]
     },
     "execution_count": 16,
     "metadata": {},
     "output_type": "execute_result"
    }
   ],
   "source": [
    "network"
   ]
  },
  {
   "cell_type": "code",
   "execution_count": 17,
   "metadata": {},
   "outputs": [],
   "source": [
    "def forward(network, X):\n",
    "    # compute activations for all network layers \n",
    "    # by applying them sequentially.\n",
    "    # X: beginning in put\n",
    "    # Return a list of activations for each layers.\n",
    "        \n",
    "    activations = []\n",
    "    input_ = X\n",
    "    \n",
    "    # looping through each layer\n",
    "    for layer in network:\n",
    "        activations.append(layer.forward(input_))\n",
    "        # updating input to last layer output\n",
    "        input_ = activations[-1]\n",
    "        \n",
    "    assert len(activations) == len(network)\n",
    "    \n",
    "    return activations\n",
    "\n",
    "def predict(network, X):\n",
    "    # compute network predicstions.\n",
    "    # X: beginning in put\n",
    "    # Return indices of largest logit probability\n",
    "    \n",
    "    logits = forward(network, X)[-1]\n",
    "    return logits.argmax(axis=-1)\n",
    "\n",
    "def train(network, X, y):\n",
    "    # Train our network on a given batch of X and y.\n",
    "    # We first need to run forward to get all layer activations\n",
    "    # Then we can run layer.backward going from last to first layer.\n",
    "    # After we have called backward for all layers, all Dense layers \n",
    "    # have already made one gradient step\n",
    "    \n",
    "    # Get the layer activations\n",
    "    layer_activations = forward(network, X)\n",
    "    \n",
    "    # layer_input[i] is an input for network[i]\n",
    "    layer_inputs = [X] + layer_activations\n",
    "    \n",
    "    logits = layer_activations[-1]\n",
    "    \n",
    "    # compute the loss and the initial gradient\n",
    "    loss = softmax_crossentropy_with_logits(logits, y)\n",
    "    loss_grad = grad_softmax_crossentropy_with_logits(logits, y)\n",
    "    \n",
    "    # propagate gradients through the network\n",
    "    # reverse propagation as this is backprop\n",
    "    for layer_index in range(len(network))[::-1]:\n",
    "        layer = network[layer_index]\n",
    "        \n",
    "        # grad w.r.t. input, also weight updates\n",
    "        loss_grad = layer.backward(layer_inputs[layer_index], loss_grad)\n",
    "        \n",
    "    return np.mean(loss)\n"
   ]
  },
  {
   "cell_type": "markdown",
   "metadata": {},
   "source": [
    "## Training loop\n",
    "\n",
    "We split data into binibatches, feed each such minibatch into the network and update weights. This training is called mini-batch stochastic gradient descent."
   ]
  },
  {
   "cell_type": "code",
   "execution_count": 18,
   "metadata": {},
   "outputs": [],
   "source": [
    "from tqdm import trange\n",
    "\n",
    "def iterate_minibatches(inputs, targets, batchsize, shuffle=False):\n",
    "    assert len(inputs) == len(targets)\n",
    "    if shuffle:\n",
    "        indices = np.random.permutation(len(inputs))\n",
    "    for start_idx in trange(0, len(inputs)-batchsize+1, batchsize):\n",
    "        if shuffle:\n",
    "            excerpt = indices[start_idx:start_idx+batchsize]\n",
    "        else:\n",
    "            excerpt = slice(start_idx, start_idx+batchsize)\n",
    "        yield inputs[excerpt], targets[excerpt]"
   ]
  },
  {
   "cell_type": "code",
   "execution_count": 19,
   "metadata": {},
   "outputs": [
    {
     "name": "stdout",
     "output_type": "stream",
     "text": [
      "Epoch 4\n",
      "Train accuracy 0.9893\n",
      "Validation accuracy 0.9766\n"
     ]
    },
    {
     "data": {
      "image/png": "[encoded data removed]",
      "text/plain": [
       "<matplotlib.figure.Figure at 0x7fb2345a0710>"
      ]
     },
     "metadata": {},
     "output_type": "display_data"
    }
   ],
   "source": [
    "# Remember to reset network before launching this cell\n",
    "from IPython.display import clear_output\n",
    "train_log = []\n",
    "val_log = []\n",
    "\n",
    "for epoch in range(5):\n",
    "    for x_batch, y_batch in \\\n",
    "        iterate_minibatches(\n",
    "            inputs=X_train, \n",
    "            targets=y_train,\n",
    "            batchsize=32,\n",
    "            shuffle=True\n",
    "        ):\n",
    "        train(network, x_batch, y_batch)\n",
    "        \n",
    "    train_log.append(np.mean(predict(network, X_train)==y_train))\n",
    "    val_log.append(np.mean(predict(network, X_val)==y_val))\n",
    "        \n",
    "    clear_output()\n",
    "    print(\"Epoch\", epoch)\n",
    "    print(\"Train accuracy\", train_log[-1])\n",
    "    print(\"Validation accuracy\", val_log[-1])\n",
    "    \n",
    "    plt.plot(train_log, label='train accuracy')\n",
    "    plt.plot(val_log, label='validation accuracy')\n",
    "    plt.legend(loc='best')\n",
    "    plt.grid()\n",
    "    plt.show()"
   ]
  },
  {
   "cell_type": "markdown",
   "metadata": {},
   "source": [
    "As we can see we have successfully train a MLP which was purely written in Numpy with high validation accuracy."
   ]
  },
  {
   "cell_type": "code",
   "execution_count": 88,
   "metadata": {},
   "outputs": [
    {
     "data": {
      "text/plain": [
       "0.9837"
      ]
     },
     "execution_count": 88,
     "metadata": {},
     "output_type": "execute_result"
    }
   ],
   "source": [
    "# test accuracy\n",
    "np.mean(predict(network, X_test)==y_test)\n",
    "# on 35 epoches is 0.9837"
   ]
  },
  {
   "cell_type": "code",
   "execution_count": 80,
   "metadata": {},
   "outputs": [
    {
     "name": "stdout",
     "output_type": "stream",
     "text": [
      "Prediction: 8 \n",
      "Sample:\n"
     ]
    },
    {
     "data": {
      "image/png": "[encoded data removed]",
      "text/plain": [
       "<matplotlib.figure.Figure at 0x7fc6583c0518>"
      ]
     },
     "metadata": {},
     "output_type": "display_data"
    }
   ],
   "source": [
    "# Test model\n",
    "xtest = X_test[-100].reshape([1,784])\n",
    "plt.imshow(xtest[0].reshape([28,28]), cmap='gray')\n",
    "print(\"Prediction:\", predict(network, xtest)[0], \"\\nSample:\")"
   ]
  },
  {
   "cell_type": "code",
   "execution_count": 81,
   "metadata": {},
   "outputs": [
    {
     "name": "stdout",
     "output_type": "stream",
     "text": [
      "[8, 247, 321, 340, 445, 449, 495, 582, 684, 720, 740, 877, 900, 947, 951, 1014, 1039, 1044, 1112, 1178, 1181, 1194, 1224, 1226, 1247, 1319, 1328, 1393, 1395, 1414, 1494, 1500, 1530, 1671, 1681, 1717, 1790, 1850, 1878, 1901, 1952, 1984, 1987, 2018, 2035, 2053, 2070, 2098, 2109, 2118, 2130, 2135, 2272, 2293, 2387, 2414, 2447, 2488, 2607, 2648, 2654, 2810, 2877, 2896, 2915, 2921, 2939, 2995, 3073, 3117, 3225, 3251, 3422, 3441, 3474, 3490, 3503, 3520, 3549, 3558, 3681, 3776, 3796, 3808, 3893, 3906, 3941, 4065, 4078, 4123, 4140, 4163, 4176, 4199, 4201, 4248, 4300, 4344, 4425, 4497, 4536, 4551, 4567, 4601, 4671, 4731, 4740, 4751, 4807, 4823, 4860, 4876, 4880, 4966, 5046, 5457, 5600, 5642, 5676, 5734, 5936, 5937, 5955, 5972, 5973, 5997, 6023, 6059, 6166, 6555, 6559, 6560, 6574, 6597, 6625, 6755, 6783, 6926, 7216, 7434, 8062, 8094, 8246, 8255, 8273, 8311, 8325, 8339, 8527, 9009, 9015, 9024, 9587, 9634, 9664, 9669, 9679, 9729, 9745, 9749, 9755, 9768, 9770, 9839, 9858, 9944]\n"
     ]
    }
   ],
   "source": [
    "# fail in test\n",
    "indices = []\n",
    "for i in range(0,len(X_test)):\n",
    "    xtest = X_test[i].reshape([1,784])\n",
    "    label = y_test[i]\n",
    "    pred = predict(network, xtest)[0]\n",
    "    if  pred != label:\n",
    "        indices.append(i)\n",
    "print(indices)\n",
    "#         plt.imshow(xtest[0].reshape([28,28]), cmap='gray')\n",
    "#         print(\"Index:\",i,\"\\nLabel:\", label, \"\\nPrediction:\", pred, \"\\nSample:\")\n",
    "#         break"
   ]
  },
  {
   "cell_type": "code",
   "execution_count": 82,
   "metadata": {},
   "outputs": [
    {
     "data": {
      "text/plain": [
       "166"
      ]
     },
     "execution_count": 82,
     "metadata": {},
     "output_type": "execute_result"
    }
   ],
   "source": [
    "len(indices) "
   ]
  },
  {
   "cell_type": "code",
   "execution_count": 83,
   "metadata": {},
   "outputs": [
    {
     "data": {
      "text/plain": [
       "10000"
      ]
     },
     "execution_count": 83,
     "metadata": {},
     "output_type": "execute_result"
    }
   ],
   "source": [
    "len(X_test)"
   ]
  },
  {
   "cell_type": "code",
   "execution_count": 84,
   "metadata": {},
   "outputs": [
    {
     "data": {
      "text/plain": [
       "0.9834"
      ]
     },
     "execution_count": 84,
     "metadata": {},
     "output_type": "execute_result"
    }
   ],
   "source": [
    "(len(X_test)-len(indices))/float(len(X_test)) # 30 epoches is 0.9834"
   ]
  },
  {
   "cell_type": "code",
   "execution_count": 85,
   "metadata": {},
   "outputs": [
    {
     "data": {
      "text/plain": [
       "(50000, 784)"
      ]
     },
     "execution_count": 85,
     "metadata": {},
     "output_type": "execute_result"
    }
   ],
   "source": [
    "X_train.shape"
   ]
  },
  {
   "cell_type": "code",
   "execution_count": 86,
   "metadata": {},
   "outputs": [
    {
     "data": {
      "text/plain": [
       "(10000, 784)"
      ]
     },
     "execution_count": 86,
     "metadata": {},
     "output_type": "execute_result"
    }
   ],
   "source": [
    "X_val.shape"
   ]
  },
  {
   "cell_type": "markdown",
   "metadata": {},
   "source": [
    "## Active layer with sigmoid function\n",
    "\n",
    "Sigmoid fuction:\n",
    "$$\\sigma(x)=\\frac{e^x}{e^x+1}=\\frac{1}{1+e^{-x}}$$\n",
    "$$\\frac{\\partial}{\\partial x}\\sigma(x) = \\frac{e^{-x}}{(1+e^{-x})^2}=\\frac{(1+e^{-x})-1}{(1+e^{-x})^2}=\\frac{1}{1+e^{-x}}-\\frac{1}{(1+e^{-x})^2} = \\sigma(x)[1-\\sigma(x)]$$"
   ]
  },
  {
   "cell_type": "code",
   "execution_count": 33,
   "metadata": {},
   "outputs": [
    {
     "data": {
      "image/png": "[encoded data removed]",
      "text/plain": [
       "<matplotlib.figure.Figure at 0x7fb20c72f9e8>"
      ]
     },
     "metadata": {},
     "output_type": "display_data"
    }
   ],
   "source": [
    "def sigmoid(x):\n",
    "    return 1/(1+np.exp(-x))\n",
    "# graph\n",
    "x_ = np.arange(-5,5,0.1)\n",
    "y_ = sigmoid(x_)\n",
    "plt.scatter(x_, y_)\n",
    "plt.title(\"Sigmoid fuction\")\n",
    "plt.show()"
   ]
  },
  {
   "cell_type": "code",
   "execution_count": 41,
   "metadata": {},
   "outputs": [
    {
     "data": {
      "image/png": "[encoded data removed]",
      "text/plain": [
       "<matplotlib.figure.Figure at 0x7fb20c571470>"
      ]
     },
     "metadata": {},
     "output_type": "display_data"
    }
   ],
   "source": [
    "ds_ = sigmoid(x_)*(1-sigmoid(x_))\n",
    "plt.scatter(x_, ds_)\n",
    "plt.title(\"Derivative of sigmoid fuction\")\n",
    "plt.show()"
   ]
  },
  {
   "cell_type": "code",
   "execution_count": 21,
   "metadata": {},
   "outputs": [],
   "source": [
    "class Sigmoid(Layer):\n",
    "    \n",
    "    def __init__(self):\n",
    "        # Sigmoid layer applies sigmoid function to each input\n",
    "        # We do not update parameters through Sigmoid.backward\n",
    "        pass\n",
    "    \n",
    "    def forward(self, input_):\n",
    "        # Apply sigmoid function to [batch, input_units] matrix\n",
    "        sigmoid_forward = sigmoid(input_)\n",
    "        return sigmoid_forward\n",
    "    \n",
    "    def backward(self, input_, grad_output):\n",
    "        # Compute gradient of loss w.r.t sigmoid input\n",
    "        sigmoid_ = sigmoid(input_)\n",
    "        sigmoid_grad = sigmoid_ * (1-sigmoid_)\n",
    "        return grad_output*sigmoid_grad"
   ]
  },
  {
   "cell_type": "code",
   "execution_count": 22,
   "metadata": {},
   "outputs": [],
   "source": [
    "# net work with sigmoid as active function\n",
    "\n",
    "# Input --> [Dense()+Sigmoid(), 100 units] --> [Dense()+Sigmoid(), 200 units] --> [Dense(), 10 units] --> Softmax()\n",
    "\n",
    "network = []\n",
    "# fisrt hidden layer, dense, 724 inputs, 100 units, 100 outputs\n",
    "# no active function\n",
    "network.append(Dense(X_train.shape[1], 100))\n",
    "# active layer\n",
    "network.append(Sigmoid())\n",
    "# second hidden layer, 100 inputs, 200 units, 200 outputs\n",
    "network.append(Dense(100, 200))\n",
    "# active layer\n",
    "network.append(Sigmoid())\n",
    "# output layer, 200 inputs, 10 units, 10 outputs\n",
    "network.append(Dense(200, 10))"
   ]
  },
  {
   "cell_type": "code",
   "execution_count": 23,
   "metadata": {},
   "outputs": [
    {
     "data": {
      "text/plain": [
       "[<__main__.Dense at 0x7fb2344c07f0>,\n",
       " <__main__.Sigmoid at 0x7fb2344b2128>,\n",
       " <__main__.Dense at 0x7fb2344c7e80>,\n",
       " <__main__.Sigmoid at 0x7fb2344c0860>,\n",
       " <__main__.Dense at 0x7fb2344c7dd8>]"
      ]
     },
     "execution_count": 23,
     "metadata": {},
     "output_type": "execute_result"
    }
   ],
   "source": [
    "network"
   ]
  },
  {
   "cell_type": "code",
   "execution_count": 24,
   "metadata": {},
   "outputs": [
    {
     "name": "stdout",
     "output_type": "stream",
     "text": [
      "Epoch 4\n",
      "Train accuracy 0.94272\n",
      "Validation accuracy 0.9457\n"
     ]
    },
    {
     "data": {
      "image/png": "[encoded data removed]",
      "text/plain": [
       "<matplotlib.figure.Figure at 0x7fb23445b198>"
      ]
     },
     "metadata": {},
     "output_type": "display_data"
    }
   ],
   "source": [
    "# training\n",
    "# Remember to reset network before launching this cell\n",
    "\n",
    "from IPython.display import clear_output\n",
    "train_log = []\n",
    "val_log = []\n",
    "\n",
    "for epoch in range(5):\n",
    "    for x_batch, y_batch in \\\n",
    "        iterate_minibatches(\n",
    "            inputs=X_train, \n",
    "            targets=y_train,\n",
    "            batchsize=32,\n",
    "            shuffle=True\n",
    "        ):\n",
    "        train(network, x_batch, y_batch)\n",
    "        \n",
    "    train_log.append(np.mean(predict(network, X_train)==y_train))\n",
    "    val_log.append(np.mean(predict(network, X_val)==y_val))\n",
    "        \n",
    "    clear_output()\n",
    "    print(\"Epoch\", epoch)\n",
    "    print(\"Train accuracy\", train_log[-1])\n",
    "    print(\"Validation accuracy\", val_log[-1])\n",
    "    \n",
    "    plt.plot(train_log, label='train accuracy')\n",
    "    plt.plot(val_log, label='validation accuracy')\n",
    "    plt.legend(loc='best')\n",
    "    plt.grid()\n",
    "    plt.show()"
   ]
  },
  {
   "cell_type": "code",
   "execution_count": 25,
   "metadata": {},
   "outputs": [
    {
     "name": "stdout",
     "output_type": "stream",
     "text": [
      "Prediction: 8 \n",
      "Sample:\n"
     ]
    },
    {
     "data": {
      "image/png": "[encoded data removed]",
      "text/plain": [
       "<matplotlib.figure.Figure at 0x7fb2344c7ac8>"
      ]
     },
     "metadata": {},
     "output_type": "display_data"
    }
   ],
   "source": [
    "# Test model\n",
    "xtest = X_test[-100].reshape([1,784])\n",
    "plt.imshow(xtest[0].reshape([28,28]), cmap='gray')\n",
    "print(\"Prediction:\", predict(network, xtest)[0], \"\\nSample:\")"
   ]
  },
  {
   "cell_type": "markdown",
   "metadata": {},
   "source": [
    "## Active layer with tanh function\n",
    "Definition:\n",
    "$$\\tanh(x)=\\frac{e^x-e^{-x}}{e^x+e^{-x}}$$\n",
    "$$\\frac{\\partial}{\\partial x}\\tanh(x)=1-\\tanh^2(x)$$"
   ]
  },
  {
   "cell_type": "code",
   "execution_count": 37,
   "metadata": {},
   "outputs": [
    {
     "data": {
      "image/png": "[encoded data removed]",
      "text/plain": [
       "<matplotlib.figure.Figure at 0x7fb20c1d3be0>"
      ]
     },
     "metadata": {},
     "output_type": "display_data"
    }
   ],
   "source": [
    "# graph\n",
    "x_ = np.arange(-5,5,0.1)\n",
    "y_ = np.tanh(x_)\n",
    "plt.scatter(x_, y_)\n",
    "plt.title(\"Tanh fuction\")\n",
    "plt.show()"
   ]
  },
  {
   "cell_type": "code",
   "execution_count": 39,
   "metadata": {},
   "outputs": [
    {
     "data": {
      "image/png": "[encoded data removed]",
      "text/plain": [
       "<matplotlib.figure.Figure at 0x7fb2148d7160>"
      ]
     },
     "metadata": {},
     "output_type": "display_data"
    }
   ],
   "source": [
    "dy_ = 1-np.tanh(x_)**2\n",
    "plt.scatter(x_, dy_)\n",
    "plt.title(\"Derivative of tanh fuction\")\n",
    "plt.show()"
   ]
  },
  {
   "cell_type": "code",
   "execution_count": 42,
   "metadata": {},
   "outputs": [],
   "source": [
    "class Tanh(Layer):\n",
    "    \n",
    "    def __init__(self):\n",
    "        # Tanh layer applies tanh function to each input\n",
    "        # We do not update parameters through Tanh.backward\n",
    "        pass\n",
    "    \n",
    "    def forward(self, input_):\n",
    "        # Apply tanh function to [batch, input_units] matrix\n",
    "        return np.tanh(input_)\n",
    "    \n",
    "    def backward(self, input_, grad_output):\n",
    "        # Compute gradient of loss w.r.t tanh input\n",
    "        tanh_grad = 1 - np.tanh(input_)**2\n",
    "        return grad_output*tanh_grad"
   ]
  },
  {
   "cell_type": "code",
   "execution_count": 49,
   "metadata": {},
   "outputs": [],
   "source": [
    "# net work with sigmoid, tanh as active functions\n",
    "\n",
    "# Input --> [Dense()+Tanh(), 100 units] --> [Dense()+Sigmoid(), 200 units] --> [Dense(), 10 units] --> Softmax()\n",
    "\n",
    "network = []\n",
    "# fisrt hidden layer, dense, 724 inputs, 100 units, 100 outputs\n",
    "# no active function\n",
    "network.append(Dense(X_train.shape[1], 100))\n",
    "# active layer\n",
    "network.append(Tanh())\n",
    "# second hidden layer, 100 inputs, 200 units, 200 outputs\n",
    "network.append(Dense(100, 200))\n",
    "# active layer\n",
    "network.append(Sigmoid())\n",
    "# output layer, 200 inputs, 10 units, 10 outputs\n",
    "network.append(Dense(200, 10))"
   ]
  },
  {
   "cell_type": "code",
   "execution_count": 44,
   "metadata": {},
   "outputs": [
    {
     "data": {
      "text/plain": [
       "[<__main__.Dense at 0x7fb207a21898>,\n",
       " <__main__.Tanh at 0x7fb2346a4390>,\n",
       " <__main__.Dense at 0x7fb2346a44a8>,\n",
       " <__main__.Sigmoid at 0x7fb2346a4518>,\n",
       " <__main__.Dense at 0x7fb2346a4550>]"
      ]
     },
     "execution_count": 44,
     "metadata": {},
     "output_type": "execute_result"
    }
   ],
   "source": [
    "network"
   ]
  },
  {
   "cell_type": "code",
   "execution_count": 50,
   "metadata": {},
   "outputs": [
    {
     "name": "stdout",
     "output_type": "stream",
     "text": [
      "Epoch 4\n",
      "Train accuracy 0.97306\n",
      "Validation accuracy 0.9684\n"
     ]
    },
    {
     "data": {
      "image/png": "[encoded data removed]",
      "text/plain": [
       "<matplotlib.figure.Figure at 0x7fb2078a76a0>"
      ]
     },
     "metadata": {},
     "output_type": "display_data"
    }
   ],
   "source": [
    "# training\n",
    "# Remember to reset network before launching this cell\n",
    "\n",
    "from IPython.display import clear_output\n",
    "train_log = []\n",
    "val_log = []\n",
    "\n",
    "for epoch in range(5):\n",
    "    for x_batch, y_batch in \\\n",
    "        iterate_minibatches(\n",
    "            inputs=X_train, \n",
    "            targets=y_train,\n",
    "            batchsize=32,\n",
    "            shuffle=True\n",
    "        ):\n",
    "        train(network, x_batch, y_batch)\n",
    "        \n",
    "    train_log.append(np.mean(predict(network, X_train)==y_train))\n",
    "    val_log.append(np.mean(predict(network, X_val)==y_val))\n",
    "        \n",
    "    clear_output()\n",
    "    print(\"Epoch\", epoch)\n",
    "    print(\"Train accuracy\", train_log[-1])\n",
    "    print(\"Validation accuracy\", val_log[-1])\n",
    "    \n",
    "    plt.plot(train_log, label='train accuracy')\n",
    "    plt.plot(val_log, label='validation accuracy')\n",
    "    plt.legend(loc='best')\n",
    "    plt.grid()\n",
    "    plt.show()"
   ]
  },
  {
   "cell_type": "code",
   "execution_count": 55,
   "metadata": {},
   "outputs": [
    {
     "name": "stdout",
     "output_type": "stream",
     "text": [
      "Model accuracy: 0.964\n",
      "Sample test \n",
      "Label: 5 \n",
      "Prediction: 6 \n",
      "Image:\n"
     ]
    },
    {
     "data": {
      "image/png": "[encoded data removed]",
      "text/plain": [
       "<matplotlib.figure.Figure at 0x7fb20777edd8>"
      ]
     },
     "metadata": {},
     "output_type": "display_data"
    }
   ],
   "source": [
    "# test accuracy\n",
    "print(\"Model accuracy:\", np.mean(predict(network, X_test)==y_test))\n",
    "\n",
    "# Test model\n",
    "idd = 8\n",
    "xtest = X_test[idd].reshape([1,784])\n",
    "plt.imshow(xtest[0].reshape([28,28]), cmap='gray')\n",
    "print(\"Sample test\",\"\\nLabel:\", y_test[idd],\"\\nPrediction:\", predict(network, xtest)[0], \"\\nImage:\")"
   ]
  },
  {
   "cell_type": "markdown",
   "metadata": {},
   "source": [
    "## Conclusion\n",
    "For MNIST problem, ReLU > Tanh > Sigmoid on convergence time.\n"
   ]
  },
  {
   "cell_type": "code",
   "execution_count": 56,
   "metadata": {},
   "outputs": [],
   "source": [
    "# net work with sigmoid, tanh as active functions\n",
    "\n",
    "# Input --> [Dense()+Tanh(), 100 units] --> [Dense()+Tanh(), 200 units] --> [Dense(), 10 units] --> Softmax()\n",
    "\n",
    "network = []\n",
    "# fisrt hidden layer, dense, 724 inputs, 100 units, 100 outputs\n",
    "# no active function\n",
    "network.append(Dense(X_train.shape[1], 100))\n",
    "# active layer\n",
    "network.append(Tanh())\n",
    "# second hidden layer, 100 inputs, 200 units, 200 outputs\n",
    "network.append(Dense(100, 200))\n",
    "# active layer\n",
    "network.append(Tanh())\n",
    "# output layer, 200 inputs, 10 units, 10 outputs\n",
    "network.append(Dense(200, 10))"
   ]
  },
  {
   "cell_type": "code",
   "execution_count": 47,
   "metadata": {},
   "outputs": [
    {
     "data": {
      "text/plain": [
       "[<__main__.Dense at 0x7fb2346a4ac8>,\n",
       " <__main__.Tanh at 0x7fb2346a4ba8>,\n",
       " <__main__.Dense at 0x7fb2346a4c50>,\n",
       " <__main__.Tanh at 0x7fb2346a4c18>,\n",
       " <__main__.Dense at 0x7fb2346a4cc0>]"
      ]
     },
     "execution_count": 47,
     "metadata": {},
     "output_type": "execute_result"
    }
   ],
   "source": [
    "network"
   ]
  },
  {
   "cell_type": "code",
   "execution_count": 57,
   "metadata": {},
   "outputs": [
    {
     "name": "stdout",
     "output_type": "stream",
     "text": [
      "Epoch 4\n",
      "Train accuracy 0.98188\n",
      "Validation accuracy 0.9708\n"
     ]
    },
    {
     "data": {
      "image/png": "[encoded data removed]",
      "text/plain": [
       "<matplotlib.figure.Figure at 0x7fb2074c1710>"
      ]
     },
     "metadata": {},
     "output_type": "display_data"
    }
   ],
   "source": [
    "# training\n",
    "# Remember to reset network before launching this cell\n",
    "\n",
    "from IPython.display import clear_output\n",
    "train_log = []\n",
    "val_log = []\n",
    "\n",
    "for epoch in range(5):\n",
    "    for x_batch, y_batch in \\\n",
    "        iterate_minibatches(\n",
    "            inputs=X_train, \n",
    "            targets=y_train,\n",
    "            batchsize=32,\n",
    "            shuffle=True\n",
    "        ):\n",
    "        train(network, x_batch, y_batch)\n",
    "        \n",
    "    train_log.append(np.mean(predict(network, X_train)==y_train))\n",
    "    val_log.append(np.mean(predict(network, X_val)==y_val))\n",
    "        \n",
    "    clear_output()\n",
    "    print(\"Epoch\", epoch)\n",
    "    print(\"Train accuracy\", train_log[-1])\n",
    "    print(\"Validation accuracy\", val_log[-1])\n",
    "    \n",
    "    plt.plot(train_log, label='train accuracy')\n",
    "    plt.plot(val_log, label='validation accuracy')\n",
    "    plt.legend(loc='best')\n",
    "    plt.grid()\n",
    "    plt.show()"
   ]
  },
  {
   "cell_type": "code",
   "execution_count": 58,
   "metadata": {},
   "outputs": [
    {
     "name": "stdout",
     "output_type": "stream",
     "text": [
      "Model accuracy: 0.9699\n",
      "Sample test \n",
      "Label: 5 \n",
      "Prediction: 6 \n",
      "Image:\n"
     ]
    },
    {
     "data": {
      "image/png": "[encoded data removed]",
      "text/plain": [
       "<matplotlib.figure.Figure at 0x7fb2076f00b8>"
      ]
     },
     "metadata": {},
     "output_type": "display_data"
    }
   ],
   "source": [
    "# test accuracy\n",
    "print(\"Model accuracy:\", np.mean(predict(network, X_test)==y_test))\n",
    "\n",
    "# Test model\n",
    "idd = 8\n",
    "xtest = X_test[idd].reshape([1,784])\n",
    "plt.imshow(xtest[0].reshape([28,28]), cmap='gray')\n",
    "print(\"Sample test\",\"\\nLabel:\", y_test[idd],\"\\nPrediction:\", predict(network, xtest)[0], \"\\nImage:\")"
   ]
  },
  {
   "cell_type": "code",
   "execution_count": 73,
   "metadata": {},
   "outputs": [
    {
     "name": "stdout",
     "output_type": "stream",
     "text": [
      "\n"
     ]
    },
    {
     "data": {
      "image/png": "[encoded data removed]",
      "text/plain": [
       "<matplotlib.figure.Figure at 0x7fb21493eeb8>"
      ]
     },
     "metadata": {},
     "output_type": "display_data"
    }
   ],
   "source": [
    "atv = forward(network, xtest)\n",
    "plt.imshow(((atv[3].reshape([10, 20])+1)/2*255).astype(int), cmap='gray')\n",
    "print(\"\")"
   ]
  },
  {
   "cell_type": "code",
   "execution_count": null,
   "metadata": {},
   "outputs": [],
   "source": []
  }
 ],
 "metadata": {
  "kernelspec": {
   "display_name": "Python 3",
   "language": "python",
   "name": "python3"
  },
  "language_info": {
   "codemirror_mode": {
    "name": "ipython",
    "version": 3
   },
   "file_extension": ".py",
   "mimetype": "text/x-python",
   "name": "python",
   "nbconvert_exporter": "python",
   "pygments_lexer": "ipython3",
   "version": "3.6.4"
  }
 },
 "nbformat": 4,
 "nbformat_minor": 2
}
