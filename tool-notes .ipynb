{
 "cells": [
  {
   "cell_type": "markdown",
   "metadata": {},
   "source": [
    "This notebook is used for sample code (libraries, algorithms, ...) "
   ]
  },
  {
   "cell_type": "markdown",
   "metadata": {},
   "source": [
    "- **Define sparse matrix with scipy**"
   ]
  },
  {
   "cell_type": "code",
   "execution_count": 2,
   "metadata": {},
   "outputs": [
    {
     "data": {
      "text/plain": [
       "array([[0., 1., 0., 0., 0.]], dtype=float32)"
      ]
     },
     "execution_count": 2,
     "metadata": {},
     "output_type": "execute_result"
    }
   ],
   "source": [
    "from scipy.sparse import lil_matrix\n",
    "# define matrix X, size 1x5\n",
    "# only element (0,1) = 1, all remained are 0\n",
    "X = lil_matrix((1,5)).astype('float32')\n",
    "X[0,1] = 1\n",
    "\n",
    "# convert to full numpy array\n",
    "X.toarray()"
   ]
  },
  {
   "cell_type": "code",
   "execution_count": 12,
   "metadata": {},
   "outputs": [
    {
     "data": {
      "text/plain": [
       "<5x5 sparse matrix of type '<class 'numpy.float64'>'\n",
       "\twith 1 stored elements in Compressed Sparse Row format>"
      ]
     },
     "execution_count": 12,
     "metadata": {},
     "output_type": "execute_result"
    }
   ],
   "source": [
    "Y = lil_matrix((1,5)).astype('int32')\n",
    "Y[0,3] = 1\n",
    "(X+Y).toarray()\n",
    "X.T.dot(Y)"
   ]
  },
  {
   "cell_type": "code",
   "execution_count": 14,
   "metadata": {},
   "outputs": [
    {
     "data": {
      "text/plain": [
       "array([[0., 0., 0., 0., 0.],\n",
       "       [0., 0., 0., 1., 0.],\n",
       "       [0., 0., 0., 0., 0.],\n",
       "       [0., 0., 0., 0., 0.],\n",
       "       [0., 0., 0., 0., 0.]])"
      ]
     },
     "execution_count": 14,
     "metadata": {},
     "output_type": "execute_result"
    }
   ],
   "source": [
    "X.T.dot(Y).toarray()"
   ]
  },
  {
   "cell_type": "code",
   "execution_count": 15,
   "metadata": {},
   "outputs": [
    {
     "data": {
      "text/plain": [
       "1.0"
      ]
     },
     "execution_count": 15,
     "metadata": {},
     "output_type": "execute_result"
    }
   ],
   "source": [
    "X.T.dot(Y)[1,3]"
   ]
  },
  {
   "cell_type": "markdown",
   "metadata": {},
   "source": [
    "- **Create a range with numpy arange**"
   ]
  },
  {
   "cell_type": "code",
   "execution_count": 20,
   "metadata": {},
   "outputs": [
    {
     "data": {
      "text/plain": [
       "array([0, 1, 2, 3, 4], dtype=uint64)"
      ]
     },
     "execution_count": 20,
     "metadata": {},
     "output_type": "execute_result"
    }
   ],
   "source": [
    "import numpy as np\n",
    "# arange([start,] stop[, step,], dtype=None)\n",
    "# Return evenly spaced values within a given interval.\n",
    "np.arange(0, 5, 1, dtype='uint')"
   ]
  },
  {
   "cell_type": "code",
   "execution_count": 22,
   "metadata": {},
   "outputs": [
    {
     "data": {
      "text/plain": [
       "array([-1. , -0.5,  0. ,  0.5], dtype=float32)"
      ]
     },
     "execution_count": 22,
     "metadata": {},
     "output_type": "execute_result"
    }
   ],
   "source": [
    "np.arange(start=-1, stop=1, step=0.5, dtype='float32')"
   ]
  },
  {
   "cell_type": "markdown",
   "metadata": {},
   "source": [
    "- **Create Descatian product of index**"
   ]
  },
  {
   "cell_type": "code",
   "execution_count": 27,
   "metadata": {},
   "outputs": [
    {
     "name": "stdout",
     "output_type": "stream",
     "text": [
      "[(0, 0, 0), (0, 0, 1), (0, 0, 2), (0, 1, 0), (0, 1, 1), (0, 1, 2)]\n"
     ]
    }
   ],
   "source": [
    "import itertools\n",
    "iterables = [range(1), range(2), range(3)]\n",
    "print(list(itertools.product(*iterables))) # 1x2x3 = 6 tuples"
   ]
  },
  {
   "cell_type": "markdown",
   "metadata": {},
   "source": [
    "- **Write and read JSON file**"
   ]
  },
  {
   "cell_type": "code",
   "execution_count": 46,
   "metadata": {
    "scrolled": true
   },
   "outputs": [
    {
     "name": "stdout",
     "output_type": "stream",
     "text": [
      "{\"0\":{\"Var\":-2.0,\"Sinus\":-2.0},\"1\":{\"Var\":-1.8,\"Sinus\":-1.8},\"2\":{\"Var\":-1.6,\"Sinus\":-1.6},\"3\":{\"Var\":-1.4,\"Sinus\":-1.4},\"4\":{\"Var\":-1.2,\"Sinus\":-1.2},\"5\":{\"Var\":-1.0,\"Sinus\":-1.0},\"6\":{\"Var\":-0.8,\"Sinus\":-0.8},\"7\":{\"Var\":-0.6,\"Sinus\":-0.6},\"8\":{\"Var\":-0.4,\"Sinus\":-0.4},\"9\":{\"Var\":-0.2,\"Sinus\":-0.2},\"10\":{\"Var\":-4.440892099e-16,\"Sinus\":-4.440892099e-16},\"11\":{\"Var\":0.2,\"Sinus\":0.2},\"12\":{\"Var\":0.4,\"Sinus\":0.4},\"13\":{\"Var\":0.6,\"Sinus\":0.6},\"14\":{\"Var\":0.8,\"Sinus\":0.8},\"15\":{\"Var\":1.0,\"Sinus\":1.0},\"16\":{\"Var\":1.2,\"Sinus\":1.2},\"17\":{\"Var\":1.4,\"Sinus\":1.4},\"18\":{\"Var\":1.6,\"Sinus\":1.6},\"19\":{\"Var\":1.8,\"Sinus\":1.8}}\n"
     ]
    }
   ],
   "source": [
    "import pandas as pd\n",
    "# create data frame variable and its sinus\n",
    "x1 = np.arange(-2,2,0.2)\n",
    "x2 = np.sin(x1)\n",
    "df = pd.DataFrame(data=np.append(x1.reshape(-1, 1), x1.reshape(-1, 1), axis=1), columns=['Var', 'Sinus'])\n",
    "\n",
    "# export to json\n",
    "df.to_json(path_or_buf='sin.json', orient='index')\n",
    "\n",
    "# Usually read file\n",
    "with open(file='sin.json', mode='r') as jfile:\n",
    "    for line in jfile.readlines():\n",
    "        print(line)"
   ]
  },
  {
   "cell_type": "code",
   "execution_count": 55,
   "metadata": {
    "scrolled": true
   },
   "outputs": [
    {
     "name": "stdout",
     "output_type": "stream",
     "text": [
      "JSON content:\n",
      " {'0': {'Var': -2.0, 'Sinus': -2.0}, '1': {'Var': -1.8, 'Sinus': -1.8}, '2': {'Var': -1.6, 'Sinus': -1.6}, '3': {'Var': -1.4, 'Sinus': -1.4}, '4': {'Var': -1.2, 'Sinus': -1.2}, '5': {'Var': -1.0, 'Sinus': -1.0}, '6': {'Var': -0.8, 'Sinus': -0.8}, '7': {'Var': -0.6, 'Sinus': -0.6}, '8': {'Var': -0.4, 'Sinus': -0.4}, '9': {'Var': -0.2, 'Sinus': -0.2}, '10': {'Var': -4.440892099e-16, 'Sinus': -4.440892099e-16}, '11': {'Var': 0.2, 'Sinus': 0.2}, '12': {'Var': 0.4, 'Sinus': 0.4}, '13': {'Var': 0.6, 'Sinus': 0.6}, '14': {'Var': 0.8, 'Sinus': 0.8}, '15': {'Var': 1.0, 'Sinus': 1.0}, '16': {'Var': 1.2, 'Sinus': 1.2}, '17': {'Var': 1.4, 'Sinus': 1.4}, '18': {'Var': 1.6, 'Sinus': 1.6}, '19': {'Var': 1.8, 'Sinus': 1.8}}\n",
      "================================================== \n",
      " Item by item print:\n",
      "key: 0 ; value: {'Var': -2.0, 'Sinus': -2.0}\n",
      "key: 1 ; value: {'Var': -1.8, 'Sinus': -1.8}\n",
      "key: 2 ; value: {'Var': -1.6, 'Sinus': -1.6}\n",
      "key: 3 ; value: {'Var': -1.4, 'Sinus': -1.4}\n",
      "key: 4 ; value: {'Var': -1.2, 'Sinus': -1.2}\n",
      "key: 5 ; value: {'Var': -1.0, 'Sinus': -1.0}\n",
      "key: 6 ; value: {'Var': -0.8, 'Sinus': -0.8}\n",
      "key: 7 ; value: {'Var': -0.6, 'Sinus': -0.6}\n",
      "key: 8 ; value: {'Var': -0.4, 'Sinus': -0.4}\n",
      "key: 9 ; value: {'Var': -0.2, 'Sinus': -0.2}\n",
      "key: 10 ; value: {'Var': -4.440892099e-16, 'Sinus': -4.440892099e-16}\n",
      "key: 11 ; value: {'Var': 0.2, 'Sinus': 0.2}\n",
      "key: 12 ; value: {'Var': 0.4, 'Sinus': 0.4}\n",
      "key: 13 ; value: {'Var': 0.6, 'Sinus': 0.6}\n",
      "key: 14 ; value: {'Var': 0.8, 'Sinus': 0.8}\n",
      "key: 15 ; value: {'Var': 1.0, 'Sinus': 1.0}\n",
      "key: 16 ; value: {'Var': 1.2, 'Sinus': 1.2}\n",
      "key: 17 ; value: {'Var': 1.4, 'Sinus': 1.4}\n",
      "key: 18 ; value: {'Var': 1.6, 'Sinus': 1.6}\n",
      "key: 19 ; value: {'Var': 1.8, 'Sinus': 1.8}\n"
     ]
    }
   ],
   "source": [
    "# JSON read\n",
    "import json\n",
    "with open(file='sin.json', mode='r') as f:\n",
    "    data = json.load(f)\n",
    "\n",
    "print('JSON content:\\n', data)\n",
    "print('='*50, '\\n', 'Item by item print:')\n",
    "for key in data.keys():\n",
    "    print('key:', key, '; value:', data[key])"
   ]
  },
  {
   "cell_type": "code",
   "execution_count": 56,
   "metadata": {},
   "outputs": [],
   "source": [
    "with open(file='sin.json', mode='w') as f:\n",
    "    json.dump(obj=data, fp=f)"
   ]
  },
  {
   "cell_type": "code",
   "execution_count": 57,
   "metadata": {},
   "outputs": [
    {
     "name": "stdout",
     "output_type": "stream",
     "text": [
      "{\"0\": {\"Var\": -2.0, \"Sinus\": -2.0}, \"1\": {\"Var\": -1.8, \"Sinus\": -1.8}, \"2\": {\"Var\": -1.6, \"Sinus\": -1.6}, \"3\": {\"Var\": -1.4, \"Sinus\": -1.4}, \"4\": {\"Var\": -1.2, \"Sinus\": -1.2}, \"5\": {\"Var\": -1.0, \"Sinus\": -1.0}, \"6\": {\"Var\": -0.8, \"Sinus\": -0.8}, \"7\": {\"Var\": -0.6, \"Sinus\": -0.6}, \"8\": {\"Var\": -0.4, \"Sinus\": -0.4}, \"9\": {\"Var\": -0.2, \"Sinus\": -0.2}, \"10\": {\"Var\": -4.440892099e-16, \"Sinus\": -4.440892099e-16}, \"11\": {\"Var\": 0.2, \"Sinus\": 0.2}, \"12\": {\"Var\": 0.4, \"Sinus\": 0.4}, \"13\": {\"Var\": 0.6, \"Sinus\": 0.6}, \"14\": {\"Var\": 0.8, \"Sinus\": 0.8}, \"15\": {\"Var\": 1.0, \"Sinus\": 1.0}, \"16\": {\"Var\": 1.2, \"Sinus\": 1.2}, \"17\": {\"Var\": 1.4, \"Sinus\": 1.4}, \"18\": {\"Var\": 1.6, \"Sinus\": 1.6}, \"19\": {\"Var\": 1.8, \"Sinus\": 1.8}}"
     ]
    }
   ],
   "source": [
    "!cat sin.json"
   ]
  },
  {
   "cell_type": "code",
   "execution_count": null,
   "metadata": {},
   "outputs": [],
   "source": []
  }
 ],
 "metadata": {
  "kernelspec": {
   "display_name": "Python 3",
   "language": "python",
   "name": "python3"
  },
  "language_info": {
   "codemirror_mode": {
    "name": "ipython",
    "version": 3
   },
   "file_extension": ".py",
   "mimetype": "text/x-python",
   "name": "python",
   "nbconvert_exporter": "python",
   "pygments_lexer": "ipython3",
   "version": "3.6.4"
  }
 },
 "nbformat": 4,
 "nbformat_minor": 2
}
