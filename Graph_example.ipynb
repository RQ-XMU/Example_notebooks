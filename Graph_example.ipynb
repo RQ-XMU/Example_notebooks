{
 "cells": [
  {
   "cell_type": "markdown",
   "metadata": {},
   "source": [
    "This notebook took code from [a medium post](https://becominghuman.ai/to-all-data-scientists-the-one-graph-algorithm-you-need-to-know-59178dbb1ec2)\n",
    "\n",
    "*You can think of Connected Components in very layman’s terms as sort of a hard clustering algorithm which finds clusters/islands in related/connected data. As a concrete example: Say you have data about roads joining any two cities in the world. And you need to find out all the continents in the world and which city they contain.*"
   ]
  },
  {
   "cell_type": "code",
   "execution_count": 1,
   "metadata": {},
   "outputs": [],
   "source": [
    "\"\"\" A Python Class\n",
    "A simple Python graph class, demonstrating the essential \n",
    "facts and functionalities of graphs.\n",
    "Taken from https://www.python-course.eu/graphs_python.php\n",
    "Changed the implementation a little bit to include weighted edges\n",
    "\"\"\"\n",
    "\n",
    "class Graph(object):\n",
    "    def __init__(self, graph_dict=None):\n",
    "        \"\"\" initializes a graph object \n",
    "            If no dictionary or None is given, \n",
    "            an empty dictionary will be used\n",
    "        \"\"\"\n",
    "        if graph_dict == None:\n",
    "            graph_dict = {}\n",
    "        self.__graph_dict = graph_dict\n",
    "\n",
    "    def vertices(self):\n",
    "        \"\"\" returns the vertices of a graph \"\"\"\n",
    "        return list(self.__graph_dict.keys())\n",
    "\n",
    "    def edges(self):\n",
    "        \"\"\" returns the edges of a graph \"\"\"\n",
    "        return self.__generate_edges()\n",
    "\n",
    "    def add_vertex(self, vertex):\n",
    "        \"\"\" If the vertex \"vertex\" is not in \n",
    "            self.__graph_dict, a key \"vertex\" with an empty\n",
    "            dict as a value is added to the dictionary. \n",
    "            Otherwise nothing has to be done. \n",
    "        \"\"\"\n",
    "        if vertex not in self.__graph_dict:\n",
    "            self.__graph_dict[vertex] = {}\n",
    "\n",
    "    def add_edge(self, edge, weight=1):\n",
    "        \"\"\" assumes that edge is of type set, tuple or list\n",
    "        \"\"\"\n",
    "        edge = set(edge)\n",
    "        (vertex1, vertex2) = tuple(edge)\n",
    "        if vertex1 in self.__graph_dict:\n",
    "            self.__graph_dict[vertex1][vertex2] = weight\n",
    "        else:\n",
    "            self.__graph_dict[vertex1] = {vertex2:weight}\n",
    "\n",
    "        if vertex2 in self.__graph_dict:\n",
    "            self.__graph_dict[vertex2][vertex1] = weight\n",
    "        else:\n",
    "            self.__graph_dict[vertex2] = {vertex1:weight}\n",
    "\n",
    "    def __generate_edges(self):\n",
    "        \"\"\" A static method generating the edges of the \n",
    "            graph \"graph\". Edges are represented as sets \n",
    "            with one (a loop back to the vertex) or two \n",
    "            vertices \n",
    "        \"\"\"\n",
    "        edges = []\n",
    "        for vertex in self.__graph_dict:\n",
    "            for neighbour, weight in self.__graph_dict[vertex].items():\n",
    "                if (neighbour, vertex, weight) not in edges:\n",
    "                    edges.append([vertex, neighbour, weight])\n",
    "        return edges\n",
    "\n",
    "    def __str__(self):\n",
    "        \"\"\"\n",
    "            Return graph representative in form of string\n",
    "        \"\"\"\n",
    "        res = \"vertices: \"\n",
    "        for k in self.__graph_dict:\n",
    "            res += str(k) + \" \"\n",
    "        res += \"\\nedges: \"\n",
    "        for edge in self.__generate_edges():\n",
    "            res += str(edge) + \" \"\n",
    "        return res\n",
    "    \n",
    "    def adj_mat(self):\n",
    "        \"\"\"\n",
    "        Return graph adjacent matrix\n",
    "        \"\"\"\n",
    "        return self.__graph_dict"
   ]
  },
  {
   "cell_type": "code",
   "execution_count": 2,
   "metadata": {},
   "outputs": [],
   "source": [
    "g = { \"a\": {\"d\": 2},\n",
    "      \"b\": {\"c\": 2},\n",
    "      \"c\": {\"b\": 5, \"d\": 3, \"e\": 5}\n",
    "    }\n",
    "graph = Graph(g)"
   ]
  },
  {
   "cell_type": "code",
   "execution_count": 3,
   "metadata": {},
   "outputs": [
    {
     "name": "stdout",
     "output_type": "stream",
     "text": [
      "Vertices of graph:\n",
      "['a', 'b', 'c']\n",
      "--------------------------------------------------\n",
      "Edges of graph:\n",
      "[['a', 'd', 2], ['b', 'c', 2], ['c', 'b', 5], ['c', 'd', 3], ['c', 'e', 5]]\n",
      "--------------------------------------------------\n",
      "Add vertex:\n",
      "Vertices of graph:\n",
      "['a', 'b', 'c', 'z']\n",
      "--------------------------------------------------\n",
      "Add an edge:\n",
      "Vertices of graph:\n",
      "['a', 'b', 'c', 'z']\n",
      "Edges of graph:\n",
      "[['a', 'd', 2], ['a', 'z', 1], ['b', 'c', 2], ['c', 'b', 5], ['c', 'd', 3], ['c', 'e', 5], ['z', 'a', 1]]\n",
      "--------------------------------------------------\n",
      "Adding an edge {\"x\",\"y\"} with new vertices:\n",
      "Vertices of graph:\n",
      "['a', 'b', 'c', 'z', 'x', 'y']\n",
      "Edges of graph:\n",
      "[['a', 'd', 2], ['a', 'z', 1], ['b', 'c', 2], ['c', 'b', 5], ['c', 'd', 3], ['c', 'e', 5], ['z', 'a', 1], ['x', 'y', 1], ['y', 'x', 1]]\n",
      "--------------------------------------------------\n"
     ]
    }
   ],
   "source": [
    "print(\"Vertices of graph:\")\n",
    "print(graph.vertices())\n",
    "print('-'*50)\n",
    "\n",
    "print(\"Edges of graph:\")\n",
    "print(graph.edges())\n",
    "print('-'*50)\n",
    "\n",
    "print(\"Add vertex:\")\n",
    "graph.add_vertex(\"z\")\n",
    "print(\"Vertices of graph:\")\n",
    "print(graph.vertices())\n",
    "print('-'*50)\n",
    "\n",
    "print(\"Add an edge:\")\n",
    "graph.add_edge({\"a\",\"z\"})    \n",
    "print(\"Vertices of graph:\")\n",
    "print(graph.vertices())\n",
    "print(\"Edges of graph:\")\n",
    "print(graph.edges())\n",
    "print('-'*50)\n",
    "\n",
    "print('Adding an edge {\"x\",\"y\"} with new vertices:')\n",
    "graph.add_edge({\"x\",\"y\"})\n",
    "print(\"Vertices of graph:\")\n",
    "print(graph.vertices())\n",
    "print(\"Edges of graph:\")\n",
    "print(graph.edges())\n",
    "print('-'*50)"
   ]
  },
  {
   "cell_type": "code",
   "execution_count": 4,
   "metadata": {},
   "outputs": [],
   "source": [
    "cities = {\n",
    "    'Frankfurt': {'Mannheim':85, 'Wurzburg':217, 'Kassel':173},\n",
    "    'Mannheim': {'Frankfurt':85, 'Karlsruhe':80},\n",
    "    'Karlsruhe': {'Augsburg':250, 'Mannheim':80},\n",
    "    'Augsburg': {'Karlsruhe':250, 'Munchen':84},\n",
    "    'Wurzburg': {'Erfurt':186, 'Numberg':103,'Frankfurt':217},\n",
    "    'Erfurt': {'Wurzburg':186},\n",
    "    'Numberg': {'Wurzburg':103, 'Stuttgart':183,'Munchen':167},\n",
    "    'Munchen': {'Numberg':167, 'Augsburg':84,'Kassel':502},\n",
    "    'Kassel': {'Frankfurt':173, 'Munchen':502},\n",
    "    'Stuttgart': {'Numberg':183}      \n",
    "} "
   ]
  },
  {
   "cell_type": "code",
   "execution_count": 5,
   "metadata": {},
   "outputs": [
    {
     "name": "stdout",
     "output_type": "stream",
     "text": [
      "Vertices of graph:\n",
      "['Frankfurt', 'Mannheim', 'Karlsruhe', 'Augsburg', 'Wurzburg', 'Erfurt', 'Numberg', 'Munchen', 'Kassel', 'Stuttgart']\n",
      "--------------------------------------------------\n",
      "Edges of graph:\n",
      "[['Frankfurt', 'Mannheim', 85], ['Frankfurt', 'Wurzburg', 217], ['Frankfurt', 'Kassel', 173], ['Mannheim', 'Frankfurt', 85], ['Mannheim', 'Karlsruhe', 80], ['Karlsruhe', 'Augsburg', 250], ['Karlsruhe', 'Mannheim', 80], ['Augsburg', 'Karlsruhe', 250], ['Augsburg', 'Munchen', 84], ['Wurzburg', 'Erfurt', 186], ['Wurzburg', 'Numberg', 103], ['Wurzburg', 'Frankfurt', 217], ['Erfurt', 'Wurzburg', 186], ['Numberg', 'Wurzburg', 103], ['Numberg', 'Stuttgart', 183], ['Numberg', 'Munchen', 167], ['Munchen', 'Numberg', 167], ['Munchen', 'Augsburg', 84], ['Munchen', 'Kassel', 502], ['Kassel', 'Frankfurt', 173], ['Kassel', 'Munchen', 502], ['Stuttgart', 'Numberg', 183]]\n"
     ]
    }
   ],
   "source": [
    "graph = Graph(cities)\n",
    "print(\"Vertices of graph:\") \n",
    "print(graph.vertices())\n",
    "print('-'*50)\n",
    "print(\"Edges of graph:\") \n",
    "print(graph.edges())"
   ]
  },
  {
   "cell_type": "markdown",
   "metadata": {},
   "source": [
    "Let's say we are given a graph with the cities of Germany and the respective distance between them. **You want to find out how to go from Frankfurt (The starting node) to Munchen**. There might be many ways in which you can traverse the graph but you need to find how many cities you will need to visit on a minimum to go from Frankfurt to Munchen) This problem is analogous to finding out the distance between nodes in an unweighted graph.\n",
    "\n",
    "![](https://cdn-images-1.medium.com/max/1263/1*l5oANTUZ1SY718VODOnu5Q.png)\n",
    "\n",
    "The algorithm that we use here is called as **Breadth First Search**."
   ]
  },
  {
   "cell_type": "code",
   "execution_count": 6,
   "metadata": {},
   "outputs": [],
   "source": [
    "def min_num_edges_between_nodes(graph, start_node):\n",
    "    \"\"\"\n",
    "    Calculate minimum edges between start_node and any other graph's node\n",
    "    \"\"\"\n",
    "    # distance = 0\n",
    "    shortest_path = []\n",
    "    queue = [start_node] # first in first out\n",
    "    \n",
    "    levels = {}\n",
    "    levels[start_node] = 0 \n",
    "    \n",
    "    shortest_paths = {}\n",
    "    shortest_paths[start_node] = \":\"\n",
    "    \n",
    "    visited = [start_node]\n",
    "        \n",
    "    while len(queue)!=0:  # when there's still some citites to visit\n",
    "        start = queue.pop(0)  # take the first city in list\n",
    "        neighbours = graph[start]  # take neighbours of that cities\n",
    "        \n",
    "        for neighbour,_ in neighbours.items():\n",
    "            # if the city was visited, do nothing\n",
    "            # else\n",
    "            if neighbour not in visited:\n",
    "                queue.append(neighbour)  # append city to must_visit list\n",
    "                levels[neighbour] = levels[start]+1  # increase level\n",
    "                shortest_paths[neighbour] = shortest_paths[start] +\"->\"+ start  # format path\n",
    "                visited.append(neighbour)  # append city to visited list\n",
    "                \n",
    "    return levels, shortest_paths"
   ]
  },
  {
   "cell_type": "code",
   "execution_count": 7,
   "metadata": {},
   "outputs": [
    {
     "data": {
      "text/plain": [
       "({'Augsburg': 3,\n",
       "  'Erfurt': 2,\n",
       "  'Frankfurt': 0,\n",
       "  'Karlsruhe': 2,\n",
       "  'Kassel': 1,\n",
       "  'Mannheim': 1,\n",
       "  'Munchen': 2,\n",
       "  'Numberg': 2,\n",
       "  'Stuttgart': 3,\n",
       "  'Wurzburg': 1},\n",
       " {'Augsburg': ':->Frankfurt->Mannheim->Karlsruhe',\n",
       "  'Erfurt': ':->Frankfurt->Wurzburg',\n",
       "  'Frankfurt': ':',\n",
       "  'Karlsruhe': ':->Frankfurt->Mannheim',\n",
       "  'Kassel': ':->Frankfurt',\n",
       "  'Mannheim': ':->Frankfurt',\n",
       "  'Munchen': ':->Frankfurt->Kassel',\n",
       "  'Numberg': ':->Frankfurt->Wurzburg',\n",
       "  'Stuttgart': ':->Frankfurt->Wurzburg->Numberg',\n",
       "  'Wurzburg': ':->Frankfurt'})"
      ]
     },
     "execution_count": 7,
     "metadata": {},
     "output_type": "execute_result"
    }
   ],
   "source": [
    "min_num_edges_between_nodes(graph.adj_mat(), 'Frankfurt')"
   ]
  },
  {
   "cell_type": "code",
   "execution_count": 8,
   "metadata": {},
   "outputs": [],
   "source": [
    "#We add another countries in the loop \n",
    "graph = Graph(cities)\n",
    "graph.add_edge((\"Mumbai\", \"Delhi\"), 400)\n",
    "graph.add_edge((\"Delhi\", \"Kolkata\"), 500)\n",
    "graph.add_edge((\"Kolkata\", \"Bangalore\"), 600)\n",
    "graph.add_edge((\"TX\", \"NY\"), 1200)\n",
    "graph.add_edge((\"ALB\", \"NY\"), 800)\n",
    "\n",
    "cities = graph.adj_mat()"
   ]
  },
  {
   "cell_type": "code",
   "execution_count": 9,
   "metadata": {},
   "outputs": [],
   "source": [
    "def bfs_connected_components(graph):\n",
    "    \"\"\"\n",
    "    Return groups of connected nodes in graph\n",
    "    \"\"\"\n",
    "    connected_components = []\n",
    "    nodes = list(graph.keys())\n",
    "\n",
    "    while len(nodes)!=0:  # while there's still some nodes\n",
    "        start_node = nodes.pop()  # take the first node and remove it from node list\n",
    "        queue = [start_node]  #FIFO\n",
    "        visited = [start_node]  # initialize visited nodes\n",
    "        \n",
    "        while len(queue)!=0:  # while there's still some nodes for current visited list\n",
    "            start = queue[0]  # take the first node and remove it from queue\n",
    "            queue.remove(start)\n",
    "            neighbours = graph[start]  # take neighbor nodes of current node\n",
    "            for neighbour,_ in neighbours.items():\n",
    "                # if neighbor node is in visited list, do nothing\n",
    "                # else add to current visited list\n",
    "                #      remove from graph node list\n",
    "                #      add to queue for seraching other neighbors\n",
    "                \n",
    "                if neighbour not in visited:\n",
    "                    queue.append(neighbour)\n",
    "                    visited.append(neighbour)\n",
    "                    nodes.remove(neighbour)\n",
    "                    \n",
    "        connected_components.append(visited)\n",
    "        \n",
    "    return connected_components"
   ]
  },
  {
   "cell_type": "code",
   "execution_count": 10,
   "metadata": {},
   "outputs": [
    {
     "data": {
      "text/plain": [
       "{'ALB': {'NY': 800},\n",
       " 'Augsburg': {'Karlsruhe': 250, 'Munchen': 84},\n",
       " 'Bangalore': {'Kolkata': 600},\n",
       " 'Delhi': {'Kolkata': 500, 'Mumbai': 400},\n",
       " 'Erfurt': {'Wurzburg': 186},\n",
       " 'Frankfurt': {'Kassel': 173, 'Mannheim': 85, 'Wurzburg': 217},\n",
       " 'Karlsruhe': {'Augsburg': 250, 'Mannheim': 80},\n",
       " 'Kassel': {'Frankfurt': 173, 'Munchen': 502},\n",
       " 'Kolkata': {'Bangalore': 600, 'Delhi': 500},\n",
       " 'Mannheim': {'Frankfurt': 85, 'Karlsruhe': 80},\n",
       " 'Mumbai': {'Delhi': 400},\n",
       " 'Munchen': {'Augsburg': 84, 'Kassel': 502, 'Numberg': 167},\n",
       " 'NY': {'ALB': 800, 'TX': 1200},\n",
       " 'Numberg': {'Munchen': 167, 'Stuttgart': 183, 'Wurzburg': 103},\n",
       " 'Stuttgart': {'Numberg': 183},\n",
       " 'TX': {'NY': 1200},\n",
       " 'Wurzburg': {'Erfurt': 186, 'Frankfurt': 217, 'Numberg': 103}}"
      ]
     },
     "execution_count": 10,
     "metadata": {},
     "output_type": "execute_result"
    }
   ],
   "source": [
    "cities"
   ]
  },
  {
   "cell_type": "code",
   "execution_count": 11,
   "metadata": {},
   "outputs": [
    {
     "name": "stdout",
     "output_type": "stream",
     "text": [
      "[['ALB', 'NY', 'TX'], ['Bangalore', 'Kolkata', 'Delhi', 'Mumbai'], ['Stuttgart', 'Numberg', 'Wurzburg', 'Munchen', 'Erfurt', 'Frankfurt', 'Augsburg', 'Kassel', 'Mannheim', 'Karlsruhe']]\n"
     ]
    }
   ],
   "source": [
    "print(bfs_connected_components(cities))"
   ]
  },
  {
   "cell_type": "code",
   "execution_count": null,
   "metadata": {},
   "outputs": [],
   "source": []
  }
 ],
 "metadata": {
  "kernelspec": {
   "display_name": "Python 3",
   "language": "python",
   "name": "python3"
  },
  "language_info": {
   "codemirror_mode": {
    "name": "ipython",
    "version": 3
   },
   "file_extension": ".py",
   "mimetype": "text/x-python",
   "name": "python",
   "nbconvert_exporter": "python",
   "pygments_lexer": "ipython3",
   "version": "3.6.4"
  }
 },
 "nbformat": 4,
 "nbformat_minor": 2
}
